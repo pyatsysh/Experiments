{
 "cells": [
  {
   "cell_type": "markdown",
   "metadata": {},
   "source": [
    "# Python idioms"
   ]
  },
  {
   "cell_type": "markdown",
   "metadata": {
    "ExecuteTime": {
     "end_time": "2019-12-02T20:51:16.802115Z",
     "start_time": "2019-12-02T20:51:16.799682Z"
    }
   },
   "source": [
    "### Inline statements"
   ]
  },
  {
   "cell_type": "code",
   "execution_count": 4,
   "metadata": {
    "ExecuteTime": {
     "end_time": "2019-12-02T20:51:33.323008Z",
     "start_time": "2019-12-02T20:51:33.318685Z"
    }
   },
   "outputs": [
    {
     "data": {
      "text/plain": [
       "4"
      ]
     },
     "execution_count": 4,
     "metadata": {},
     "output_type": "execute_result"
    }
   ],
   "source": [
    "def FindBigger(A,B):\n",
    "    return A if A > B else B\n",
    "FindBigger(2,4)"
   ]
  },
  {
   "cell_type": "markdown",
   "metadata": {},
   "source": [
    "### Negative indexing\n",
    "First index is zero. Top of range is non-inclusive (one bigger than in MATLAB). Bottom of range is inclusive. Third parameter is step."
   ]
  },
  {
   "cell_type": "code",
   "execution_count": 14,
   "metadata": {
    "ExecuteTime": {
     "end_time": "2019-12-02T20:55:52.637518Z",
     "start_time": "2019-12-02T20:55:52.632881Z"
    }
   },
   "outputs": [
    {
     "name": "stdout",
     "output_type": "stream",
     "text": [
      "4\n",
      "[2, 3, 4]\n",
      "[2, 3]\n",
      "[2, 4]\n"
     ]
    }
   ],
   "source": [
    "s = [1,2,3,4]\n",
    "print(s[-1])\n",
    "print(s[-3:])\n",
    "print(s[-3:-1])\n",
    "print(s[-3::2])"
   ]
  },
  {
   "cell_type": "markdown",
   "metadata": {},
   "source": [
    "### 1. Unpack a generator in `print()`"
   ]
  },
  {
   "cell_type": "markdown",
   "metadata": {},
   "source": [
    "Recall that `*arg` unpacks the argument `arg`."
   ]
  },
  {
   "cell_type": "code",
   "execution_count": 11,
   "metadata": {},
   "outputs": [
    {
     "name": "stdout",
     "output_type": "stream",
     "text": [
      "0, 1, 2, 3, 4, 5, 6, 7, 8, 9, 10, 11, 12, 13, 14, 15, 16, 17, 18, 19\n"
     ]
    }
   ],
   "source": [
    "print(*(i for i in range(0,20)), sep = ', ')"
   ]
  },
  {
   "cell_type": "markdown",
   "metadata": {},
   "source": [
    "printing directly just gives the object:"
   ]
  },
  {
   "cell_type": "code",
   "execution_count": 10,
   "metadata": {},
   "outputs": [
    {
     "name": "stdout",
     "output_type": "stream",
     "text": [
      "<generator object <genexpr> at 0x105fabb48>\n"
     ]
    }
   ],
   "source": [
    "print(i for i in range(0,20))"
   ]
  },
  {
   "cell_type": "markdown",
   "metadata": {},
   "source": [
    "### 2. `for`-loop nested shorthand"
   ]
  },
  {
   "cell_type": "markdown",
   "metadata": {},
   "source": [
    "`for x in <iterable>` returns `x` iterating over `<iterable>`. This `x` can be a list, and can be re-used in another `for`. Below is a nest of 3 for-loops: outer over z, then over x, then over a. The iterator of each outer loop is passed on to the inner loop. **But the operation performed by the inner-most loop is stated at the beginning.**"
   ]
  },
  {
   "cell_type": "code",
   "execution_count": 7,
   "metadata": {
    "ExecuteTime": {
     "end_time": "2019-12-01T22:19:52.883554Z",
     "start_time": "2019-12-01T22:19:52.879017Z"
    }
   },
   "outputs": [
    {
     "data": {
      "text/plain": [
       "['1', '2', '2', '3', '2', '3', '4', '5']"
      ]
     },
     "execution_count": 7,
     "metadata": {},
     "output_type": "execute_result"
    }
   ],
   "source": [
    "[str(a) for z in [1, 2] for x in [z,2*z] for a in [x,x+1]]"
   ]
  },
  {
   "cell_type": "code",
   "execution_count": 18,
   "metadata": {},
   "outputs": [
    {
     "name": "stdout",
     "output_type": "stream",
     "text": [
      "0 3 6 9\n"
     ]
    }
   ],
   "source": [
    "nested_list = [[0, 1], [2, 3], [4, 5], [6, 7], [8, 9]]\n",
    "\n",
    "# nested list comprehension version\n",
    "result = (x for sublist in nested_list for x in sublist if x % 3 == 0)\n",
    "print(*result)"
   ]
  },
  {
   "cell_type": "markdown",
   "metadata": {},
   "source": [
    "The above can be made clearer with indentation"
   ]
  },
  {
   "cell_type": "code",
   "execution_count": 21,
   "metadata": {},
   "outputs": [
    {
     "name": "stdout",
     "output_type": "stream",
     "text": [
      "[0, 3, 6, 9]\n"
     ]
    }
   ],
   "source": [
    "# funny indentation pattern to make the similarities clearer\n",
    "result = [x \n",
    "for sublist in nested_list\n",
    "    for x in sublist\n",
    "        if x % 3 == 0\n",
    "]\n",
    "print(result)"
   ]
  },
  {
   "cell_type": "markdown",
   "metadata": {},
   "source": [
    "### 3. `for`-loop induced scoping"
   ]
  },
  {
   "cell_type": "markdown",
   "metadata": {},
   "source": [
    "Below, the inner `for`-loop cannot access the outer `for`-loop index:"
   ]
  },
  {
   "cell_type": "code",
   "execution_count": 47,
   "metadata": {},
   "outputs": [
    {
     "name": "stdout",
     "output_type": "stream",
     "text": [
      "|outer=0 |outer=1 inner=0 |outer=2 inner=0 inner=1 |outer=3 inner=0 inner=1 inner=2 |outer=4 inner=0 inner=1 inner=2 inner=3 "
     ]
    }
   ],
   "source": [
    "for i in range(5):\n",
    "    print(f'|outer={i}', end = ' ')\n",
    "    for i in range(i): # here we are defining an inner i, which is not accessible by the outer i\n",
    "        print(f'inner={i}', end = ' ')"
   ]
  },
  {
   "cell_type": "markdown",
   "metadata": {},
   "source": [
    "Can we even access the outer loop index?"
   ]
  },
  {
   "cell_type": "code",
   "execution_count": 8,
   "metadata": {
    "ExecuteTime": {
     "end_time": "2019-12-01T22:30:07.972529Z",
     "start_time": "2019-12-01T22:30:07.965703Z"
    }
   },
   "outputs": [
    {
     "name": "stdout",
     "output_type": "stream",
     "text": [
      "i=1, j=0|i=2, j=0|i=2, j=1|i=3, j=0|i=3, j=1|i=3, j=2|i=4, j=0|i=4, j=1|i=4, j=2|i=4, j=3|"
     ]
    }
   ],
   "source": [
    "for i in range(5):\n",
    "    for j in range(i): # here we are defining an inner i, which is not accessible by the outer i\n",
    "        print(f'i={i}, j={j}', end = '|')"
   ]
  },
  {
   "cell_type": "markdown",
   "metadata": {},
   "source": [
    "### 4. `for`-loop changing iterable"
   ]
  },
  {
   "cell_type": "markdown",
   "metadata": {},
   "source": [
    "Create a copy of a by doing `a[:]` -- compare vs copy(a)"
   ]
  },
  {
   "cell_type": "code",
   "execution_count": 4,
   "metadata": {},
   "outputs": [
    {
     "name": "stdout",
     "output_type": "stream",
     "text": [
      "[1, 2, 4]\n"
     ]
    }
   ],
   "source": [
    "a = [-1, 1, -2, 2, -3, 4]\n",
    "for x in a[:]:\n",
    "    if x < 0: a.remove(x)\n",
    "print(a)"
   ]
  },
  {
   "cell_type": "markdown",
   "metadata": {},
   "source": [
    "# TODO: "
   ]
  },
  {
   "cell_type": "markdown",
   "metadata": {},
   "source": [
    "### 1. Practice `regexp` -- do Google tutorial exercise"
   ]
  },
  {
   "cell_type": "markdown",
   "metadata": {},
   "source": [
    "<https://developers.google.com/edu/python/exercises/baby-names>"
   ]
  },
  {
   "cell_type": "markdown",
   "metadata": {},
   "source": [
    "### 2. Practice generators (find exercises and tutorial)"
   ]
  },
  {
   "cell_type": "markdown",
   "metadata": {},
   "source": [
    "Understand this:"
   ]
  },
  {
   "cell_type": "code",
   "execution_count": 5,
   "metadata": {},
   "outputs": [
    {
     "name": "stdout",
     "output_type": "stream",
     "text": [
      "a\tb\tg\td\te\tz\tet\tth\ti\tk\tl\tmu\tn\txi\to\tpi\tr\ts\n",
      "4\t9\t19\t12\t15\t3\t1\t20\t5\t4\t20\t1\t9\t12\t2\t15\t14\t5\n"
     ]
    }
   ],
   "source": [
    "from fractions import Fraction as F\n",
    "\n",
    "results = [(a, b, g, d, e, z, et, th, i, k, th, mu, n, xi, o, pi, r, s)\n",
    "    for th in range(1, 27)\n",
    "    for o in range(1, 27)\n",
    "    for r in range(1, 27)\n",
    "    if 2*(th**2) + o**2 + r**2 == 1000\n",
    "    for s in range(1, 27)\n",
    "    for z in range(1, 27)\n",
    "    if (th**2 * z**2 * (s - z) + s**2) == 7225\n",
    "    for g in range(1, 27)\n",
    "    for d in range(1, 27)\n",
    "    for xi in range(1, 27)\n",
    "    if (g-1)**2 + d**2 + xi**2 - xi == 600\n",
    "    for (et, i) in ((xi-7, xi-11), (xi-11,xi-7), (xi+7, xi+11), (xi+11, xi+7))\n",
    "    if 0 < et <= 26 and 0 < i <= 26\n",
    "    for (a, mu) in ((4, 1), (2, 2), (1, 4))\n",
    "    for pi in range(1, 27)\n",
    "    if a*(a+pi) == 4 * g\n",
    "    for k in (3,4)\n",
    "    for b in range(1, 27)\n",
    "    for e in range(1, 27)\n",
    "    for n in range(1, 27)\n",
    "    if b**3 + z**3 + n**3 + o**9 == 1997\n",
    "    if F(a, k)**2 + F(b, n)**2 + F(d, xi)**2 + F(e, pi)**2 + F(et, mu)**2 + F(i, s)**2 == 6\n",
    "]\n",
    "\n",
    "print('\\t'.join(('a', 'b', 'g', 'd', 'e', 'z', 'et', 'th', 'i', 'k', 'l', 'mu', 'n', 'xi', 'o', 'pi', 'r', 's')))\n",
    "for r in results:\n",
    "    print('\\t'.join(map(str, r)))\n",
    "\n",
    "# Output, in ~4 seconds:\n",
    "# a   b   g   d   e   z   et  th  i   k   l   mu  n   xi  o   pi  r   s\n",
    "# 4   9   19  12  15  3   1   20  5   4   20  1   9   12  2   15  14  5"
   ]
  },
  {
   "cell_type": "markdown",
   "metadata": {},
   "source": [
    "### 3. Make myself familiar with Computer Science libraries: `collections`, `itertools`"
   ]
  },
  {
   "cell_type": "code",
   "execution_count": 3,
   "metadata": {
    "ExecuteTime": {
     "end_time": "2019-12-01T17:50:22.264962Z",
     "start_time": "2019-12-01T17:50:22.258775Z"
    }
   },
   "outputs": [
    {
     "name": "stdout",
     "output_type": "stream",
     "text": [
      "['a', 'B', 'c', 'C']\n",
      "[1, 2, 3]\n",
      "[]\n"
     ]
    }
   ],
   "source": [
    "# group-by jiujitsu: eleminate repeated values\n",
    "from itertools import groupby\n",
    "\n",
    "def unique_in_order(iterable):\n",
    "    return [k for (k, _) in groupby(iterable)]\n",
    "\n",
    "print(unique_in_order('aaBBcC'))\n",
    "print(unique_in_order([1,1,2,3,3]))\n",
    "print(unique_in_order([]))\n"
   ]
  },
  {
   "cell_type": "code",
   "execution_count": 3,
   "metadata": {},
   "outputs": [
    {
     "name": "stdout",
     "output_type": "stream",
     "text": [
      "2\n"
     ]
    }
   ],
   "source": [
    "# eliminate duplicates (case insesitive), without creating lists in-memory, but by iterating over generators\n",
    "from itertools import groupby\n",
    "t = 'aA11'\n",
    "print(sum((sum(1 for i in g)>1 for _,g in groupby(sorted(t.lower())))))\n"
   ]
  },
  {
   "cell_type": "markdown",
   "metadata": {
    "ExecuteTime": {
     "end_time": "2019-12-01T23:11:46.571131Z",
     "start_time": "2019-12-01T23:11:46.483559Z"
    }
   },
   "source": [
    "Number of elements generated by a generator:"
   ]
  },
  {
   "cell_type": "code",
   "execution_count": 1,
   "metadata": {
    "ExecuteTime": {
     "end_time": "2019-12-01T23:12:07.682718Z",
     "start_time": "2019-12-01T23:12:07.679443Z"
    }
   },
   "outputs": [
    {
     "data": {
      "text/plain": [
       "10"
      ]
     },
     "execution_count": 1,
     "metadata": {},
     "output_type": "execute_result"
    }
   ],
   "source": [
    "it = range(10)\n",
    "\n",
    "sum(1 for i in it)"
   ]
  },
  {
   "cell_type": "code",
   "execution_count": null,
   "metadata": {},
   "outputs": [],
   "source": []
  }
 ],
 "metadata": {
  "kernelspec": {
   "display_name": "Python 3",
   "language": "python",
   "name": "python3"
  },
  "language_info": {
   "codemirror_mode": {
    "name": "ipython",
    "version": 3
   },
   "file_extension": ".py",
   "mimetype": "text/x-python",
   "name": "python",
   "nbconvert_exporter": "python",
   "pygments_lexer": "ipython3",
   "version": "3.7.5"
  },
  "latex_envs": {
   "LaTeX_envs_menu_present": true,
   "autoclose": false,
   "autocomplete": false,
   "bibliofile": "biblio.bib",
   "cite_by": "apalike",
   "current_citInitial": 1,
   "eqLabelWithNumbers": true,
   "eqNumInitial": 1,
   "hotkeys": {
    "equation": "Ctrl-E",
    "itemize": "Ctrl-I"
   },
   "labels_anchors": false,
   "latex_user_defs": false,
   "report_style_numbering": false,
   "user_envs_cfg": false
  },
  "toc": {
   "base_numbering": 1,
   "nav_menu": {},
   "number_sections": true,
   "sideBar": true,
   "skip_h1_title": false,
   "title_cell": "Table of Contents",
   "title_sidebar": "Contents",
   "toc_cell": false,
   "toc_position": {},
   "toc_section_display": true,
   "toc_window_display": false
  }
 },
 "nbformat": 4,
 "nbformat_minor": 2
}
