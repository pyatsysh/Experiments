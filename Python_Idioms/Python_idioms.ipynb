{
 "cells": [
  {
   "cell_type": "markdown",
   "metadata": {},
   "source": [
    "Python idioms\n",
    "==========="
   ]
  },
  {
   "cell_type": "markdown",
   "metadata": {},
   "source": [
    "## Functional programming"
   ]
  },
  {
   "cell_type": "markdown",
   "metadata": {},
   "source": [
    "Counter to MATLAB, f(g(x)) evaluates like this: 1. g(x) 2. f(x). In MATLAB, its 1.f(x) 2. g(x): we first enter f(), then call g() from inside it. In Python, we compute g(x), then pass the result in f().\n",
    "\n",
    "Funs can be input and output of functions (this is called higher-order funs)\n",
    "\n",
    "This is a tutorial to do, and then practice functional programming on codewars\n",
    "https://composingprograms.com/pages/16-higher-order-functions.html "
   ]
  },
  {
   "cell_type": "code",
   "execution_count": 5,
   "metadata": {},
   "outputs": [
    {
     "data": {
      "text/plain": [
       "5"
      ]
     },
     "execution_count": 5,
     "metadata": {},
     "output_type": "execute_result"
    }
   ],
   "source": [
    "(lambda x,y:x+y)(2,3)"
   ]
  },
  {
   "cell_type": "code",
   "execution_count": 8,
   "metadata": {},
   "outputs": [
    {
     "data": {
      "text/plain": [
       "'even'"
      ]
     },
     "execution_count": 8,
     "metadata": {},
     "output_type": "execute_result"
    }
   ],
   "source": [
    "(lambda x: (x % 2 and 'odd' or 'even'))(12)"
   ]
  },
  {
   "cell_type": "code",
   "execution_count": 3,
   "metadata": {},
   "outputs": [
    {
     "name": "stdout",
     "output_type": "stream",
     "text": [
      "6 2.0\n"
     ]
    }
   ],
   "source": [
    "# create functional arithmetic\n",
    "# notice that MATLAB-like intuition would lead to divided_by and minus applied in the wrong order\n",
    "def zero(f = None): return 0 if not f else f(0)\n",
    "def one(f = None): return 1 if not f else f(1)\n",
    "def two(f = None): return 2 if not f else f(2)\n",
    "def three(f = None): return 3 if not f else f(3)\n",
    "def four(f = None): return 4 if not f else f(4)\n",
    "def five(f = None): return 5 if not f else f(5)\n",
    "def six(f = None): return 6 if not f else f(6)\n",
    "def seven(f = None): return 7 if not f else f(7)\n",
    "def eight(f = None): return 8 if not f else f(8)\n",
    "def nine(f = None): return 9 if not f else f(9)\n",
    "\n",
    "def plus(y): return lambda x: x+y\n",
    "def minus(y): return lambda x: x-y\n",
    "def times(y): return lambda  x: x*y\n",
    "def divided_by(y): return lambda  x: x/y\n",
    "\n",
    "\n",
    "print(two(times(three())),\n",
    "      six(divided_by(three())), sep = '|')"
   ]
  },
  {
   "cell_type": "code",
   "execution_count": 4,
   "metadata": {},
   "outputs": [
    {
     "name": "stdout",
     "output_type": "stream",
     "text": [
      "6|2.0\n"
     ]
    }
   ],
   "source": [
    "# Same as above: functional arithmetic, but implemented differently\n",
    "id_ = lambda x: x\n",
    "number = lambda x: lambda f=id_: f(x)\n",
    "zero, one, two, three, four, five, six, seven, eight, nine = map(number, range(10))\n",
    "\n",
    "plus = lambda x: lambda y: y + x\n",
    "minus = lambda x: lambda y: y - x\n",
    "times = lambda x: lambda y: y * x\n",
    "divided_by = lambda x: lambda y: y / x\n",
    "\n",
    "print(two(times(three())),\n",
    "      six(divided_by(three())), sep = '|')"
   ]
  },
  {
   "cell_type": "code",
   "execution_count": null,
   "metadata": {},
   "outputs": [],
   "source": [
    "# function composition\n",
    "compose = lambda f, g: lambda x: f( g(x) )\n",
    "from math import sin, asin\n",
    "sin_asin = compose(sin, asin)\n",
    "sin_asin(0.5)"
   ]
  },
  {
   "cell_type": "markdown",
   "metadata": {},
   "source": [
    "## Deep copying of lists and other compound objects"
   ]
  },
  {
   "cell_type": "code",
   "execution_count": 83,
   "metadata": {},
   "outputs": [
    {
     "name": "stdout",
     "output_type": "stream",
     "text": [
      "[1, 2]\n",
      "[1, 0]\n",
      "-----\n",
      "[1, 2]\n",
      "[0, 0]\n",
      "-----\n",
      "[1, 2]\n",
      "[0, 2]\n",
      "-----\n"
     ]
    }
   ],
   "source": [
    "# assignement will simply define a new pointer to the same data -- shallow copy\n",
    "a = [1,2]\n",
    "b = a\n",
    "print(b)\n",
    "b[1]=0\n",
    "print(a)\n",
    "print('-----')\n",
    "\n",
    "# do not confuse with re-assignement\n",
    "a = [1,2]\n",
    "b = a\n",
    "b = [0,0]\n",
    "print(a)\n",
    "print(b)\n",
    "print('-----')\n",
    "\n",
    "# deep copy (proper copy, ''deep'' use of memory)\n",
    "b = a.copy() # is is same as a[:]\n",
    "b[0]=0\n",
    "print(a)\n",
    "print(b)\n",
    "print('-----')"
   ]
  },
  {
   "cell_type": "markdown",
   "metadata": {
    "ExecuteTime": {
     "end_time": "2019-12-02T20:51:16.802115Z",
     "start_time": "2019-12-02T20:51:16.799682Z"
    }
   },
   "source": [
    "## Smart Inlines"
   ]
  },
  {
   "cell_type": "code",
   "execution_count": 4,
   "metadata": {
    "ExecuteTime": {
     "end_time": "2019-12-02T20:51:33.323008Z",
     "start_time": "2019-12-02T20:51:33.318685Z"
    }
   },
   "outputs": [
    {
     "data": {
      "text/plain": [
       "4"
      ]
     },
     "execution_count": 4,
     "metadata": {},
     "output_type": "execute_result"
    }
   ],
   "source": [
    "def FindBigger(A,B):\n",
    "    return A if A > B else B\n",
    "FindBigger(2,4)"
   ]
  },
  {
   "cell_type": "markdown",
   "metadata": {},
   "source": [
    "Inline assignement"
   ]
  },
  {
   "cell_type": "code",
   "execution_count": 2,
   "metadata": {},
   "outputs": [
    {
     "data": {
      "text/plain": [
       "[55, 89, True]"
      ]
     },
     "execution_count": 2,
     "metadata": {},
     "output_type": "execute_result"
    }
   ],
   "source": [
    "# product of 2 consequtive Fibonachi numbers closest to prod from below\n",
    "def productFib(prod):\n",
    "  a, b = 0, 1\n",
    "  while a * b<prod:\n",
    "    a, b = b, a + b\n",
    "  return [a, b, prod == a * b]\n",
    "\n",
    "productFib(4895)"
   ]
  },
  {
   "cell_type": "code",
   "execution_count": 3,
   "metadata": {},
   "outputs": [
    {
     "data": {
      "text/plain": [
       "[55, 89, True]"
      ]
     },
     "execution_count": 3,
     "metadata": {},
     "output_type": "execute_result"
    }
   ],
   "source": [
    "# same problem recursively\n",
    "def productFib(prod):\n",
    "    func = lambda a, b: func(b, a+b) if a*b < prod else [a, b, a*b == prod]\n",
    "    return func(0, 1)\n",
    "productFib(4895)"
   ]
  },
  {
   "cell_type": "markdown",
   "metadata": {},
   "source": [
    "Iteratively apply functions"
   ]
  },
  {
   "cell_type": "code",
   "execution_count": 1,
   "metadata": {
    "ExecuteTime": {
     "end_time": "2019-12-08T17:05:52.508131Z",
     "start_time": "2019-12-08T17:05:52.498469Z"
    }
   },
   "outputs": [
    {
     "data": {
      "text/plain": [
       "2"
      ]
     },
     "execution_count": 1,
     "metadata": {},
     "output_type": "execute_result"
    }
   ],
   "source": [
    "# recursively sum digits of a long integer number\n",
    "def digital_root(n):\n",
    "    return n if n < 10 else digital_root(sum(map(int,str(n))))\n",
    "\n",
    "digital_root(493193)"
   ]
  },
  {
   "cell_type": "code",
   "execution_count": 66,
   "metadata": {},
   "outputs": [
    {
     "data": {
      "text/plain": [
       "[False, 1, 1, 2, 1, 3, 'a', 0, 0]"
      ]
     },
     "execution_count": 66,
     "metadata": {},
     "output_type": "execute_result"
    }
   ],
   "source": [
    "# move zeros to end of array, not changing order of elements\n",
    "t = [False,1,0,1,2,0,1,3,\"a\"] \n",
    "def move_zeros(array):\n",
    "    return sorted(array, key=lambda x: x==0 and type(x) is not bool)\n",
    "move_zeros(t)"
   ]
  },
  {
   "cell_type": "markdown",
   "metadata": {},
   "source": [
    "## Dictionaries"
   ]
  },
  {
   "cell_type": "code",
   "execution_count": null,
   "metadata": {},
   "outputs": [],
   "source": [
    "# max number of units I can cook from recipe\n",
    "# notice:\n",
    "# * default value for key not in dictionary\n",
    "# * integer division\n",
    "# * generator used \n",
    "\n",
    "recipe    = {\"apples\": 3, \"flour\": 300, \"sugar\": 150, \"milk\": 100, \"oil\": 100}\n",
    "available = {\"sugar\": 500, \"flour\": 2000, \"milk\": 2000}\n",
    "\n",
    "\n",
    "def cakes(recipe, available):\n",
    "  return min(available.get(k, 0)/recipe[k] for k in recipe)"
   ]
  },
  {
   "cell_type": "markdown",
   "metadata": {},
   "source": [
    "# Regex\n",
    "?: zero or once (possibly)\n",
    "\n",
    "+: once or more (at least)\n",
    "\n",
    "*: zero of inf (any)\n",
    "\n",
    "\n",
    "*re.match()* and *re.search()* find the first match and return. To get iterator over matches use *re.finditer()*"
   ]
  },
  {
   "cell_type": "markdown",
   "metadata": {},
   "source": [
    "### Regex Groups"
   ]
  },
  {
   "cell_type": "code",
   "execution_count": 33,
   "metadata": {},
   "outputs": [
    {
     "name": "stdout",
     "output_type": "stream",
     "text": [
      "cats are smarter|cats|smarter|smarter\n",
      "('cats', 'smarter')\n",
      "()\n",
      "('a',)\n"
     ]
    }
   ],
   "source": [
    "# use groups inside pattern: \n",
    "# 1st match is the entire pattern, then each of the groups (...)\n",
    "# groups can be named\n",
    "import re\n",
    "t = 'all cats are smarter than dogs, all dogs are dumber than cats'\n",
    "m=re.search('(\\w+) are (?P<q>\\w+)', t)\n",
    "print(m.group(),m.group(1),m.group(2),\n",
    "      m.group('q'),sep='|')\n",
    "# all groups as tuple\n",
    "print(m.groups())\n",
    "\n",
    "# don't forget to designate groups:\n",
    "print(re.search('\\w+','a').groups())\n",
    "print(re.search('(\\w)+','a').groups())"
   ]
  },
  {
   "cell_type": "markdown",
   "metadata": {},
   "source": [
    "### Regex Greedy modifier"
   ]
  },
  {
   "cell_type": "code",
   "execution_count": 61,
   "metadata": {},
   "outputs": [
    {
     "name": "stdout",
     "output_type": "stream",
     "text": [
      "('www.', 'co')|('www.', 'ta')\n"
     ]
    }
   ],
   "source": [
    "t1=\"www.atta.co.uk\"\n",
    "print(re.search('(www\\.)?.*(\\w\\w)\\.', t1).groups(),  # will go to last .\n",
    "      re.search('(www\\.)?.*?(\\w\\w)\\.', t1).groups(), # will go to first .\n",
    "      sep='|',) # note , is allowed for text diff operation with git"
   ]
  },
  {
   "cell_type": "code",
   "execution_count": 63,
   "metadata": {},
   "outputs": [
    {
     "name": "stdout",
     "output_type": "stream",
     "text": [
      "z|github|atta\n"
     ]
    }
   ],
   "source": [
    "import re\n",
    "def StripURL(t1):\n",
    "    # note: [\\w-]+ matches [all chars and '-'] once or more times\n",
    "    return re.search('(https?://)?(www\\d?\\.)?(?P<name>[\\w-]+)\\.', t1).group('name')\n",
    "\n",
    "print(StripURL(\"http://www.z.com.x\"),\n",
    "      StripURL(\"http://github.com/carbonfive/raygun\"), \n",
    "      StripURL(\"www.atta.co.uk\"),sep='|')\n",
    "\n",
    "\n"
   ]
  },
  {
   "cell_type": "code",
   "execution_count": 23,
   "metadata": {},
   "outputs": [
    {
     "name": "stdout",
     "output_type": "stream",
     "text": [
      "z github atta\n"
     ]
    }
   ],
   "source": [
    "def StripURL1(t1):\n",
    "    return t1.split(\"//\")[-1].split(\"www.\")[-1].split(\".\")[0]\n",
    "\n",
    "print(StripURL1(\"http://www.z.com.x\"),\n",
    "      StripURL1(\"http://github.com/carbonfive/raygun\"), \n",
    "      StripURL1(\"www.atta.co.uk\"))"
   ]
  },
  {
   "cell_type": "markdown",
   "metadata": {},
   "source": [
    "# Indexing"
   ]
  },
  {
   "cell_type": "markdown",
   "metadata": {},
   "source": [
    "### Negative indexing\n",
    "First index is zero. Top of range is non-inclusive (one bigger than in MATLAB). Bottom of range is inclusive. Third parameter is step."
   ]
  },
  {
   "cell_type": "code",
   "execution_count": 14,
   "metadata": {
    "ExecuteTime": {
     "end_time": "2019-12-02T20:55:52.637518Z",
     "start_time": "2019-12-02T20:55:52.632881Z"
    }
   },
   "outputs": [
    {
     "name": "stdout",
     "output_type": "stream",
     "text": [
      "4\n",
      "[2, 3, 4]\n",
      "[2, 3]\n",
      "[2, 4]\n"
     ]
    }
   ],
   "source": [
    "s = [1,2,3,4]\n",
    "print(s[-1])\n",
    "print(s[-3:])\n",
    "print(s[-3:-1])\n",
    "print(s[-3::2])"
   ]
  },
  {
   "cell_type": "markdown",
   "metadata": {},
   "source": [
    "###  Unpack a generator in `print()`"
   ]
  },
  {
   "cell_type": "markdown",
   "metadata": {},
   "source": [
    "Recall that `*arg` unpacks the argument `arg`."
   ]
  },
  {
   "cell_type": "code",
   "execution_count": 11,
   "metadata": {},
   "outputs": [
    {
     "name": "stdout",
     "output_type": "stream",
     "text": [
      "0, 1, 2, 3, 4, 5, 6, 7, 8, 9, 10, 11, 12, 13, 14, 15, 16, 17, 18, 19\n"
     ]
    }
   ],
   "source": [
    "print(*(i for i in range(0,20)), sep = ', ')"
   ]
  },
  {
   "cell_type": "markdown",
   "metadata": {},
   "source": [
    "printing directly just gives the object:"
   ]
  },
  {
   "cell_type": "code",
   "execution_count": 10,
   "metadata": {},
   "outputs": [
    {
     "name": "stdout",
     "output_type": "stream",
     "text": [
      "<generator object <genexpr> at 0x105fabb48>\n"
     ]
    }
   ],
   "source": [
    "print(i for i in range(0,20))"
   ]
  },
  {
   "cell_type": "markdown",
   "metadata": {},
   "source": [
    "### 2. `for`-loop nested shorthand"
   ]
  },
  {
   "cell_type": "markdown",
   "metadata": {},
   "source": [
    "`for x in <iterable>` returns `x` iterating over `<iterable>`. This `x` can be a list, and can be re-used in another `for`. Below is a nest of 3 for-loops: outer over z, then over x, then over a. The iterator of each outer loop is passed on to the inner loop. **But the operation performed by the inner-most loop is stated at the beginning.**"
   ]
  },
  {
   "cell_type": "code",
   "execution_count": 7,
   "metadata": {
    "ExecuteTime": {
     "end_time": "2019-12-01T22:19:52.883554Z",
     "start_time": "2019-12-01T22:19:52.879017Z"
    }
   },
   "outputs": [
    {
     "data": {
      "text/plain": [
       "['1', '2', '2', '3', '2', '3', '4', '5']"
      ]
     },
     "execution_count": 7,
     "metadata": {},
     "output_type": "execute_result"
    }
   ],
   "source": [
    "[str(a) for z in [1, 2] for x in [z,2*z] for a in [x,x+1]]"
   ]
  },
  {
   "cell_type": "code",
   "execution_count": 18,
   "metadata": {},
   "outputs": [
    {
     "name": "stdout",
     "output_type": "stream",
     "text": [
      "0 3 6 9\n"
     ]
    }
   ],
   "source": [
    "nested_list = [[0, 1], [2, 3], [4, 5], [6, 7], [8, 9]]\n",
    "\n",
    "# nested list comprehension version\n",
    "result = (x for sublist in nested_list for x in sublist if x % 3 == 0)\n",
    "print(*result)"
   ]
  },
  {
   "cell_type": "markdown",
   "metadata": {},
   "source": [
    "The above can be made clearer with indentation"
   ]
  },
  {
   "cell_type": "code",
   "execution_count": 21,
   "metadata": {},
   "outputs": [
    {
     "name": "stdout",
     "output_type": "stream",
     "text": [
      "[0, 3, 6, 9]\n"
     ]
    }
   ],
   "source": [
    "# funny indentation pattern to make the similarities clearer\n",
    "result = [x \n",
    "for sublist in nested_list\n",
    "    for x in sublist\n",
    "        if x % 3 == 0\n",
    "]\n",
    "print(result)"
   ]
  },
  {
   "cell_type": "markdown",
   "metadata": {},
   "source": [
    "### 3. `for`-loop induced scoping"
   ]
  },
  {
   "cell_type": "markdown",
   "metadata": {},
   "source": [
    "Below, the inner `for`-loop cannot access the outer `for`-loop index:"
   ]
  },
  {
   "cell_type": "code",
   "execution_count": 47,
   "metadata": {},
   "outputs": [
    {
     "name": "stdout",
     "output_type": "stream",
     "text": [
      "|outer=0 |outer=1 inner=0 |outer=2 inner=0 inner=1 |outer=3 inner=0 inner=1 inner=2 |outer=4 inner=0 inner=1 inner=2 inner=3 "
     ]
    }
   ],
   "source": [
    "for i in range(5):\n",
    "    print(f'|outer={i}', end = ' ')\n",
    "    for i in range(i): # here we are defining an inner i, which is not accessible by the outer i\n",
    "        print(f'inner={i}', end = ' ')"
   ]
  },
  {
   "cell_type": "markdown",
   "metadata": {},
   "source": [
    "Can we even access the outer loop index?"
   ]
  },
  {
   "cell_type": "code",
   "execution_count": 8,
   "metadata": {
    "ExecuteTime": {
     "end_time": "2019-12-01T22:30:07.972529Z",
     "start_time": "2019-12-01T22:30:07.965703Z"
    }
   },
   "outputs": [
    {
     "name": "stdout",
     "output_type": "stream",
     "text": [
      "i=1, j=0|i=2, j=0|i=2, j=1|i=3, j=0|i=3, j=1|i=3, j=2|i=4, j=0|i=4, j=1|i=4, j=2|i=4, j=3|"
     ]
    }
   ],
   "source": [
    "for i in range(5):\n",
    "    for j in range(i): # here we are defining an inner i, which is not accessible by the outer i\n",
    "        print(f'i={i}, j={j}', end = '|')"
   ]
  },
  {
   "cell_type": "markdown",
   "metadata": {},
   "source": [
    "### 4. `for`-loop changing iterable"
   ]
  },
  {
   "cell_type": "code",
   "execution_count": null,
   "metadata": {},
   "outputs": [],
   "source": []
  },
  {
   "cell_type": "markdown",
   "metadata": {},
   "source": [
    "Create a deep copy of `a` by doing `a[:]` -- compare vs copy(a)"
   ]
  },
  {
   "cell_type": "code",
   "execution_count": 4,
   "metadata": {},
   "outputs": [
    {
     "name": "stdout",
     "output_type": "stream",
     "text": [
      "[1, 2, 4]\n"
     ]
    }
   ],
   "source": [
    "a = [-1, 1, -2, 2, -3, 4]\n",
    "for x in a[:]:\n",
    "    if x < 0: a.remove(x)\n",
    "print(a)"
   ]
  },
  {
   "cell_type": "markdown",
   "metadata": {},
   "source": [
    "# TODO: "
   ]
  },
  {
   "cell_type": "markdown",
   "metadata": {},
   "source": [
    "### 1. Practice `regexp` -- do Google tutorial exercise"
   ]
  },
  {
   "cell_type": "markdown",
   "metadata": {},
   "source": [
    "<https://developers.google.com/edu/python/exercises/baby-names>"
   ]
  },
  {
   "cell_type": "markdown",
   "metadata": {},
   "source": [
    "### 2. Practice generators (find exercises and tutorial)"
   ]
  },
  {
   "cell_type": "markdown",
   "metadata": {},
   "source": [
    "Understand this:"
   ]
  },
  {
   "cell_type": "code",
   "execution_count": 5,
   "metadata": {},
   "outputs": [
    {
     "name": "stdout",
     "output_type": "stream",
     "text": [
      "a\tb\tg\td\te\tz\tet\tth\ti\tk\tl\tmu\tn\txi\to\tpi\tr\ts\n",
      "4\t9\t19\t12\t15\t3\t1\t20\t5\t4\t20\t1\t9\t12\t2\t15\t14\t5\n"
     ]
    }
   ],
   "source": [
    "from fractions import Fraction as F\n",
    "\n",
    "results = [(a, b, g, d, e, z, et, th, i, k, th, mu, n, xi, o, pi, r, s)\n",
    "    for th in range(1, 27)\n",
    "    for o in range(1, 27)\n",
    "    for r in range(1, 27)\n",
    "    if 2*(th**2) + o**2 + r**2 == 1000\n",
    "    for s in range(1, 27)\n",
    "    for z in range(1, 27)\n",
    "    if (th**2 * z**2 * (s - z) + s**2) == 7225\n",
    "    for g in range(1, 27)\n",
    "    for d in range(1, 27)\n",
    "    for xi in range(1, 27)\n",
    "    if (g-1)**2 + d**2 + xi**2 - xi == 600\n",
    "    for (et, i) in ((xi-7, xi-11), (xi-11,xi-7), (xi+7, xi+11), (xi+11, xi+7))\n",
    "    if 0 < et <= 26 and 0 < i <= 26\n",
    "    for (a, mu) in ((4, 1), (2, 2), (1, 4))\n",
    "    for pi in range(1, 27)\n",
    "    if a*(a+pi) == 4 * g\n",
    "    for k in (3,4)\n",
    "    for b in range(1, 27)\n",
    "    for e in range(1, 27)\n",
    "    for n in range(1, 27)\n",
    "    if b**3 + z**3 + n**3 + o**9 == 1997\n",
    "    if F(a, k)**2 + F(b, n)**2 + F(d, xi)**2 + F(e, pi)**2 + F(et, mu)**2 + F(i, s)**2 == 6\n",
    "]\n",
    "\n",
    "print('\\t'.join(('a', 'b', 'g', 'd', 'e', 'z', 'et', 'th', 'i', 'k', 'l', 'mu', 'n', 'xi', 'o', 'pi', 'r', 's')))\n",
    "for r in results:\n",
    "    print('\\t'.join(map(str, r)))\n",
    "\n",
    "# Output, in ~4 seconds:\n",
    "# a   b   g   d   e   z   et  th  i   k   l   mu  n   xi  o   pi  r   s\n",
    "# 4   9   19  12  15  3   1   20  5   4   20  1   9   12  2   15  14  5"
   ]
  },
  {
   "cell_type": "markdown",
   "metadata": {},
   "source": [
    "### 3. Make myself familiar with Computer Science libraries: `collections`, `itertools`"
   ]
  },
  {
   "cell_type": "code",
   "execution_count": 3,
   "metadata": {
    "ExecuteTime": {
     "end_time": "2019-12-01T17:50:22.264962Z",
     "start_time": "2019-12-01T17:50:22.258775Z"
    }
   },
   "outputs": [
    {
     "name": "stdout",
     "output_type": "stream",
     "text": [
      "['a', 'B', 'c', 'C']\n",
      "[1, 2, 3]\n",
      "[]\n"
     ]
    }
   ],
   "source": [
    "# group-by jiujitsu: eleminate repeated values\n",
    "from itertools import groupby\n",
    "\n",
    "def unique_in_order(iterable):\n",
    "    return [k for (k, _) in groupby(iterable)]\n",
    "\n",
    "print(unique_in_order('aaBBcC'))\n",
    "print(unique_in_order([1,1,2,3,3]))\n",
    "print(unique_in_order([]))\n"
   ]
  },
  {
   "cell_type": "code",
   "execution_count": 3,
   "metadata": {},
   "outputs": [
    {
     "name": "stdout",
     "output_type": "stream",
     "text": [
      "2\n"
     ]
    }
   ],
   "source": [
    "# eliminate duplicates (case insesitive), without creating lists in-memory, but by iterating over generators\n",
    "from itertools import groupby\n",
    "t = 'aA11'\n",
    "print(sum((sum(1 for i in g)>1 for _,g in groupby(sorted(t.lower())))))\n"
   ]
  },
  {
   "cell_type": "markdown",
   "metadata": {
    "ExecuteTime": {
     "end_time": "2019-12-01T23:11:46.571131Z",
     "start_time": "2019-12-01T23:11:46.483559Z"
    }
   },
   "source": [
    "Number of elements generated by a generator:"
   ]
  },
  {
   "cell_type": "code",
   "execution_count": 1,
   "metadata": {
    "ExecuteTime": {
     "end_time": "2019-12-01T23:12:07.682718Z",
     "start_time": "2019-12-01T23:12:07.679443Z"
    }
   },
   "outputs": [
    {
     "data": {
      "text/plain": [
       "10"
      ]
     },
     "execution_count": 1,
     "metadata": {},
     "output_type": "execute_result"
    }
   ],
   "source": [
    "it = range(10)\n",
    "\n",
    "sum(1 for i in it)"
   ]
  },
  {
   "cell_type": "markdown",
   "metadata": {},
   "source": []
  },
  {
   "cell_type": "code",
   "execution_count": null,
   "metadata": {},
   "outputs": [],
   "source": []
  }
 ],
 "metadata": {
  "kernelspec": {
   "display_name": "Python 3",
   "language": "python",
   "name": "python3"
  },
  "language_info": {
   "codemirror_mode": {
    "name": "ipython",
    "version": 3
   },
   "file_extension": ".py",
   "mimetype": "text/x-python",
   "name": "python",
   "nbconvert_exporter": "python",
   "pygments_lexer": "ipython3",
   "version": "3.7.5"
  },
  "latex_envs": {
   "LaTeX_envs_menu_present": true,
   "autoclose": false,
   "autocomplete": false,
   "bibliofile": "biblio.bib",
   "cite_by": "apalike",
   "current_citInitial": 1,
   "eqLabelWithNumbers": true,
   "eqNumInitial": 1,
   "hotkeys": {
    "equation": "Ctrl-E",
    "itemize": "Ctrl-I"
   },
   "labels_anchors": false,
   "latex_user_defs": false,
   "report_style_numbering": false,
   "user_envs_cfg": false
  },
  "toc": {
   "base_numbering": 1,
   "nav_menu": {},
   "number_sections": true,
   "sideBar": true,
   "skip_h1_title": false,
   "title_cell": "Table of Contents",
   "title_sidebar": "Contents",
   "toc_cell": false,
   "toc_position": {},
   "toc_section_display": true,
   "toc_window_display": false
  }
 },
 "nbformat": 4,
 "nbformat_minor": 2
}
