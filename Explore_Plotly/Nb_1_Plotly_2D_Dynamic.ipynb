{
 "cells": [
  {
   "cell_type": "markdown",
   "metadata": {},
   "source": [
    "# Interactive in-place 2D plotting/replotting with plotly widget. \n",
    "**This is a prototype, useful, e.g. for output functions of ODE solvers, optimisers, etc.** <br>\n",
    "This is also in the spirit of exploratory data analysis"
   ]
  },
  {
   "cell_type": "markdown",
   "metadata": {},
   "source": [
    "* Draw curve\n",
    "* Draw point on curve\n",
    "* Move point along curve, updating in real time"
   ]
  },
  {
   "cell_type": "markdown",
   "metadata": {},
   "source": [
    "## Operational Notes"
   ]
  },
  {
   "cell_type": "markdown",
   "metadata": {},
   "source": [
    "1. Work in JupyterLab: this allows to position figure like in MATLAB, on the side.\n",
    "1. To get drop-down help: \n",
    "    * for methods/attributes, press Tab after obj.\n",
    "    * for method doc-strigs, Shift+Tab after fun()\n",
    "1. If drop-down help does not work, try this magic:<br>\n",
    "        %config Completer.use_jedi = False"
   ]
  },
  {
   "cell_type": "markdown",
   "metadata": {},
   "source": [
    "## Plotly notes"
   ]
  },
  {
   "cell_type": "markdown",
   "metadata": {},
   "source": [
    "1. For static 2D plots the workflow is to construct go.Figure object, e.g.<br>\n",
    "        f = go.Figure(go.Scatter(x=t, y=np.sin(t)))\n",
    "    \n",
    "    Note that go.Scatter is probably just a dataframe used in the constructor of go.Figure. After go.Figure object is created, it would have no connection with go.Scatter object\n",
    "\n",
    "    * To display, simply execute<br>\n",
    "        f\n",
    "\n",
    "    * To add another curve<br>\n",
    "        f.add_trace(go.Scatter(x=[t[0]], y=[np.sin(t[0])]))\n",
    "\n",
    "    * To customise f, operate on its .data attribute, e.g., \n",
    "    \n",
    "        f.data[0].mode = 'lines'\n",
    "        To get auto-complete, create a pointer: curve1=f.data[0], then explore its available properties by pressing Tab and Shift+Tab, e.g., curve1.<+Tab> or curve1.mode<Shift+Tab> will reveal all possibilities and syntax\n",
    "                \n",
    "1. To have an interactive figure fixed in a dedicated window (rather than replotting in a new cell each time data is changed), work with the **widget object**: go.FigureWidget, calling its constructor on go.Figure (not px.<...>):\n",
    "        fig = go.FigureWidget(go.Figure(...))\n",
    "    Now changing any attribute, will be directly reflected on the plot, e.g. \n",
    "        fig.data[0].x  = [0]\n",
    "        fig.data[0].y  = [0]\n",
    "\n",
    "1. Notice that upon creation, fig.data[i] is a tuple, but can be any iteratble, that's why assignment of it to np.array works\n",
    "\n",
    "1. Notice that assigning attributes based on other attributes is a bad idea, because the updates are asynchronous. E.g. compare code below advancing a point along y=sin(x):\n",
    "\n",
    "    **PROPER:**\n",
    "    \n",
    "        for i in range(11):\n",
    "            with f.batch_update():\n",
    "                phi = 2*np.pi/10*i-np.pi\n",
    "                f.data[1].x=[phi]\n",
    "                f.data[1].y=[np.sin(phi)]\n",
    "                f.layout.title.text = str(i)\n",
    "            sleep(.5)\n",
    "   \n",
    "   **FAULTY:**\n",
    "   \n",
    "        for i in range(11):\n",
    "            with f.batch_update():\n",
    "                f.data[1].x=[phi]\n",
    "                f.data[1].y=[f.data[1].x]\n",
    "                f.layout.title.text = str(i)\n",
    "            sleep(.5)\n",
    "1. fds"
   ]
  },
  {
   "cell_type": "code",
   "execution_count": 2,
   "metadata": {},
   "outputs": [],
   "source": [
    "%config Completer.use_jedi = False"
   ]
  },
  {
   "cell_type": "code",
   "execution_count": 3,
   "metadata": {},
   "outputs": [],
   "source": [
    "import numpy as np\n",
    "\n",
    "import plotly.graph_objs as go\n",
    "from time import sleep"
   ]
  },
  {
   "cell_type": "code",
   "execution_count": 5,
   "metadata": {},
   "outputs": [],
   "source": [
    "t = np.arange(-np.pi,np.pi,np.pi/100)"
   ]
  },
  {
   "cell_type": "markdown",
   "metadata": {},
   "source": [
    "## Understand go.Figure object\n",
    "* Generate line-plot\n",
    "* Switch between line and line+marker"
   ]
  },
  {
   "cell_type": "code",
   "execution_count": 17,
   "metadata": {},
   "outputs": [],
   "source": [
    "# This seems a bad idea. I can't make it work\n",
    "#l1 = go.scatter.Line({'x': t, 'y': np.sin(t)});"
   ]
  },
  {
   "cell_type": "markdown",
   "metadata": {},
   "source": [
    "**Note: no need for s1, because after fig=go.Figure(s1), s1 and fig will not be related!**"
   ]
  },
  {
   "cell_type": "code",
   "execution_count": 12,
   "metadata": {},
   "outputs": [],
   "source": [
    "s1 = go.Scatter(x=t,\n",
    "                y=np.sin(t))"
   ]
  },
  {
   "cell_type": "code",
   "execution_count": 26,
   "metadata": {},
   "outputs": [
    {
     "data": {
      "application/vnd.plotly.v1+json": {
       "config": {
        "plotlyServerURL": "https://plot.ly"
       },
       "data": [
        {
         "type": "scatter",
         "x": [
          -3.141592653589793,
          -3.1101767270538954,
          -3.0787608005179976,
          -3.0473448739821,
          -3.015928947446202,
          -2.9845130209103043,
          -2.9530970943744066,
          -2.921681167838509,
          -2.890265241302611,
          -2.8588493147667133,
          -2.8274333882308156,
          -2.796017461694918,
          -2.76460153515902,
          -2.7331856086231223,
          -2.7017696820872246,
          -2.670353755551327,
          -2.638937829015429,
          -2.6075219024795313,
          -2.5761059759436336,
          -2.544690049407736,
          -2.513274122871838,
          -2.4818581963359403,
          -2.4504422698000425,
          -2.419026343264145,
          -2.387610416728247,
          -2.3561944901923493,
          -2.3247785636564515,
          -2.2933626371205538,
          -2.261946710584656,
          -2.2305307840487583,
          -2.1991148575128605,
          -2.1676989309769628,
          -2.136283004441065,
          -2.1048670779051672,
          -2.0734511513692695,
          -2.0420352248333717,
          -2.010619298297474,
          -1.9792033717615762,
          -1.9477874452256785,
          -1.9163715186897807,
          -1.884955592153883,
          -1.8535396656179852,
          -1.8221237390820875,
          -1.7907078125461897,
          -1.759291886010292,
          -1.7278759594743942,
          -1.6964600329384965,
          -1.6650441064025987,
          -1.633628179866701,
          -1.6022122533308032,
          -1.5707963267949054,
          -1.5393804002590077,
          -1.50796447372311,
          -1.4765485471872122,
          -1.4451326206513144,
          -1.4137166941154167,
          -1.382300767579519,
          -1.3508848410436212,
          -1.3194689145077234,
          -1.2880529879718257,
          -1.256637061435928,
          -1.2252211349000302,
          -1.1938052083641324,
          -1.1623892818282346,
          -1.130973355292337,
          -1.0995574287564391,
          -1.0681415022205414,
          -1.0367255756846436,
          -1.0053096491487459,
          -0.9738937226128481,
          -0.9424777960769504,
          -0.9110618695410526,
          -0.8796459430051549,
          -0.8482300164692571,
          -0.8168140899333594,
          -0.7853981633974616,
          -0.7539822368615638,
          -0.7225663103256661,
          -0.6911503837897683,
          -0.6597344572538706,
          -0.6283185307179728,
          -0.5969026041820751,
          -0.5654866776461773,
          -0.5340707511102796,
          -0.5026548245743818,
          -0.47123889803848407,
          -0.4398229715025863,
          -0.40840704496668856,
          -0.3769911184307908,
          -0.34557519189489305,
          -0.3141592653589953,
          -0.28274333882309755,
          -0.2513274122871998,
          -0.21991148575130204,
          -0.18849555921540428,
          -0.15707963267950653,
          -0.12566370614360878,
          -0.09424777960771102,
          -0.06283185307181327,
          -0.03141592653591552,
          -1.7763568394002505e-14,
          0.03141592653587999,
          0.06283185307177774,
          0.0942477796076755,
          0.12566370614357325,
          0.157079632679471,
          0.18849555921536876,
          0.2199114857512665,
          0.25132741228716426,
          0.282743338823062,
          0.31415926535895977,
          0.3455751918948575,
          0.3769911184307553,
          0.40840704496665303,
          0.4398229715025508,
          0.47123889803844854,
          0.5026548245743463,
          0.534070751110244,
          0.5654866776461418,
          0.5969026041820396,
          0.6283185307179373,
          0.6597344572538351,
          0.6911503837897328,
          0.7225663103256306,
          0.7539822368615283,
          0.7853981633974261,
          0.8168140899333238,
          0.8482300164692216,
          0.8796459430051193,
          0.9110618695410171,
          0.9424777960769148,
          0.9738937226128126,
          1.0053096491487103,
          1.036725575684608,
          1.0681415022205059,
          1.0995574287564036,
          1.1309733552923014,
          1.1623892818281991,
          1.1938052083640969,
          1.2252211348999946,
          1.2566370614358924,
          1.2880529879717901,
          1.3194689145076879,
          1.3508848410435856,
          1.3823007675794834,
          1.4137166941153811,
          1.445132620651279,
          1.4765485471871767,
          1.5079644737230744,
          1.5393804002589722,
          1.57079632679487,
          1.6022122533307677,
          1.6336281798666654,
          1.6650441064025632,
          1.696460032938461,
          1.7278759594743587,
          1.7592918860102564,
          1.7907078125461542,
          1.822123739082052,
          1.8535396656179497,
          1.8849555921538474,
          1.9163715186897452,
          1.947787445225643,
          1.9792033717615407,
          2.0106192982974385,
          2.042035224833336,
          2.073451151369234,
          2.1048670779051317,
          2.1362830044410295,
          2.1676989309769272,
          2.199114857512825,
          2.2305307840487227,
          2.2619467105846205,
          2.2933626371205182,
          2.324778563656416,
          2.3561944901923138,
          2.3876104167282115,
          2.4190263432641093,
          2.450442269800007,
          2.4818581963359048,
          2.5132741228718025,
          2.5446900494077003,
          2.576105975943598,
          2.607521902479496,
          2.6389378290153935,
          2.6703537555512913,
          2.701769682087189,
          2.733185608623087,
          2.7646015351589845,
          2.7960174616948823,
          2.82743338823078,
          2.858849314766678,
          2.8902652413025756,
          2.9216811678384733,
          2.953097094374371,
          2.984513020910269,
          3.0159289474461666,
          3.0473448739820643,
          3.078760800517962,
          3.11017672705386
         ],
         "y": [
          -1.2246467991473532e-16,
          -0.03141075907812824,
          -0.06279051952931314,
          -0.09410831331851391,
          -0.12533323356430365,
          -0.1564344650402301,
          -0.18738131458572369,
          -0.21814324139654143,
          -0.24868988716485352,
          -0.27899110603922783,
          -0.30901699437494584,
          -0.33873792024528965,
          -0.3681245526846761,
          -0.39714789063477857,
          -0.4257792915650705,
          -0.45399049973954453,
          -0.4817536741017129,
          -0.5090414157503688,
          -0.535826794978994,
          -0.5620833778521279,
          -0.5877852522924704,
          -0.6129070536529736,
          -0.6374239897486867,
          -0.6613118653236488,
          -0.6845471059286856,
          -0.7071067811865445,
          -0.7289686274214084,
          -0.7501110696304565,
          -0.7705132427757861,
          -0.7901550123756873,
          -0.8090169943749443,
          -0.8270805742745588,
          -0.8443279255020121,
          -0.8607420270039408,
          -0.8763066800438607,
          -0.8910065241883651,
          -0.9048270524660168,
          -0.9177546256839786,
          -0.9297764858882489,
          -0.9408807689542231,
          -0.9510565162951514,
          -0.9602936856769411,
          -0.9685831611286293,
          -0.9759167619387458,
          -0.9822872507286873,
          -0.9876883405951364,
          -0.9921147013144768,
          -0.9955619646030792,
          -0.998026728428271,
          -0.9995065603657313,
          -1,
          -0.9995065603657318,
          -0.9980267284282721,
          -0.9955619646030809,
          -0.992114701314479,
          -0.9876883405951392,
          -0.9822872507286905,
          -0.9759167619387497,
          -0.9685831611286336,
          -0.960293685676946,
          -0.9510565162951569,
          -0.9408807689542291,
          -0.9297764858882555,
          -0.9177546256839856,
          -0.9048270524660244,
          -0.8910065241883731,
          -0.8763066800438692,
          -0.8607420270039496,
          -0.8443279255020215,
          -0.8270805742745687,
          -0.8090169943749547,
          -0.7901550123756981,
          -0.7705132427757972,
          -0.750111069630468,
          -0.7289686274214204,
          -0.7071067811865569,
          -0.6845471059286985,
          -0.6613118653236622,
          -0.6374239897487004,
          -0.6129070536529876,
          -0.5877852522924846,
          -0.5620833778521425,
          -0.5358267949790089,
          -0.509041415750384,
          -0.4817536741017283,
          -0.45399049973956024,
          -0.4257792915650865,
          -0.3971478906347948,
          -0.36812455268469246,
          -0.33873792024530625,
          -0.3090169943749626,
          -0.27899110603924476,
          -0.24868988716487062,
          -0.21814324139655866,
          -0.18738131458574103,
          -0.15643446504024752,
          -0.12533323356432116,
          -0.09410831331853146,
          -0.06279051952933075,
          -0.03141075907814587,
          -1.7763568394002505e-14,
          0.03141075907811036,
          0.06279051952929529,
          0.0941083133184961,
          0.1253332335642859,
          0.15643446504021244,
          0.18738131458570612,
          0.218143241396524,
          0.2486898871648362,
          0.2789911060392106,
          0.3090169943749288,
          0.3387379202452728,
          0.36812455268465943,
          0.3971478906347622,
          0.42577929156505434,
          0.4539904997395286,
          0.4817536741016972,
          0.5090414157503534,
          0.5358267949789789,
          0.562083377852113,
          0.5877852522924558,
          0.6129070536529595,
          0.637423989748673,
          0.6613118653236355,
          0.6845471059286726,
          0.7071067811865318,
          0.7289686274213962,
          0.7501110696304446,
          0.7705132427757747,
          0.7901550123756762,
          0.8090169943749338,
          0.8270805742745487,
          0.8443279255020024,
          0.8607420270039315,
          0.876306680043852,
          0.8910065241883569,
          0.9048270524660093,
          0.9177546256839715,
          0.9297764858882424,
          0.9408807689542171,
          0.9510565162951459,
          0.9602936856769361,
          0.9685831611286249,
          0.9759167619387419,
          0.9822872507286838,
          0.9876883405951337,
          0.9921147013144745,
          0.9955619646030776,
          0.9980267284282699,
          0.9995065603657307,
          1,
          0.9995065603657324,
          0.9980267284282732,
          0.9955619646030825,
          0.9921147013144813,
          0.987688340595142,
          0.9822872507286939,
          0.9759167619387535,
          0.9685831611286381,
          0.960293685676951,
          0.9510565162951624,
          0.9408807689542352,
          0.929776485888262,
          0.9177546256839927,
          0.904827052466032,
          0.8910065241883812,
          0.8763066800438779,
          0.8607420270039587,
          0.8443279255020312,
          0.8270805742745788,
          0.8090169943749652,
          0.7901550123757091,
          0.7705132427758088,
          0.7501110696304799,
          0.7289686274214328,
          0.7071067811865696,
          0.6845471059287115,
          0.6613118653236756,
          0.6374239897487142,
          0.6129070536530017,
          0.5877852522924991,
          0.5620833778521572,
          0.535826794979024,
          0.5090414157503994,
          0.481753674101744,
          0.45399049973957617,
          0.42577929156510264,
          0.3971478906348112,
          0.3681245526847091,
          0.33873792024532307,
          0.3090169943749796,
          0.2789911060392619,
          0.2486898871648879,
          0.21814324139657612,
          0.18738131458575857,
          0.15643446504026517,
          0.1253332335643389,
          0.09410831331854928,
          0.0627905195293486,
          0.03141075907816375
         ]
        }
       ],
       "layout": {
        "autosize": true,
        "template": {
         "data": {
          "bar": [
           {
            "error_x": {
             "color": "#2a3f5f"
            },
            "error_y": {
             "color": "#2a3f5f"
            },
            "marker": {
             "line": {
              "color": "#E5ECF6",
              "width": 0.5
             }
            },
            "type": "bar"
           }
          ],
          "barpolar": [
           {
            "marker": {
             "line": {
              "color": "#E5ECF6",
              "width": 0.5
             }
            },
            "type": "barpolar"
           }
          ],
          "carpet": [
           {
            "aaxis": {
             "endlinecolor": "#2a3f5f",
             "gridcolor": "white",
             "linecolor": "white",
             "minorgridcolor": "white",
             "startlinecolor": "#2a3f5f"
            },
            "baxis": {
             "endlinecolor": "#2a3f5f",
             "gridcolor": "white",
             "linecolor": "white",
             "minorgridcolor": "white",
             "startlinecolor": "#2a3f5f"
            },
            "type": "carpet"
           }
          ],
          "choropleth": [
           {
            "colorbar": {
             "outlinewidth": 0,
             "ticks": ""
            },
            "type": "choropleth"
           }
          ],
          "contour": [
           {
            "colorbar": {
             "outlinewidth": 0,
             "ticks": ""
            },
            "colorscale": [
             [
              0,
              "#0d0887"
             ],
             [
              0.1111111111111111,
              "#46039f"
             ],
             [
              0.2222222222222222,
              "#7201a8"
             ],
             [
              0.3333333333333333,
              "#9c179e"
             ],
             [
              0.4444444444444444,
              "#bd3786"
             ],
             [
              0.5555555555555556,
              "#d8576b"
             ],
             [
              0.6666666666666666,
              "#ed7953"
             ],
             [
              0.7777777777777778,
              "#fb9f3a"
             ],
             [
              0.8888888888888888,
              "#fdca26"
             ],
             [
              1,
              "#f0f921"
             ]
            ],
            "type": "contour"
           }
          ],
          "contourcarpet": [
           {
            "colorbar": {
             "outlinewidth": 0,
             "ticks": ""
            },
            "type": "contourcarpet"
           }
          ],
          "heatmap": [
           {
            "colorbar": {
             "outlinewidth": 0,
             "ticks": ""
            },
            "colorscale": [
             [
              0,
              "#0d0887"
             ],
             [
              0.1111111111111111,
              "#46039f"
             ],
             [
              0.2222222222222222,
              "#7201a8"
             ],
             [
              0.3333333333333333,
              "#9c179e"
             ],
             [
              0.4444444444444444,
              "#bd3786"
             ],
             [
              0.5555555555555556,
              "#d8576b"
             ],
             [
              0.6666666666666666,
              "#ed7953"
             ],
             [
              0.7777777777777778,
              "#fb9f3a"
             ],
             [
              0.8888888888888888,
              "#fdca26"
             ],
             [
              1,
              "#f0f921"
             ]
            ],
            "type": "heatmap"
           }
          ],
          "heatmapgl": [
           {
            "colorbar": {
             "outlinewidth": 0,
             "ticks": ""
            },
            "colorscale": [
             [
              0,
              "#0d0887"
             ],
             [
              0.1111111111111111,
              "#46039f"
             ],
             [
              0.2222222222222222,
              "#7201a8"
             ],
             [
              0.3333333333333333,
              "#9c179e"
             ],
             [
              0.4444444444444444,
              "#bd3786"
             ],
             [
              0.5555555555555556,
              "#d8576b"
             ],
             [
              0.6666666666666666,
              "#ed7953"
             ],
             [
              0.7777777777777778,
              "#fb9f3a"
             ],
             [
              0.8888888888888888,
              "#fdca26"
             ],
             [
              1,
              "#f0f921"
             ]
            ],
            "type": "heatmapgl"
           }
          ],
          "histogram": [
           {
            "marker": {
             "colorbar": {
              "outlinewidth": 0,
              "ticks": ""
             }
            },
            "type": "histogram"
           }
          ],
          "histogram2d": [
           {
            "colorbar": {
             "outlinewidth": 0,
             "ticks": ""
            },
            "colorscale": [
             [
              0,
              "#0d0887"
             ],
             [
              0.1111111111111111,
              "#46039f"
             ],
             [
              0.2222222222222222,
              "#7201a8"
             ],
             [
              0.3333333333333333,
              "#9c179e"
             ],
             [
              0.4444444444444444,
              "#bd3786"
             ],
             [
              0.5555555555555556,
              "#d8576b"
             ],
             [
              0.6666666666666666,
              "#ed7953"
             ],
             [
              0.7777777777777778,
              "#fb9f3a"
             ],
             [
              0.8888888888888888,
              "#fdca26"
             ],
             [
              1,
              "#f0f921"
             ]
            ],
            "type": "histogram2d"
           }
          ],
          "histogram2dcontour": [
           {
            "colorbar": {
             "outlinewidth": 0,
             "ticks": ""
            },
            "colorscale": [
             [
              0,
              "#0d0887"
             ],
             [
              0.1111111111111111,
              "#46039f"
             ],
             [
              0.2222222222222222,
              "#7201a8"
             ],
             [
              0.3333333333333333,
              "#9c179e"
             ],
             [
              0.4444444444444444,
              "#bd3786"
             ],
             [
              0.5555555555555556,
              "#d8576b"
             ],
             [
              0.6666666666666666,
              "#ed7953"
             ],
             [
              0.7777777777777778,
              "#fb9f3a"
             ],
             [
              0.8888888888888888,
              "#fdca26"
             ],
             [
              1,
              "#f0f921"
             ]
            ],
            "type": "histogram2dcontour"
           }
          ],
          "mesh3d": [
           {
            "colorbar": {
             "outlinewidth": 0,
             "ticks": ""
            },
            "type": "mesh3d"
           }
          ],
          "parcoords": [
           {
            "line": {
             "colorbar": {
              "outlinewidth": 0,
              "ticks": ""
             }
            },
            "type": "parcoords"
           }
          ],
          "pie": [
           {
            "automargin": true,
            "type": "pie"
           }
          ],
          "scatter": [
           {
            "marker": {
             "colorbar": {
              "outlinewidth": 0,
              "ticks": ""
             }
            },
            "type": "scatter"
           }
          ],
          "scatter3d": [
           {
            "line": {
             "colorbar": {
              "outlinewidth": 0,
              "ticks": ""
             }
            },
            "marker": {
             "colorbar": {
              "outlinewidth": 0,
              "ticks": ""
             }
            },
            "type": "scatter3d"
           }
          ],
          "scattercarpet": [
           {
            "marker": {
             "colorbar": {
              "outlinewidth": 0,
              "ticks": ""
             }
            },
            "type": "scattercarpet"
           }
          ],
          "scattergeo": [
           {
            "marker": {
             "colorbar": {
              "outlinewidth": 0,
              "ticks": ""
             }
            },
            "type": "scattergeo"
           }
          ],
          "scattergl": [
           {
            "marker": {
             "colorbar": {
              "outlinewidth": 0,
              "ticks": ""
             }
            },
            "type": "scattergl"
           }
          ],
          "scattermapbox": [
           {
            "marker": {
             "colorbar": {
              "outlinewidth": 0,
              "ticks": ""
             }
            },
            "type": "scattermapbox"
           }
          ],
          "scatterpolar": [
           {
            "marker": {
             "colorbar": {
              "outlinewidth": 0,
              "ticks": ""
             }
            },
            "type": "scatterpolar"
           }
          ],
          "scatterpolargl": [
           {
            "marker": {
             "colorbar": {
              "outlinewidth": 0,
              "ticks": ""
             }
            },
            "type": "scatterpolargl"
           }
          ],
          "scatterternary": [
           {
            "marker": {
             "colorbar": {
              "outlinewidth": 0,
              "ticks": ""
             }
            },
            "type": "scatterternary"
           }
          ],
          "surface": [
           {
            "colorbar": {
             "outlinewidth": 0,
             "ticks": ""
            },
            "colorscale": [
             [
              0,
              "#0d0887"
             ],
             [
              0.1111111111111111,
              "#46039f"
             ],
             [
              0.2222222222222222,
              "#7201a8"
             ],
             [
              0.3333333333333333,
              "#9c179e"
             ],
             [
              0.4444444444444444,
              "#bd3786"
             ],
             [
              0.5555555555555556,
              "#d8576b"
             ],
             [
              0.6666666666666666,
              "#ed7953"
             ],
             [
              0.7777777777777778,
              "#fb9f3a"
             ],
             [
              0.8888888888888888,
              "#fdca26"
             ],
             [
              1,
              "#f0f921"
             ]
            ],
            "type": "surface"
           }
          ],
          "table": [
           {
            "cells": {
             "fill": {
              "color": "#EBF0F8"
             },
             "line": {
              "color": "white"
             }
            },
            "header": {
             "fill": {
              "color": "#C8D4E3"
             },
             "line": {
              "color": "white"
             }
            },
            "type": "table"
           }
          ]
         },
         "layout": {
          "annotationdefaults": {
           "arrowcolor": "#2a3f5f",
           "arrowhead": 0,
           "arrowwidth": 1
          },
          "autotypenumbers": "strict",
          "coloraxis": {
           "colorbar": {
            "outlinewidth": 0,
            "ticks": ""
           }
          },
          "colorscale": {
           "diverging": [
            [
             0,
             "#8e0152"
            ],
            [
             0.1,
             "#c51b7d"
            ],
            [
             0.2,
             "#de77ae"
            ],
            [
             0.3,
             "#f1b6da"
            ],
            [
             0.4,
             "#fde0ef"
            ],
            [
             0.5,
             "#f7f7f7"
            ],
            [
             0.6,
             "#e6f5d0"
            ],
            [
             0.7,
             "#b8e186"
            ],
            [
             0.8,
             "#7fbc41"
            ],
            [
             0.9,
             "#4d9221"
            ],
            [
             1,
             "#276419"
            ]
           ],
           "sequential": [
            [
             0,
             "#0d0887"
            ],
            [
             0.1111111111111111,
             "#46039f"
            ],
            [
             0.2222222222222222,
             "#7201a8"
            ],
            [
             0.3333333333333333,
             "#9c179e"
            ],
            [
             0.4444444444444444,
             "#bd3786"
            ],
            [
             0.5555555555555556,
             "#d8576b"
            ],
            [
             0.6666666666666666,
             "#ed7953"
            ],
            [
             0.7777777777777778,
             "#fb9f3a"
            ],
            [
             0.8888888888888888,
             "#fdca26"
            ],
            [
             1,
             "#f0f921"
            ]
           ],
           "sequentialminus": [
            [
             0,
             "#0d0887"
            ],
            [
             0.1111111111111111,
             "#46039f"
            ],
            [
             0.2222222222222222,
             "#7201a8"
            ],
            [
             0.3333333333333333,
             "#9c179e"
            ],
            [
             0.4444444444444444,
             "#bd3786"
            ],
            [
             0.5555555555555556,
             "#d8576b"
            ],
            [
             0.6666666666666666,
             "#ed7953"
            ],
            [
             0.7777777777777778,
             "#fb9f3a"
            ],
            [
             0.8888888888888888,
             "#fdca26"
            ],
            [
             1,
             "#f0f921"
            ]
           ]
          },
          "colorway": [
           "#636efa",
           "#EF553B",
           "#00cc96",
           "#ab63fa",
           "#FFA15A",
           "#19d3f3",
           "#FF6692",
           "#B6E880",
           "#FF97FF",
           "#FECB52"
          ],
          "font": {
           "color": "#2a3f5f"
          },
          "geo": {
           "bgcolor": "white",
           "lakecolor": "white",
           "landcolor": "#E5ECF6",
           "showlakes": true,
           "showland": true,
           "subunitcolor": "white"
          },
          "hoverlabel": {
           "align": "left"
          },
          "hovermode": "closest",
          "mapbox": {
           "style": "light"
          },
          "paper_bgcolor": "white",
          "plot_bgcolor": "#E5ECF6",
          "polar": {
           "angularaxis": {
            "gridcolor": "white",
            "linecolor": "white",
            "ticks": ""
           },
           "bgcolor": "#E5ECF6",
           "radialaxis": {
            "gridcolor": "white",
            "linecolor": "white",
            "ticks": ""
           }
          },
          "scene": {
           "xaxis": {
            "backgroundcolor": "#E5ECF6",
            "gridcolor": "white",
            "gridwidth": 2,
            "linecolor": "white",
            "showbackground": true,
            "ticks": "",
            "zerolinecolor": "white"
           },
           "yaxis": {
            "backgroundcolor": "#E5ECF6",
            "gridcolor": "white",
            "gridwidth": 2,
            "linecolor": "white",
            "showbackground": true,
            "ticks": "",
            "zerolinecolor": "white"
           },
           "zaxis": {
            "backgroundcolor": "#E5ECF6",
            "gridcolor": "white",
            "gridwidth": 2,
            "linecolor": "white",
            "showbackground": true,
            "ticks": "",
            "zerolinecolor": "white"
           }
          },
          "shapedefaults": {
           "line": {
            "color": "#2a3f5f"
           }
          },
          "ternary": {
           "aaxis": {
            "gridcolor": "white",
            "linecolor": "white",
            "ticks": ""
           },
           "baxis": {
            "gridcolor": "white",
            "linecolor": "white",
            "ticks": ""
           },
           "bgcolor": "#E5ECF6",
           "caxis": {
            "gridcolor": "white",
            "linecolor": "white",
            "ticks": ""
           }
          },
          "title": {
           "x": 0.05
          },
          "xaxis": {
           "automargin": true,
           "gridcolor": "white",
           "linecolor": "white",
           "ticks": "",
           "title": {
            "standoff": 15
           },
           "zerolinecolor": "white",
           "zerolinewidth": 2
          },
          "yaxis": {
           "automargin": true,
           "gridcolor": "white",
           "linecolor": "white",
           "ticks": "",
           "title": {
            "standoff": 15
           },
           "zerolinecolor": "white",
           "zerolinewidth": 2
          }
         }
        },
        "xaxis": {
         "autorange": true,
         "range": [
          -3.141592653589793,
          3.11017672705386
         ],
         "type": "linear"
        },
        "yaxis": {
         "autorange": true,
         "range": [
          -1.1111111111111112,
          1.1111111111111112
         ],
         "type": "linear"
        }
       }
      },
      "image/png": "[encoded data removed]",
      "text/html": [
       "<div>                            <div id=\"dded3536-5f16-4a8b-8733-525d4d7c8fae\" class=\"plotly-graph-div\" style=\"height:525px; width:100%;\"></div>            <script type=\"text/javascript\">                require([\"plotly\"], function(Plotly) {                    window.PLOTLYENV=window.PLOTLYENV || {};                                    if (document.getElementById(\"dded3536-5f16-4a8b-8733-525d4d7c8fae\")) {                    Plotly.newPlot(                        \"dded3536-5f16-4a8b-8733-525d4d7c8fae\",                        [{\"type\": \"scatter\", \"x\": [-3.141592653589793, -3.1101767270538954, -3.0787608005179976, -3.0473448739821, -3.015928947446202, -2.9845130209103043, -2.9530970943744066, -2.921681167838509, -2.890265241302611, -2.8588493147667133, -2.8274333882308156, -2.796017461694918, -2.76460153515902, -2.7331856086231223, -2.7017696820872246, -2.670353755551327, -2.638937829015429, -2.6075219024795313, -2.5761059759436336, -2.544690049407736, -2.513274122871838, -2.4818581963359403, -2.4504422698000425, -2.419026343264145, -2.387610416728247, -2.3561944901923493, -2.3247785636564515, -2.2933626371205538, -2.261946710584656, -2.2305307840487583, -2.1991148575128605, -2.1676989309769628, -2.136283004441065, -2.1048670779051672, -2.0734511513692695, -2.0420352248333717, -2.010619298297474, -1.9792033717615762, -1.9477874452256785, -1.9163715186897807, -1.884955592153883, -1.8535396656179852, -1.8221237390820875, -1.7907078125461897, -1.759291886010292, -1.7278759594743942, -1.6964600329384965, -1.6650441064025987, -1.633628179866701, -1.6022122533308032, -1.5707963267949054, -1.5393804002590077, -1.50796447372311, -1.4765485471872122, -1.4451326206513144, -1.4137166941154167, -1.382300767579519, -1.3508848410436212, -1.3194689145077234, -1.2880529879718257, -1.256637061435928, -1.2252211349000302, -1.1938052083641324, -1.1623892818282346, -1.130973355292337, -1.0995574287564391, -1.0681415022205414, -1.0367255756846436, -1.0053096491487459, -0.9738937226128481, -0.9424777960769504, -0.9110618695410526, -0.8796459430051549, -0.8482300164692571, -0.8168140899333594, -0.7853981633974616, -0.7539822368615638, -0.7225663103256661, -0.6911503837897683, -0.6597344572538706, -0.6283185307179728, -0.5969026041820751, -0.5654866776461773, -0.5340707511102796, -0.5026548245743818, -0.47123889803848407, -0.4398229715025863, -0.40840704496668856, -0.3769911184307908, -0.34557519189489305, -0.3141592653589953, -0.28274333882309755, -0.2513274122871998, -0.21991148575130204, -0.18849555921540428, -0.15707963267950653, -0.12566370614360878, -0.09424777960771102, -0.06283185307181327, -0.03141592653591552, -1.7763568394002505e-14, 0.03141592653587999, 0.06283185307177774, 0.0942477796076755, 0.12566370614357325, 0.157079632679471, 0.18849555921536876, 0.2199114857512665, 0.25132741228716426, 0.282743338823062, 0.31415926535895977, 0.3455751918948575, 0.3769911184307553, 0.40840704496665303, 0.4398229715025508, 0.47123889803844854, 0.5026548245743463, 0.534070751110244, 0.5654866776461418, 0.5969026041820396, 0.6283185307179373, 0.6597344572538351, 0.6911503837897328, 0.7225663103256306, 0.7539822368615283, 0.7853981633974261, 0.8168140899333238, 0.8482300164692216, 0.8796459430051193, 0.9110618695410171, 0.9424777960769148, 0.9738937226128126, 1.0053096491487103, 1.036725575684608, 1.0681415022205059, 1.0995574287564036, 1.1309733552923014, 1.1623892818281991, 1.1938052083640969, 1.2252211348999946, 1.2566370614358924, 1.2880529879717901, 1.3194689145076879, 1.3508848410435856, 1.3823007675794834, 1.4137166941153811, 1.445132620651279, 1.4765485471871767, 1.5079644737230744, 1.5393804002589722, 1.57079632679487, 1.6022122533307677, 1.6336281798666654, 1.6650441064025632, 1.696460032938461, 1.7278759594743587, 1.7592918860102564, 1.7907078125461542, 1.822123739082052, 1.8535396656179497, 1.8849555921538474, 1.9163715186897452, 1.947787445225643, 1.9792033717615407, 2.0106192982974385, 2.042035224833336, 2.073451151369234, 2.1048670779051317, 2.1362830044410295, 2.1676989309769272, 2.199114857512825, 2.2305307840487227, 2.2619467105846205, 2.2933626371205182, 2.324778563656416, 2.3561944901923138, 2.3876104167282115, 2.4190263432641093, 2.450442269800007, 2.4818581963359048, 2.5132741228718025, 2.5446900494077003, 2.576105975943598, 2.607521902479496, 2.6389378290153935, 2.6703537555512913, 2.701769682087189, 2.733185608623087, 2.7646015351589845, 2.7960174616948823, 2.82743338823078, 2.858849314766678, 2.8902652413025756, 2.9216811678384733, 2.953097094374371, 2.984513020910269, 3.0159289474461666, 3.0473448739820643, 3.078760800517962, 3.11017672705386], \"y\": [-1.2246467991473532e-16, -0.03141075907812824, -0.06279051952931314, -0.09410831331851391, -0.12533323356430365, -0.1564344650402301, -0.18738131458572369, -0.21814324139654143, -0.24868988716485352, -0.27899110603922783, -0.30901699437494584, -0.33873792024528965, -0.3681245526846761, -0.39714789063477857, -0.4257792915650705, -0.45399049973954453, -0.4817536741017129, -0.5090414157503688, -0.535826794978994, -0.5620833778521279, -0.5877852522924704, -0.6129070536529736, -0.6374239897486867, -0.6613118653236488, -0.6845471059286856, -0.7071067811865445, -0.7289686274214084, -0.7501110696304565, -0.7705132427757861, -0.7901550123756873, -0.8090169943749443, -0.8270805742745588, -0.8443279255020121, -0.8607420270039408, -0.8763066800438607, -0.8910065241883651, -0.9048270524660168, -0.9177546256839786, -0.9297764858882489, -0.9408807689542231, -0.9510565162951514, -0.9602936856769411, -0.9685831611286293, -0.9759167619387458, -0.9822872507286873, -0.9876883405951364, -0.9921147013144768, -0.9955619646030792, -0.998026728428271, -0.9995065603657313, -1.0, -0.9995065603657318, -0.9980267284282721, -0.9955619646030809, -0.992114701314479, -0.9876883405951392, -0.9822872507286905, -0.9759167619387497, -0.9685831611286336, -0.960293685676946, -0.9510565162951569, -0.9408807689542291, -0.9297764858882555, -0.9177546256839856, -0.9048270524660244, -0.8910065241883731, -0.8763066800438692, -0.8607420270039496, -0.8443279255020215, -0.8270805742745687, -0.8090169943749547, -0.7901550123756981, -0.7705132427757972, -0.750111069630468, -0.7289686274214204, -0.7071067811865569, -0.6845471059286985, -0.6613118653236622, -0.6374239897487004, -0.6129070536529876, -0.5877852522924846, -0.5620833778521425, -0.5358267949790089, -0.509041415750384, -0.4817536741017283, -0.45399049973956024, -0.4257792915650865, -0.3971478906347948, -0.36812455268469246, -0.33873792024530625, -0.3090169943749626, -0.27899110603924476, -0.24868988716487062, -0.21814324139655866, -0.18738131458574103, -0.15643446504024752, -0.12533323356432116, -0.09410831331853146, -0.06279051952933075, -0.03141075907814587, -1.7763568394002505e-14, 0.03141075907811036, 0.06279051952929529, 0.0941083133184961, 0.1253332335642859, 0.15643446504021244, 0.18738131458570612, 0.218143241396524, 0.2486898871648362, 0.2789911060392106, 0.3090169943749288, 0.3387379202452728, 0.36812455268465943, 0.3971478906347622, 0.42577929156505434, 0.4539904997395286, 0.4817536741016972, 0.5090414157503534, 0.5358267949789789, 0.562083377852113, 0.5877852522924558, 0.6129070536529595, 0.637423989748673, 0.6613118653236355, 0.6845471059286726, 0.7071067811865318, 0.7289686274213962, 0.7501110696304446, 0.7705132427757747, 0.7901550123756762, 0.8090169943749338, 0.8270805742745487, 0.8443279255020024, 0.8607420270039315, 0.876306680043852, 0.8910065241883569, 0.9048270524660093, 0.9177546256839715, 0.9297764858882424, 0.9408807689542171, 0.9510565162951459, 0.9602936856769361, 0.9685831611286249, 0.9759167619387419, 0.9822872507286838, 0.9876883405951337, 0.9921147013144745, 0.9955619646030776, 0.9980267284282699, 0.9995065603657307, 1.0, 0.9995065603657324, 0.9980267284282732, 0.9955619646030825, 0.9921147013144813, 0.987688340595142, 0.9822872507286939, 0.9759167619387535, 0.9685831611286381, 0.960293685676951, 0.9510565162951624, 0.9408807689542352, 0.929776485888262, 0.9177546256839927, 0.904827052466032, 0.8910065241883812, 0.8763066800438779, 0.8607420270039587, 0.8443279255020312, 0.8270805742745788, 0.8090169943749652, 0.7901550123757091, 0.7705132427758088, 0.7501110696304799, 0.7289686274214328, 0.7071067811865696, 0.6845471059287115, 0.6613118653236756, 0.6374239897487142, 0.6129070536530017, 0.5877852522924991, 0.5620833778521572, 0.535826794979024, 0.5090414157503994, 0.481753674101744, 0.45399049973957617, 0.42577929156510264, 0.3971478906348112, 0.3681245526847091, 0.33873792024532307, 0.3090169943749796, 0.2789911060392619, 0.2486898871648879, 0.21814324139657612, 0.18738131458575857, 0.15643446504026517, 0.1253332335643389, 0.09410831331854928, 0.0627905195293486, 0.03141075907816375]}],                        {\"template\": {\"data\": {\"bar\": [{\"error_x\": {\"color\": \"#2a3f5f\"}, \"error_y\": {\"color\": \"#2a3f5f\"}, \"marker\": {\"line\": {\"color\": \"#E5ECF6\", \"width\": 0.5}}, \"type\": \"bar\"}], \"barpolar\": [{\"marker\": {\"line\": {\"color\": \"#E5ECF6\", \"width\": 0.5}}, \"type\": \"barpolar\"}], \"carpet\": [{\"aaxis\": {\"endlinecolor\": \"#2a3f5f\", \"gridcolor\": \"white\", \"linecolor\": \"white\", \"minorgridcolor\": \"white\", \"startlinecolor\": \"#2a3f5f\"}, \"baxis\": {\"endlinecolor\": \"#2a3f5f\", \"gridcolor\": \"white\", \"linecolor\": \"white\", \"minorgridcolor\": \"white\", \"startlinecolor\": \"#2a3f5f\"}, \"type\": \"carpet\"}], \"choropleth\": [{\"colorbar\": {\"outlinewidth\": 0, \"ticks\": \"\"}, \"type\": \"choropleth\"}], \"contour\": [{\"colorbar\": {\"outlinewidth\": 0, \"ticks\": \"\"}, \"colorscale\": [[0.0, \"#0d0887\"], [0.1111111111111111, \"#46039f\"], [0.2222222222222222, \"#7201a8\"], [0.3333333333333333, \"#9c179e\"], [0.4444444444444444, \"#bd3786\"], [0.5555555555555556, \"#d8576b\"], [0.6666666666666666, \"#ed7953\"], [0.7777777777777778, \"#fb9f3a\"], [0.8888888888888888, \"#fdca26\"], [1.0, \"#f0f921\"]], \"type\": \"contour\"}], \"contourcarpet\": [{\"colorbar\": {\"outlinewidth\": 0, \"ticks\": \"\"}, \"type\": \"contourcarpet\"}], \"heatmap\": [{\"colorbar\": {\"outlinewidth\": 0, \"ticks\": \"\"}, \"colorscale\": [[0.0, \"#0d0887\"], [0.1111111111111111, \"#46039f\"], [0.2222222222222222, \"#7201a8\"], [0.3333333333333333, \"#9c179e\"], [0.4444444444444444, \"#bd3786\"], [0.5555555555555556, \"#d8576b\"], [0.6666666666666666, \"#ed7953\"], [0.7777777777777778, \"#fb9f3a\"], [0.8888888888888888, \"#fdca26\"], [1.0, \"#f0f921\"]], \"type\": \"heatmap\"}], \"heatmapgl\": [{\"colorbar\": {\"outlinewidth\": 0, \"ticks\": \"\"}, \"colorscale\": [[0.0, \"#0d0887\"], [0.1111111111111111, \"#46039f\"], [0.2222222222222222, \"#7201a8\"], [0.3333333333333333, \"#9c179e\"], [0.4444444444444444, \"#bd3786\"], [0.5555555555555556, \"#d8576b\"], [0.6666666666666666, \"#ed7953\"], [0.7777777777777778, \"#fb9f3a\"], [0.8888888888888888, \"#fdca26\"], [1.0, \"#f0f921\"]], \"type\": \"heatmapgl\"}], \"histogram\": [{\"marker\": {\"colorbar\": {\"outlinewidth\": 0, \"ticks\": \"\"}}, \"type\": \"histogram\"}], \"histogram2d\": [{\"colorbar\": {\"outlinewidth\": 0, \"ticks\": \"\"}, \"colorscale\": [[0.0, \"#0d0887\"], [0.1111111111111111, \"#46039f\"], [0.2222222222222222, \"#7201a8\"], [0.3333333333333333, \"#9c179e\"], [0.4444444444444444, \"#bd3786\"], [0.5555555555555556, \"#d8576b\"], [0.6666666666666666, \"#ed7953\"], [0.7777777777777778, \"#fb9f3a\"], [0.8888888888888888, \"#fdca26\"], [1.0, \"#f0f921\"]], \"type\": \"histogram2d\"}], \"histogram2dcontour\": [{\"colorbar\": {\"outlinewidth\": 0, \"ticks\": \"\"}, \"colorscale\": [[0.0, \"#0d0887\"], [0.1111111111111111, \"#46039f\"], [0.2222222222222222, \"#7201a8\"], [0.3333333333333333, \"#9c179e\"], [0.4444444444444444, \"#bd3786\"], [0.5555555555555556, \"#d8576b\"], [0.6666666666666666, \"#ed7953\"], [0.7777777777777778, \"#fb9f3a\"], [0.8888888888888888, \"#fdca26\"], [1.0, \"#f0f921\"]], \"type\": \"histogram2dcontour\"}], \"mesh3d\": [{\"colorbar\": {\"outlinewidth\": 0, \"ticks\": \"\"}, \"type\": \"mesh3d\"}], \"parcoords\": [{\"line\": {\"colorbar\": {\"outlinewidth\": 0, \"ticks\": \"\"}}, \"type\": \"parcoords\"}], \"pie\": [{\"automargin\": true, \"type\": \"pie\"}], \"scatter\": [{\"marker\": {\"colorbar\": {\"outlinewidth\": 0, \"ticks\": \"\"}}, \"type\": \"scatter\"}], \"scatter3d\": [{\"line\": {\"colorbar\": {\"outlinewidth\": 0, \"ticks\": \"\"}}, \"marker\": {\"colorbar\": {\"outlinewidth\": 0, \"ticks\": \"\"}}, \"type\": \"scatter3d\"}], \"scattercarpet\": [{\"marker\": {\"colorbar\": {\"outlinewidth\": 0, \"ticks\": \"\"}}, \"type\": \"scattercarpet\"}], \"scattergeo\": [{\"marker\": {\"colorbar\": {\"outlinewidth\": 0, \"ticks\": \"\"}}, \"type\": \"scattergeo\"}], \"scattergl\": [{\"marker\": {\"colorbar\": {\"outlinewidth\": 0, \"ticks\": \"\"}}, \"type\": \"scattergl\"}], \"scattermapbox\": [{\"marker\": {\"colorbar\": {\"outlinewidth\": 0, \"ticks\": \"\"}}, \"type\": \"scattermapbox\"}], \"scatterpolar\": [{\"marker\": {\"colorbar\": {\"outlinewidth\": 0, \"ticks\": \"\"}}, \"type\": \"scatterpolar\"}], \"scatterpolargl\": [{\"marker\": {\"colorbar\": {\"outlinewidth\": 0, \"ticks\": \"\"}}, \"type\": \"scatterpolargl\"}], \"scatterternary\": [{\"marker\": {\"colorbar\": {\"outlinewidth\": 0, \"ticks\": \"\"}}, \"type\": \"scatterternary\"}], \"surface\": [{\"colorbar\": {\"outlinewidth\": 0, \"ticks\": \"\"}, \"colorscale\": [[0.0, \"#0d0887\"], [0.1111111111111111, \"#46039f\"], [0.2222222222222222, \"#7201a8\"], [0.3333333333333333, \"#9c179e\"], [0.4444444444444444, \"#bd3786\"], [0.5555555555555556, \"#d8576b\"], [0.6666666666666666, \"#ed7953\"], [0.7777777777777778, \"#fb9f3a\"], [0.8888888888888888, \"#fdca26\"], [1.0, \"#f0f921\"]], \"type\": \"surface\"}], \"table\": [{\"cells\": {\"fill\": {\"color\": \"#EBF0F8\"}, \"line\": {\"color\": \"white\"}}, \"header\": {\"fill\": {\"color\": \"#C8D4E3\"}, \"line\": {\"color\": \"white\"}}, \"type\": \"table\"}]}, \"layout\": {\"annotationdefaults\": {\"arrowcolor\": \"#2a3f5f\", \"arrowhead\": 0, \"arrowwidth\": 1}, \"autotypenumbers\": \"strict\", \"coloraxis\": {\"colorbar\": {\"outlinewidth\": 0, \"ticks\": \"\"}}, \"colorscale\": {\"diverging\": [[0, \"#8e0152\"], [0.1, \"#c51b7d\"], [0.2, \"#de77ae\"], [0.3, \"#f1b6da\"], [0.4, \"#fde0ef\"], [0.5, \"#f7f7f7\"], [0.6, \"#e6f5d0\"], [0.7, \"#b8e186\"], [0.8, \"#7fbc41\"], [0.9, \"#4d9221\"], [1, \"#276419\"]], \"sequential\": [[0.0, \"#0d0887\"], [0.1111111111111111, \"#46039f\"], [0.2222222222222222, \"#7201a8\"], [0.3333333333333333, \"#9c179e\"], [0.4444444444444444, \"#bd3786\"], [0.5555555555555556, \"#d8576b\"], [0.6666666666666666, \"#ed7953\"], [0.7777777777777778, \"#fb9f3a\"], [0.8888888888888888, \"#fdca26\"], [1.0, \"#f0f921\"]], \"sequentialminus\": [[0.0, \"#0d0887\"], [0.1111111111111111, \"#46039f\"], [0.2222222222222222, \"#7201a8\"], [0.3333333333333333, \"#9c179e\"], [0.4444444444444444, \"#bd3786\"], [0.5555555555555556, \"#d8576b\"], [0.6666666666666666, \"#ed7953\"], [0.7777777777777778, \"#fb9f3a\"], [0.8888888888888888, \"#fdca26\"], [1.0, \"#f0f921\"]]}, \"colorway\": [\"#636efa\", \"#EF553B\", \"#00cc96\", \"#ab63fa\", \"#FFA15A\", \"#19d3f3\", \"#FF6692\", \"#B6E880\", \"#FF97FF\", \"#FECB52\"], \"font\": {\"color\": \"#2a3f5f\"}, \"geo\": {\"bgcolor\": \"white\", \"lakecolor\": \"white\", \"landcolor\": \"#E5ECF6\", \"showlakes\": true, \"showland\": true, \"subunitcolor\": \"white\"}, \"hoverlabel\": {\"align\": \"left\"}, \"hovermode\": \"closest\", \"mapbox\": {\"style\": \"light\"}, \"paper_bgcolor\": \"white\", \"plot_bgcolor\": \"#E5ECF6\", \"polar\": {\"angularaxis\": {\"gridcolor\": \"white\", \"linecolor\": \"white\", \"ticks\": \"\"}, \"bgcolor\": \"#E5ECF6\", \"radialaxis\": {\"gridcolor\": \"white\", \"linecolor\": \"white\", \"ticks\": \"\"}}, \"scene\": {\"xaxis\": {\"backgroundcolor\": \"#E5ECF6\", \"gridcolor\": \"white\", \"gridwidth\": 2, \"linecolor\": \"white\", \"showbackground\": true, \"ticks\": \"\", \"zerolinecolor\": \"white\"}, \"yaxis\": {\"backgroundcolor\": \"#E5ECF6\", \"gridcolor\": \"white\", \"gridwidth\": 2, \"linecolor\": \"white\", \"showbackground\": true, \"ticks\": \"\", \"zerolinecolor\": \"white\"}, \"zaxis\": {\"backgroundcolor\": \"#E5ECF6\", \"gridcolor\": \"white\", \"gridwidth\": 2, \"linecolor\": \"white\", \"showbackground\": true, \"ticks\": \"\", \"zerolinecolor\": \"white\"}}, \"shapedefaults\": {\"line\": {\"color\": \"#2a3f5f\"}}, \"ternary\": {\"aaxis\": {\"gridcolor\": \"white\", \"linecolor\": \"white\", \"ticks\": \"\"}, \"baxis\": {\"gridcolor\": \"white\", \"linecolor\": \"white\", \"ticks\": \"\"}, \"bgcolor\": \"#E5ECF6\", \"caxis\": {\"gridcolor\": \"white\", \"linecolor\": \"white\", \"ticks\": \"\"}}, \"title\": {\"x\": 0.05}, \"xaxis\": {\"automargin\": true, \"gridcolor\": \"white\", \"linecolor\": \"white\", \"ticks\": \"\", \"title\": {\"standoff\": 15}, \"zerolinecolor\": \"white\", \"zerolinewidth\": 2}, \"yaxis\": {\"automargin\": true, \"gridcolor\": \"white\", \"linecolor\": \"white\", \"ticks\": \"\", \"title\": {\"standoff\": 15}, \"zerolinecolor\": \"white\", \"zerolinewidth\": 2}}}},                        {\"responsive\": true}                    ).then(function(){\n",
       "                            \n",
       "var gd = document.getElementById('dded3536-5f16-4a8b-8733-525d4d7c8fae');\n",
       "var x = new MutationObserver(function (mutations, observer) {{\n",
       "        var display = window.getComputedStyle(gd).display;\n",
       "        if (!display || display === 'none') {{\n",
       "            console.log([gd, 'removed!']);\n",
       "            Plotly.purge(gd);\n",
       "            observer.disconnect();\n",
       "        }}\n",
       "}});\n",
       "\n",
       "// Listen for the removal of the full notebook cells\n",
       "var notebookContainer = gd.closest('#notebook-container');\n",
       "if (notebookContainer) {{\n",
       "    x.observe(notebookContainer, {childList: true});\n",
       "}}\n",
       "\n",
       "// Listen for the clearing of the current output cell\n",
       "var outputEl = gd.closest('.output');\n",
       "if (outputEl) {{\n",
       "    x.observe(outputEl, {childList: true});\n",
       "}}\n",
       "\n",
       "                        })                };                });            </script>        </div>"
      ]
     },
     "metadata": {},
     "output_type": "display_data"
    }
   ],
   "source": [
    "fig = go.Figure(s1)\n",
    "fig"
   ]
  },
  {
   "cell_type": "markdown",
   "metadata": {},
   "source": [
    "### Let's re-draw with markers and lines"
   ]
  },
  {
   "cell_type": "markdown",
   "metadata": {},
   "source": [
    "**A wrong approach:** Simply changing s1.mode will not affect anything. Probably, the constructor of go.Figure simply reads data off of go.Scatter object and does not embed it."
   ]
  },
  {
   "cell_type": "code",
   "execution_count": 32,
   "metadata": {},
   "outputs": [
    {
     "name": "stdout",
     "output_type": "stream",
     "text": [
      "markers\n"
     ]
    }
   ],
   "source": [
    "s1.mode='markers'"
   ]
  },
  {
   "cell_type": "markdown",
   "metadata": {},
   "source": [
    "Looking at the fig.data[0] attributes, we see that s1.mode has no affect. The two objects are detached. We also create a f0 as pointer to fig.data[0] to benefit from drop-down help"
   ]
  },
  {
   "cell_type": "code",
   "execution_count": 39,
   "metadata": {},
   "outputs": [],
   "source": [
    "f0 = fig.data[0]"
   ]
  },
  {
   "cell_type": "code",
   "execution_count": 41,
   "metadata": {},
   "outputs": [
    {
     "name": "stdout",
     "output_type": "stream",
     "text": [
      "None\n"
     ]
    }
   ],
   "source": [
    "print(f0.mode)"
   ]
  },
  {
   "cell_type": "markdown",
   "metadata": {},
   "source": [
    "To change attributes of fig, we must operate directly on it:"
   ]
  },
  {
   "cell_type": "code",
   "execution_count": 63,
   "metadata": {},
   "outputs": [],
   "source": [
    "f0.mode = 'markers'"
   ]
  },
  {
   "cell_type": "code",
   "execution_count": 64,
   "metadata": {},
   "outputs": [
    {
     "data": {
      "application/vnd.plotly.v1+json": {
       "config": {
        "plotlyServerURL": "https://plot.ly"
       },
       "data": [
        {
         "mode": "markers",
         "type": "scatter",
         "x": [
          -3.141592653589793,
          -3.1101767270538954,
          -3.0787608005179976,
          -3.0473448739821,
          -3.015928947446202,
          -2.9845130209103043,
          -2.9530970943744066,
          -2.921681167838509,
          -2.890265241302611,
          -2.8588493147667133,
          -2.8274333882308156,
          -2.796017461694918,
          -2.76460153515902,
          -2.7331856086231223,
          -2.7017696820872246,
          -2.670353755551327,
          -2.638937829015429,
          -2.6075219024795313,
          -2.5761059759436336,
          -2.544690049407736,
          -2.513274122871838,
          -2.4818581963359403,
          -2.4504422698000425,
          -2.419026343264145,
          -2.387610416728247,
          -2.3561944901923493,
          -2.3247785636564515,
          -2.2933626371205538,
          -2.261946710584656,
          -2.2305307840487583,
          -2.1991148575128605,
          -2.1676989309769628,
          -2.136283004441065,
          -2.1048670779051672,
          -2.0734511513692695,
          -2.0420352248333717,
          -2.010619298297474,
          -1.9792033717615762,
          -1.9477874452256785,
          -1.9163715186897807,
          -1.884955592153883,
          -1.8535396656179852,
          -1.8221237390820875,
          -1.7907078125461897,
          -1.759291886010292,
          -1.7278759594743942,
          -1.6964600329384965,
          -1.6650441064025987,
          -1.633628179866701,
          -1.6022122533308032,
          -1.5707963267949054,
          -1.5393804002590077,
          -1.50796447372311,
          -1.4765485471872122,
          -1.4451326206513144,
          -1.4137166941154167,
          -1.382300767579519,
          -1.3508848410436212,
          -1.3194689145077234,
          -1.2880529879718257,
          -1.256637061435928,
          -1.2252211349000302,
          -1.1938052083641324,
          -1.1623892818282346,
          -1.130973355292337,
          -1.0995574287564391,
          -1.0681415022205414,
          -1.0367255756846436,
          -1.0053096491487459,
          -0.9738937226128481,
          -0.9424777960769504,
          -0.9110618695410526,
          -0.8796459430051549,
          -0.8482300164692571,
          -0.8168140899333594,
          -0.7853981633974616,
          -0.7539822368615638,
          -0.7225663103256661,
          -0.6911503837897683,
          -0.6597344572538706,
          -0.6283185307179728,
          -0.5969026041820751,
          -0.5654866776461773,
          -0.5340707511102796,
          -0.5026548245743818,
          -0.47123889803848407,
          -0.4398229715025863,
          -0.40840704496668856,
          -0.3769911184307908,
          -0.34557519189489305,
          -0.3141592653589953,
          -0.28274333882309755,
          -0.2513274122871998,
          -0.21991148575130204,
          -0.18849555921540428,
          -0.15707963267950653,
          -0.12566370614360878,
          -0.09424777960771102,
          -0.06283185307181327,
          -0.03141592653591552,
          -1.7763568394002505e-14,
          0.03141592653587999,
          0.06283185307177774,
          0.0942477796076755,
          0.12566370614357325,
          0.157079632679471,
          0.18849555921536876,
          0.2199114857512665,
          0.25132741228716426,
          0.282743338823062,
          0.31415926535895977,
          0.3455751918948575,
          0.3769911184307553,
          0.40840704496665303,
          0.4398229715025508,
          0.47123889803844854,
          0.5026548245743463,
          0.534070751110244,
          0.5654866776461418,
          0.5969026041820396,
          0.6283185307179373,
          0.6597344572538351,
          0.6911503837897328,
          0.7225663103256306,
          0.7539822368615283,
          0.7853981633974261,
          0.8168140899333238,
          0.8482300164692216,
          0.8796459430051193,
          0.9110618695410171,
          0.9424777960769148,
          0.9738937226128126,
          1.0053096491487103,
          1.036725575684608,
          1.0681415022205059,
          1.0995574287564036,
          1.1309733552923014,
          1.1623892818281991,
          1.1938052083640969,
          1.2252211348999946,
          1.2566370614358924,
          1.2880529879717901,
          1.3194689145076879,
          1.3508848410435856,
          1.3823007675794834,
          1.4137166941153811,
          1.445132620651279,
          1.4765485471871767,
          1.5079644737230744,
          1.5393804002589722,
          1.57079632679487,
          1.6022122533307677,
          1.6336281798666654,
          1.6650441064025632,
          1.696460032938461,
          1.7278759594743587,
          1.7592918860102564,
          1.7907078125461542,
          1.822123739082052,
          1.8535396656179497,
          1.8849555921538474,
          1.9163715186897452,
          1.947787445225643,
          1.9792033717615407,
          2.0106192982974385,
          2.042035224833336,
          2.073451151369234,
          2.1048670779051317,
          2.1362830044410295,
          2.1676989309769272,
          2.199114857512825,
          2.2305307840487227,
          2.2619467105846205,
          2.2933626371205182,
          2.324778563656416,
          2.3561944901923138,
          2.3876104167282115,
          2.4190263432641093,
          2.450442269800007,
          2.4818581963359048,
          2.5132741228718025,
          2.5446900494077003,
          2.576105975943598,
          2.607521902479496,
          2.6389378290153935,
          2.6703537555512913,
          2.701769682087189,
          2.733185608623087,
          2.7646015351589845,
          2.7960174616948823,
          2.82743338823078,
          2.858849314766678,
          2.8902652413025756,
          2.9216811678384733,
          2.953097094374371,
          2.984513020910269,
          3.0159289474461666,
          3.0473448739820643,
          3.078760800517962,
          3.11017672705386
         ],
         "y": [
          -1.2246467991473532e-16,
          -0.03141075907812824,
          -0.06279051952931314,
          -0.09410831331851391,
          -0.12533323356430365,
          -0.1564344650402301,
          -0.18738131458572369,
          -0.21814324139654143,
          -0.24868988716485352,
          -0.27899110603922783,
          -0.30901699437494584,
          -0.33873792024528965,
          -0.3681245526846761,
          -0.39714789063477857,
          -0.4257792915650705,
          -0.45399049973954453,
          -0.4817536741017129,
          -0.5090414157503688,
          -0.535826794978994,
          -0.5620833778521279,
          -0.5877852522924704,
          -0.6129070536529736,
          -0.6374239897486867,
          -0.6613118653236488,
          -0.6845471059286856,
          -0.7071067811865445,
          -0.7289686274214084,
          -0.7501110696304565,
          -0.7705132427757861,
          -0.7901550123756873,
          -0.8090169943749443,
          -0.8270805742745588,
          -0.8443279255020121,
          -0.8607420270039408,
          -0.8763066800438607,
          -0.8910065241883651,
          -0.9048270524660168,
          -0.9177546256839786,
          -0.9297764858882489,
          -0.9408807689542231,
          -0.9510565162951514,
          -0.9602936856769411,
          -0.9685831611286293,
          -0.9759167619387458,
          -0.9822872507286873,
          -0.9876883405951364,
          -0.9921147013144768,
          -0.9955619646030792,
          -0.998026728428271,
          -0.9995065603657313,
          -1,
          -0.9995065603657318,
          -0.9980267284282721,
          -0.9955619646030809,
          -0.992114701314479,
          -0.9876883405951392,
          -0.9822872507286905,
          -0.9759167619387497,
          -0.9685831611286336,
          -0.960293685676946,
          -0.9510565162951569,
          -0.9408807689542291,
          -0.9297764858882555,
          -0.9177546256839856,
          -0.9048270524660244,
          -0.8910065241883731,
          -0.8763066800438692,
          -0.8607420270039496,
          -0.8443279255020215,
          -0.8270805742745687,
          -0.8090169943749547,
          -0.7901550123756981,
          -0.7705132427757972,
          -0.750111069630468,
          -0.7289686274214204,
          -0.7071067811865569,
          -0.6845471059286985,
          -0.6613118653236622,
          -0.6374239897487004,
          -0.6129070536529876,
          -0.5877852522924846,
          -0.5620833778521425,
          -0.5358267949790089,
          -0.509041415750384,
          -0.4817536741017283,
          -0.45399049973956024,
          -0.4257792915650865,
          -0.3971478906347948,
          -0.36812455268469246,
          -0.33873792024530625,
          -0.3090169943749626,
          -0.27899110603924476,
          -0.24868988716487062,
          -0.21814324139655866,
          -0.18738131458574103,
          -0.15643446504024752,
          -0.12533323356432116,
          -0.09410831331853146,
          -0.06279051952933075,
          -0.03141075907814587,
          -1.7763568394002505e-14,
          0.03141075907811036,
          0.06279051952929529,
          0.0941083133184961,
          0.1253332335642859,
          0.15643446504021244,
          0.18738131458570612,
          0.218143241396524,
          0.2486898871648362,
          0.2789911060392106,
          0.3090169943749288,
          0.3387379202452728,
          0.36812455268465943,
          0.3971478906347622,
          0.42577929156505434,
          0.4539904997395286,
          0.4817536741016972,
          0.5090414157503534,
          0.5358267949789789,
          0.562083377852113,
          0.5877852522924558,
          0.6129070536529595,
          0.637423989748673,
          0.6613118653236355,
          0.6845471059286726,
          0.7071067811865318,
          0.7289686274213962,
          0.7501110696304446,
          0.7705132427757747,
          0.7901550123756762,
          0.8090169943749338,
          0.8270805742745487,
          0.8443279255020024,
          0.8607420270039315,
          0.876306680043852,
          0.8910065241883569,
          0.9048270524660093,
          0.9177546256839715,
          0.9297764858882424,
          0.9408807689542171,
          0.9510565162951459,
          0.9602936856769361,
          0.9685831611286249,
          0.9759167619387419,
          0.9822872507286838,
          0.9876883405951337,
          0.9921147013144745,
          0.9955619646030776,
          0.9980267284282699,
          0.9995065603657307,
          1,
          0.9995065603657324,
          0.9980267284282732,
          0.9955619646030825,
          0.9921147013144813,
          0.987688340595142,
          0.9822872507286939,
          0.9759167619387535,
          0.9685831611286381,
          0.960293685676951,
          0.9510565162951624,
          0.9408807689542352,
          0.929776485888262,
          0.9177546256839927,
          0.904827052466032,
          0.8910065241883812,
          0.8763066800438779,
          0.8607420270039587,
          0.8443279255020312,
          0.8270805742745788,
          0.8090169943749652,
          0.7901550123757091,
          0.7705132427758088,
          0.7501110696304799,
          0.7289686274214328,
          0.7071067811865696,
          0.6845471059287115,
          0.6613118653236756,
          0.6374239897487142,
          0.6129070536530017,
          0.5877852522924991,
          0.5620833778521572,
          0.535826794979024,
          0.5090414157503994,
          0.481753674101744,
          0.45399049973957617,
          0.42577929156510264,
          0.3971478906348112,
          0.3681245526847091,
          0.33873792024532307,
          0.3090169943749796,
          0.2789911060392619,
          0.2486898871648879,
          0.21814324139657612,
          0.18738131458575857,
          0.15643446504026517,
          0.1253332335643389,
          0.09410831331854928,
          0.0627905195293486,
          0.03141075907816375
         ]
        }
       ],
       "layout": {
        "autosize": true,
        "template": {
         "data": {
          "bar": [
           {
            "error_x": {
             "color": "#2a3f5f"
            },
            "error_y": {
             "color": "#2a3f5f"
            },
            "marker": {
             "line": {
              "color": "#E5ECF6",
              "width": 0.5
             }
            },
            "type": "bar"
           }
          ],
          "barpolar": [
           {
            "marker": {
             "line": {
              "color": "#E5ECF6",
              "width": 0.5
             }
            },
            "type": "barpolar"
           }
          ],
          "carpet": [
           {
            "aaxis": {
             "endlinecolor": "#2a3f5f",
             "gridcolor": "white",
             "linecolor": "white",
             "minorgridcolor": "white",
             "startlinecolor": "#2a3f5f"
            },
            "baxis": {
             "endlinecolor": "#2a3f5f",
             "gridcolor": "white",
             "linecolor": "white",
             "minorgridcolor": "white",
             "startlinecolor": "#2a3f5f"
            },
            "type": "carpet"
           }
          ],
          "choropleth": [
           {
            "colorbar": {
             "outlinewidth": 0,
             "ticks": ""
            },
            "type": "choropleth"
           }
          ],
          "contour": [
           {
            "colorbar": {
             "outlinewidth": 0,
             "ticks": ""
            },
            "colorscale": [
             [
              0,
              "#0d0887"
             ],
             [
              0.1111111111111111,
              "#46039f"
             ],
             [
              0.2222222222222222,
              "#7201a8"
             ],
             [
              0.3333333333333333,
              "#9c179e"
             ],
             [
              0.4444444444444444,
              "#bd3786"
             ],
             [
              0.5555555555555556,
              "#d8576b"
             ],
             [
              0.6666666666666666,
              "#ed7953"
             ],
             [
              0.7777777777777778,
              "#fb9f3a"
             ],
             [
              0.8888888888888888,
              "#fdca26"
             ],
             [
              1,
              "#f0f921"
             ]
            ],
            "type": "contour"
           }
          ],
          "contourcarpet": [
           {
            "colorbar": {
             "outlinewidth": 0,
             "ticks": ""
            },
            "type": "contourcarpet"
           }
          ],
          "heatmap": [
           {
            "colorbar": {
             "outlinewidth": 0,
             "ticks": ""
            },
            "colorscale": [
             [
              0,
              "#0d0887"
             ],
             [
              0.1111111111111111,
              "#46039f"
             ],
             [
              0.2222222222222222,
              "#7201a8"
             ],
             [
              0.3333333333333333,
              "#9c179e"
             ],
             [
              0.4444444444444444,
              "#bd3786"
             ],
             [
              0.5555555555555556,
              "#d8576b"
             ],
             [
              0.6666666666666666,
              "#ed7953"
             ],
             [
              0.7777777777777778,
              "#fb9f3a"
             ],
             [
              0.8888888888888888,
              "#fdca26"
             ],
             [
              1,
              "#f0f921"
             ]
            ],
            "type": "heatmap"
           }
          ],
          "heatmapgl": [
           {
            "colorbar": {
             "outlinewidth": 0,
             "ticks": ""
            },
            "colorscale": [
             [
              0,
              "#0d0887"
             ],
             [
              0.1111111111111111,
              "#46039f"
             ],
             [
              0.2222222222222222,
              "#7201a8"
             ],
             [
              0.3333333333333333,
              "#9c179e"
             ],
             [
              0.4444444444444444,
              "#bd3786"
             ],
             [
              0.5555555555555556,
              "#d8576b"
             ],
             [
              0.6666666666666666,
              "#ed7953"
             ],
             [
              0.7777777777777778,
              "#fb9f3a"
             ],
             [
              0.8888888888888888,
              "#fdca26"
             ],
             [
              1,
              "#f0f921"
             ]
            ],
            "type": "heatmapgl"
           }
          ],
          "histogram": [
           {
            "marker": {
             "colorbar": {
              "outlinewidth": 0,
              "ticks": ""
             }
            },
            "type": "histogram"
           }
          ],
          "histogram2d": [
           {
            "colorbar": {
             "outlinewidth": 0,
             "ticks": ""
            },
            "colorscale": [
             [
              0,
              "#0d0887"
             ],
             [
              0.1111111111111111,
              "#46039f"
             ],
             [
              0.2222222222222222,
              "#7201a8"
             ],
             [
              0.3333333333333333,
              "#9c179e"
             ],
             [
              0.4444444444444444,
              "#bd3786"
             ],
             [
              0.5555555555555556,
              "#d8576b"
             ],
             [
              0.6666666666666666,
              "#ed7953"
             ],
             [
              0.7777777777777778,
              "#fb9f3a"
             ],
             [
              0.8888888888888888,
              "#fdca26"
             ],
             [
              1,
              "#f0f921"
             ]
            ],
            "type": "histogram2d"
           }
          ],
          "histogram2dcontour": [
           {
            "colorbar": {
             "outlinewidth": 0,
             "ticks": ""
            },
            "colorscale": [
             [
              0,
              "#0d0887"
             ],
             [
              0.1111111111111111,
              "#46039f"
             ],
             [
              0.2222222222222222,
              "#7201a8"
             ],
             [
              0.3333333333333333,
              "#9c179e"
             ],
             [
              0.4444444444444444,
              "#bd3786"
             ],
             [
              0.5555555555555556,
              "#d8576b"
             ],
             [
              0.6666666666666666,
              "#ed7953"
             ],
             [
              0.7777777777777778,
              "#fb9f3a"
             ],
             [
              0.8888888888888888,
              "#fdca26"
             ],
             [
              1,
              "#f0f921"
             ]
            ],
            "type": "histogram2dcontour"
           }
          ],
          "mesh3d": [
           {
            "colorbar": {
             "outlinewidth": 0,
             "ticks": ""
            },
            "type": "mesh3d"
           }
          ],
          "parcoords": [
           {
            "line": {
             "colorbar": {
              "outlinewidth": 0,
              "ticks": ""
             }
            },
            "type": "parcoords"
           }
          ],
          "pie": [
           {
            "automargin": true,
            "type": "pie"
           }
          ],
          "scatter": [
           {
            "marker": {
             "colorbar": {
              "outlinewidth": 0,
              "ticks": ""
             }
            },
            "type": "scatter"
           }
          ],
          "scatter3d": [
           {
            "line": {
             "colorbar": {
              "outlinewidth": 0,
              "ticks": ""
             }
            },
            "marker": {
             "colorbar": {
              "outlinewidth": 0,
              "ticks": ""
             }
            },
            "type": "scatter3d"
           }
          ],
          "scattercarpet": [
           {
            "marker": {
             "colorbar": {
              "outlinewidth": 0,
              "ticks": ""
             }
            },
            "type": "scattercarpet"
           }
          ],
          "scattergeo": [
           {
            "marker": {
             "colorbar": {
              "outlinewidth": 0,
              "ticks": ""
             }
            },
            "type": "scattergeo"
           }
          ],
          "scattergl": [
           {
            "marker": {
             "colorbar": {
              "outlinewidth": 0,
              "ticks": ""
             }
            },
            "type": "scattergl"
           }
          ],
          "scattermapbox": [
           {
            "marker": {
             "colorbar": {
              "outlinewidth": 0,
              "ticks": ""
             }
            },
            "type": "scattermapbox"
           }
          ],
          "scatterpolar": [
           {
            "marker": {
             "colorbar": {
              "outlinewidth": 0,
              "ticks": ""
             }
            },
            "type": "scatterpolar"
           }
          ],
          "scatterpolargl": [
           {
            "marker": {
             "colorbar": {
              "outlinewidth": 0,
              "ticks": ""
             }
            },
            "type": "scatterpolargl"
           }
          ],
          "scatterternary": [
           {
            "marker": {
             "colorbar": {
              "outlinewidth": 0,
              "ticks": ""
             }
            },
            "type": "scatterternary"
           }
          ],
          "surface": [
           {
            "colorbar": {
             "outlinewidth": 0,
             "ticks": ""
            },
            "colorscale": [
             [
              0,
              "#0d0887"
             ],
             [
              0.1111111111111111,
              "#46039f"
             ],
             [
              0.2222222222222222,
              "#7201a8"
             ],
             [
              0.3333333333333333,
              "#9c179e"
             ],
             [
              0.4444444444444444,
              "#bd3786"
             ],
             [
              0.5555555555555556,
              "#d8576b"
             ],
             [
              0.6666666666666666,
              "#ed7953"
             ],
             [
              0.7777777777777778,
              "#fb9f3a"
             ],
             [
              0.8888888888888888,
              "#fdca26"
             ],
             [
              1,
              "#f0f921"
             ]
            ],
            "type": "surface"
           }
          ],
          "table": [
           {
            "cells": {
             "fill": {
              "color": "#EBF0F8"
             },
             "line": {
              "color": "white"
             }
            },
            "header": {
             "fill": {
              "color": "#C8D4E3"
             },
             "line": {
              "color": "white"
             }
            },
            "type": "table"
           }
          ]
         },
         "layout": {
          "annotationdefaults": {
           "arrowcolor": "#2a3f5f",
           "arrowhead": 0,
           "arrowwidth": 1
          },
          "autotypenumbers": "strict",
          "coloraxis": {
           "colorbar": {
            "outlinewidth": 0,
            "ticks": ""
           }
          },
          "colorscale": {
           "diverging": [
            [
             0,
             "#8e0152"
            ],
            [
             0.1,
             "#c51b7d"
            ],
            [
             0.2,
             "#de77ae"
            ],
            [
             0.3,
             "#f1b6da"
            ],
            [
             0.4,
             "#fde0ef"
            ],
            [
             0.5,
             "#f7f7f7"
            ],
            [
             0.6,
             "#e6f5d0"
            ],
            [
             0.7,
             "#b8e186"
            ],
            [
             0.8,
             "#7fbc41"
            ],
            [
             0.9,
             "#4d9221"
            ],
            [
             1,
             "#276419"
            ]
           ],
           "sequential": [
            [
             0,
             "#0d0887"
            ],
            [
             0.1111111111111111,
             "#46039f"
            ],
            [
             0.2222222222222222,
             "#7201a8"
            ],
            [
             0.3333333333333333,
             "#9c179e"
            ],
            [
             0.4444444444444444,
             "#bd3786"
            ],
            [
             0.5555555555555556,
             "#d8576b"
            ],
            [
             0.6666666666666666,
             "#ed7953"
            ],
            [
             0.7777777777777778,
             "#fb9f3a"
            ],
            [
             0.8888888888888888,
             "#fdca26"
            ],
            [
             1,
             "#f0f921"
            ]
           ],
           "sequentialminus": [
            [
             0,
             "#0d0887"
            ],
            [
             0.1111111111111111,
             "#46039f"
            ],
            [
             0.2222222222222222,
             "#7201a8"
            ],
            [
             0.3333333333333333,
             "#9c179e"
            ],
            [
             0.4444444444444444,
             "#bd3786"
            ],
            [
             0.5555555555555556,
             "#d8576b"
            ],
            [
             0.6666666666666666,
             "#ed7953"
            ],
            [
             0.7777777777777778,
             "#fb9f3a"
            ],
            [
             0.8888888888888888,
             "#fdca26"
            ],
            [
             1,
             "#f0f921"
            ]
           ]
          },
          "colorway": [
           "#636efa",
           "#EF553B",
           "#00cc96",
           "#ab63fa",
           "#FFA15A",
           "#19d3f3",
           "#FF6692",
           "#B6E880",
           "#FF97FF",
           "#FECB52"
          ],
          "font": {
           "color": "#2a3f5f"
          },
          "geo": {
           "bgcolor": "white",
           "lakecolor": "white",
           "landcolor": "#E5ECF6",
           "showlakes": true,
           "showland": true,
           "subunitcolor": "white"
          },
          "hoverlabel": {
           "align": "left"
          },
          "hovermode": "closest",
          "mapbox": {
           "style": "light"
          },
          "paper_bgcolor": "white",
          "plot_bgcolor": "#E5ECF6",
          "polar": {
           "angularaxis": {
            "gridcolor": "white",
            "linecolor": "white",
            "ticks": ""
           },
           "bgcolor": "#E5ECF6",
           "radialaxis": {
            "gridcolor": "white",
            "linecolor": "white",
            "ticks": ""
           }
          },
          "scene": {
           "xaxis": {
            "backgroundcolor": "#E5ECF6",
            "gridcolor": "white",
            "gridwidth": 2,
            "linecolor": "white",
            "showbackground": true,
            "ticks": "",
            "zerolinecolor": "white"
           },
           "yaxis": {
            "backgroundcolor": "#E5ECF6",
            "gridcolor": "white",
            "gridwidth": 2,
            "linecolor": "white",
            "showbackground": true,
            "ticks": "",
            "zerolinecolor": "white"
           },
           "zaxis": {
            "backgroundcolor": "#E5ECF6",
            "gridcolor": "white",
            "gridwidth": 2,
            "linecolor": "white",
            "showbackground": true,
            "ticks": "",
            "zerolinecolor": "white"
           }
          },
          "shapedefaults": {
           "line": {
            "color": "#2a3f5f"
           }
          },
          "ternary": {
           "aaxis": {
            "gridcolor": "white",
            "linecolor": "white",
            "ticks": ""
           },
           "baxis": {
            "gridcolor": "white",
            "linecolor": "white",
            "ticks": ""
           },
           "bgcolor": "#E5ECF6",
           "caxis": {
            "gridcolor": "white",
            "linecolor": "white",
            "ticks": ""
           }
          },
          "title": {
           "x": 0.05
          },
          "xaxis": {
           "automargin": true,
           "gridcolor": "white",
           "linecolor": "white",
           "ticks": "",
           "title": {
            "standoff": 15
           },
           "zerolinecolor": "white",
           "zerolinewidth": 2
          },
          "yaxis": {
           "automargin": true,
           "gridcolor": "white",
           "linecolor": "white",
           "ticks": "",
           "title": {
            "standoff": 15
           },
           "zerolinecolor": "white",
           "zerolinewidth": 2
          }
         }
        },
        "xaxis": {
         "autorange": true,
         "range": [
          -3.5083165558063203,
          3.476900629270387
         ],
         "type": "linear"
        },
        "yaxis": {
         "autorange": true,
         "range": [
          -1.1464968152866242,
          1.1464968152866242
         ],
         "type": "linear"
        }
       }
      },
      "image/png": "[encoded data removed]",
      "text/html": [
       "<div>                            <div id=\"c9cec5d2-3312-4463-b815-714ae5bfb2b4\" class=\"plotly-graph-div\" style=\"height:525px; width:100%;\"></div>            <script type=\"text/javascript\">                require([\"plotly\"], function(Plotly) {                    window.PLOTLYENV=window.PLOTLYENV || {};                                    if (document.getElementById(\"c9cec5d2-3312-4463-b815-714ae5bfb2b4\")) {                    Plotly.newPlot(                        \"c9cec5d2-3312-4463-b815-714ae5bfb2b4\",                        [{\"mode\": \"markers\", \"type\": \"scatter\", \"x\": [-3.141592653589793, -3.1101767270538954, -3.0787608005179976, -3.0473448739821, -3.015928947446202, -2.9845130209103043, -2.9530970943744066, -2.921681167838509, -2.890265241302611, -2.8588493147667133, -2.8274333882308156, -2.796017461694918, -2.76460153515902, -2.7331856086231223, -2.7017696820872246, -2.670353755551327, -2.638937829015429, -2.6075219024795313, -2.5761059759436336, -2.544690049407736, -2.513274122871838, -2.4818581963359403, -2.4504422698000425, -2.419026343264145, -2.387610416728247, -2.3561944901923493, -2.3247785636564515, -2.2933626371205538, -2.261946710584656, -2.2305307840487583, -2.1991148575128605, -2.1676989309769628, -2.136283004441065, -2.1048670779051672, -2.0734511513692695, -2.0420352248333717, -2.010619298297474, -1.9792033717615762, -1.9477874452256785, -1.9163715186897807, -1.884955592153883, -1.8535396656179852, -1.8221237390820875, -1.7907078125461897, -1.759291886010292, -1.7278759594743942, -1.6964600329384965, -1.6650441064025987, -1.633628179866701, -1.6022122533308032, -1.5707963267949054, -1.5393804002590077, -1.50796447372311, -1.4765485471872122, -1.4451326206513144, -1.4137166941154167, -1.382300767579519, -1.3508848410436212, -1.3194689145077234, -1.2880529879718257, -1.256637061435928, -1.2252211349000302, -1.1938052083641324, -1.1623892818282346, -1.130973355292337, -1.0995574287564391, -1.0681415022205414, -1.0367255756846436, -1.0053096491487459, -0.9738937226128481, -0.9424777960769504, -0.9110618695410526, -0.8796459430051549, -0.8482300164692571, -0.8168140899333594, -0.7853981633974616, -0.7539822368615638, -0.7225663103256661, -0.6911503837897683, -0.6597344572538706, -0.6283185307179728, -0.5969026041820751, -0.5654866776461773, -0.5340707511102796, -0.5026548245743818, -0.47123889803848407, -0.4398229715025863, -0.40840704496668856, -0.3769911184307908, -0.34557519189489305, -0.3141592653589953, -0.28274333882309755, -0.2513274122871998, -0.21991148575130204, -0.18849555921540428, -0.15707963267950653, -0.12566370614360878, -0.09424777960771102, -0.06283185307181327, -0.03141592653591552, -1.7763568394002505e-14, 0.03141592653587999, 0.06283185307177774, 0.0942477796076755, 0.12566370614357325, 0.157079632679471, 0.18849555921536876, 0.2199114857512665, 0.25132741228716426, 0.282743338823062, 0.31415926535895977, 0.3455751918948575, 0.3769911184307553, 0.40840704496665303, 0.4398229715025508, 0.47123889803844854, 0.5026548245743463, 0.534070751110244, 0.5654866776461418, 0.5969026041820396, 0.6283185307179373, 0.6597344572538351, 0.6911503837897328, 0.7225663103256306, 0.7539822368615283, 0.7853981633974261, 0.8168140899333238, 0.8482300164692216, 0.8796459430051193, 0.9110618695410171, 0.9424777960769148, 0.9738937226128126, 1.0053096491487103, 1.036725575684608, 1.0681415022205059, 1.0995574287564036, 1.1309733552923014, 1.1623892818281991, 1.1938052083640969, 1.2252211348999946, 1.2566370614358924, 1.2880529879717901, 1.3194689145076879, 1.3508848410435856, 1.3823007675794834, 1.4137166941153811, 1.445132620651279, 1.4765485471871767, 1.5079644737230744, 1.5393804002589722, 1.57079632679487, 1.6022122533307677, 1.6336281798666654, 1.6650441064025632, 1.696460032938461, 1.7278759594743587, 1.7592918860102564, 1.7907078125461542, 1.822123739082052, 1.8535396656179497, 1.8849555921538474, 1.9163715186897452, 1.947787445225643, 1.9792033717615407, 2.0106192982974385, 2.042035224833336, 2.073451151369234, 2.1048670779051317, 2.1362830044410295, 2.1676989309769272, 2.199114857512825, 2.2305307840487227, 2.2619467105846205, 2.2933626371205182, 2.324778563656416, 2.3561944901923138, 2.3876104167282115, 2.4190263432641093, 2.450442269800007, 2.4818581963359048, 2.5132741228718025, 2.5446900494077003, 2.576105975943598, 2.607521902479496, 2.6389378290153935, 2.6703537555512913, 2.701769682087189, 2.733185608623087, 2.7646015351589845, 2.7960174616948823, 2.82743338823078, 2.858849314766678, 2.8902652413025756, 2.9216811678384733, 2.953097094374371, 2.984513020910269, 3.0159289474461666, 3.0473448739820643, 3.078760800517962, 3.11017672705386], \"y\": [-1.2246467991473532e-16, -0.03141075907812824, -0.06279051952931314, -0.09410831331851391, -0.12533323356430365, -0.1564344650402301, -0.18738131458572369, -0.21814324139654143, -0.24868988716485352, -0.27899110603922783, -0.30901699437494584, -0.33873792024528965, -0.3681245526846761, -0.39714789063477857, -0.4257792915650705, -0.45399049973954453, -0.4817536741017129, -0.5090414157503688, -0.535826794978994, -0.5620833778521279, -0.5877852522924704, -0.6129070536529736, -0.6374239897486867, -0.6613118653236488, -0.6845471059286856, -0.7071067811865445, -0.7289686274214084, -0.7501110696304565, -0.7705132427757861, -0.7901550123756873, -0.8090169943749443, -0.8270805742745588, -0.8443279255020121, -0.8607420270039408, -0.8763066800438607, -0.8910065241883651, -0.9048270524660168, -0.9177546256839786, -0.9297764858882489, -0.9408807689542231, -0.9510565162951514, -0.9602936856769411, -0.9685831611286293, -0.9759167619387458, -0.9822872507286873, -0.9876883405951364, -0.9921147013144768, -0.9955619646030792, -0.998026728428271, -0.9995065603657313, -1.0, -0.9995065603657318, -0.9980267284282721, -0.9955619646030809, -0.992114701314479, -0.9876883405951392, -0.9822872507286905, -0.9759167619387497, -0.9685831611286336, -0.960293685676946, -0.9510565162951569, -0.9408807689542291, -0.9297764858882555, -0.9177546256839856, -0.9048270524660244, -0.8910065241883731, -0.8763066800438692, -0.8607420270039496, -0.8443279255020215, -0.8270805742745687, -0.8090169943749547, -0.7901550123756981, -0.7705132427757972, -0.750111069630468, -0.7289686274214204, -0.7071067811865569, -0.6845471059286985, -0.6613118653236622, -0.6374239897487004, -0.6129070536529876, -0.5877852522924846, -0.5620833778521425, -0.5358267949790089, -0.509041415750384, -0.4817536741017283, -0.45399049973956024, -0.4257792915650865, -0.3971478906347948, -0.36812455268469246, -0.33873792024530625, -0.3090169943749626, -0.27899110603924476, -0.24868988716487062, -0.21814324139655866, -0.18738131458574103, -0.15643446504024752, -0.12533323356432116, -0.09410831331853146, -0.06279051952933075, -0.03141075907814587, -1.7763568394002505e-14, 0.03141075907811036, 0.06279051952929529, 0.0941083133184961, 0.1253332335642859, 0.15643446504021244, 0.18738131458570612, 0.218143241396524, 0.2486898871648362, 0.2789911060392106, 0.3090169943749288, 0.3387379202452728, 0.36812455268465943, 0.3971478906347622, 0.42577929156505434, 0.4539904997395286, 0.4817536741016972, 0.5090414157503534, 0.5358267949789789, 0.562083377852113, 0.5877852522924558, 0.6129070536529595, 0.637423989748673, 0.6613118653236355, 0.6845471059286726, 0.7071067811865318, 0.7289686274213962, 0.7501110696304446, 0.7705132427757747, 0.7901550123756762, 0.8090169943749338, 0.8270805742745487, 0.8443279255020024, 0.8607420270039315, 0.876306680043852, 0.8910065241883569, 0.9048270524660093, 0.9177546256839715, 0.9297764858882424, 0.9408807689542171, 0.9510565162951459, 0.9602936856769361, 0.9685831611286249, 0.9759167619387419, 0.9822872507286838, 0.9876883405951337, 0.9921147013144745, 0.9955619646030776, 0.9980267284282699, 0.9995065603657307, 1.0, 0.9995065603657324, 0.9980267284282732, 0.9955619646030825, 0.9921147013144813, 0.987688340595142, 0.9822872507286939, 0.9759167619387535, 0.9685831611286381, 0.960293685676951, 0.9510565162951624, 0.9408807689542352, 0.929776485888262, 0.9177546256839927, 0.904827052466032, 0.8910065241883812, 0.8763066800438779, 0.8607420270039587, 0.8443279255020312, 0.8270805742745788, 0.8090169943749652, 0.7901550123757091, 0.7705132427758088, 0.7501110696304799, 0.7289686274214328, 0.7071067811865696, 0.6845471059287115, 0.6613118653236756, 0.6374239897487142, 0.6129070536530017, 0.5877852522924991, 0.5620833778521572, 0.535826794979024, 0.5090414157503994, 0.481753674101744, 0.45399049973957617, 0.42577929156510264, 0.3971478906348112, 0.3681245526847091, 0.33873792024532307, 0.3090169943749796, 0.2789911060392619, 0.2486898871648879, 0.21814324139657612, 0.18738131458575857, 0.15643446504026517, 0.1253332335643389, 0.09410831331854928, 0.0627905195293486, 0.03141075907816375]}],                        {\"template\": {\"data\": {\"bar\": [{\"error_x\": {\"color\": \"#2a3f5f\"}, \"error_y\": {\"color\": \"#2a3f5f\"}, \"marker\": {\"line\": {\"color\": \"#E5ECF6\", \"width\": 0.5}}, \"type\": \"bar\"}], \"barpolar\": [{\"marker\": {\"line\": {\"color\": \"#E5ECF6\", \"width\": 0.5}}, \"type\": \"barpolar\"}], \"carpet\": [{\"aaxis\": {\"endlinecolor\": \"#2a3f5f\", \"gridcolor\": \"white\", \"linecolor\": \"white\", \"minorgridcolor\": \"white\", \"startlinecolor\": \"#2a3f5f\"}, \"baxis\": {\"endlinecolor\": \"#2a3f5f\", \"gridcolor\": \"white\", \"linecolor\": \"white\", \"minorgridcolor\": \"white\", \"startlinecolor\": \"#2a3f5f\"}, \"type\": \"carpet\"}], \"choropleth\": [{\"colorbar\": {\"outlinewidth\": 0, \"ticks\": \"\"}, \"type\": \"choropleth\"}], \"contour\": [{\"colorbar\": {\"outlinewidth\": 0, \"ticks\": \"\"}, \"colorscale\": [[0.0, \"#0d0887\"], [0.1111111111111111, \"#46039f\"], [0.2222222222222222, \"#7201a8\"], [0.3333333333333333, \"#9c179e\"], [0.4444444444444444, \"#bd3786\"], [0.5555555555555556, \"#d8576b\"], [0.6666666666666666, \"#ed7953\"], [0.7777777777777778, \"#fb9f3a\"], [0.8888888888888888, \"#fdca26\"], [1.0, \"#f0f921\"]], \"type\": \"contour\"}], \"contourcarpet\": [{\"colorbar\": {\"outlinewidth\": 0, \"ticks\": \"\"}, \"type\": \"contourcarpet\"}], \"heatmap\": [{\"colorbar\": {\"outlinewidth\": 0, \"ticks\": \"\"}, \"colorscale\": [[0.0, \"#0d0887\"], [0.1111111111111111, \"#46039f\"], [0.2222222222222222, \"#7201a8\"], [0.3333333333333333, \"#9c179e\"], [0.4444444444444444, \"#bd3786\"], [0.5555555555555556, \"#d8576b\"], [0.6666666666666666, \"#ed7953\"], [0.7777777777777778, \"#fb9f3a\"], [0.8888888888888888, \"#fdca26\"], [1.0, \"#f0f921\"]], \"type\": \"heatmap\"}], \"heatmapgl\": [{\"colorbar\": {\"outlinewidth\": 0, \"ticks\": \"\"}, \"colorscale\": [[0.0, \"#0d0887\"], [0.1111111111111111, \"#46039f\"], [0.2222222222222222, \"#7201a8\"], [0.3333333333333333, \"#9c179e\"], [0.4444444444444444, \"#bd3786\"], [0.5555555555555556, \"#d8576b\"], [0.6666666666666666, \"#ed7953\"], [0.7777777777777778, \"#fb9f3a\"], [0.8888888888888888, \"#fdca26\"], [1.0, \"#f0f921\"]], \"type\": \"heatmapgl\"}], \"histogram\": [{\"marker\": {\"colorbar\": {\"outlinewidth\": 0, \"ticks\": \"\"}}, \"type\": \"histogram\"}], \"histogram2d\": [{\"colorbar\": {\"outlinewidth\": 0, \"ticks\": \"\"}, \"colorscale\": [[0.0, \"#0d0887\"], [0.1111111111111111, \"#46039f\"], [0.2222222222222222, \"#7201a8\"], [0.3333333333333333, \"#9c179e\"], [0.4444444444444444, \"#bd3786\"], [0.5555555555555556, \"#d8576b\"], [0.6666666666666666, \"#ed7953\"], [0.7777777777777778, \"#fb9f3a\"], [0.8888888888888888, \"#fdca26\"], [1.0, \"#f0f921\"]], \"type\": \"histogram2d\"}], \"histogram2dcontour\": [{\"colorbar\": {\"outlinewidth\": 0, \"ticks\": \"\"}, \"colorscale\": [[0.0, \"#0d0887\"], [0.1111111111111111, \"#46039f\"], [0.2222222222222222, \"#7201a8\"], [0.3333333333333333, \"#9c179e\"], [0.4444444444444444, \"#bd3786\"], [0.5555555555555556, \"#d8576b\"], [0.6666666666666666, \"#ed7953\"], [0.7777777777777778, \"#fb9f3a\"], [0.8888888888888888, \"#fdca26\"], [1.0, \"#f0f921\"]], \"type\": \"histogram2dcontour\"}], \"mesh3d\": [{\"colorbar\": {\"outlinewidth\": 0, \"ticks\": \"\"}, \"type\": \"mesh3d\"}], \"parcoords\": [{\"line\": {\"colorbar\": {\"outlinewidth\": 0, \"ticks\": \"\"}}, \"type\": \"parcoords\"}], \"pie\": [{\"automargin\": true, \"type\": \"pie\"}], \"scatter\": [{\"marker\": {\"colorbar\": {\"outlinewidth\": 0, \"ticks\": \"\"}}, \"type\": \"scatter\"}], \"scatter3d\": [{\"line\": {\"colorbar\": {\"outlinewidth\": 0, \"ticks\": \"\"}}, \"marker\": {\"colorbar\": {\"outlinewidth\": 0, \"ticks\": \"\"}}, \"type\": \"scatter3d\"}], \"scattercarpet\": [{\"marker\": {\"colorbar\": {\"outlinewidth\": 0, \"ticks\": \"\"}}, \"type\": \"scattercarpet\"}], \"scattergeo\": [{\"marker\": {\"colorbar\": {\"outlinewidth\": 0, \"ticks\": \"\"}}, \"type\": \"scattergeo\"}], \"scattergl\": [{\"marker\": {\"colorbar\": {\"outlinewidth\": 0, \"ticks\": \"\"}}, \"type\": \"scattergl\"}], \"scattermapbox\": [{\"marker\": {\"colorbar\": {\"outlinewidth\": 0, \"ticks\": \"\"}}, \"type\": \"scattermapbox\"}], \"scatterpolar\": [{\"marker\": {\"colorbar\": {\"outlinewidth\": 0, \"ticks\": \"\"}}, \"type\": \"scatterpolar\"}], \"scatterpolargl\": [{\"marker\": {\"colorbar\": {\"outlinewidth\": 0, \"ticks\": \"\"}}, \"type\": \"scatterpolargl\"}], \"scatterternary\": [{\"marker\": {\"colorbar\": {\"outlinewidth\": 0, \"ticks\": \"\"}}, \"type\": \"scatterternary\"}], \"surface\": [{\"colorbar\": {\"outlinewidth\": 0, \"ticks\": \"\"}, \"colorscale\": [[0.0, \"#0d0887\"], [0.1111111111111111, \"#46039f\"], [0.2222222222222222, \"#7201a8\"], [0.3333333333333333, \"#9c179e\"], [0.4444444444444444, \"#bd3786\"], [0.5555555555555556, \"#d8576b\"], [0.6666666666666666, \"#ed7953\"], [0.7777777777777778, \"#fb9f3a\"], [0.8888888888888888, \"#fdca26\"], [1.0, \"#f0f921\"]], \"type\": \"surface\"}], \"table\": [{\"cells\": {\"fill\": {\"color\": \"#EBF0F8\"}, \"line\": {\"color\": \"white\"}}, \"header\": {\"fill\": {\"color\": \"#C8D4E3\"}, \"line\": {\"color\": \"white\"}}, \"type\": \"table\"}]}, \"layout\": {\"annotationdefaults\": {\"arrowcolor\": \"#2a3f5f\", \"arrowhead\": 0, \"arrowwidth\": 1}, \"autotypenumbers\": \"strict\", \"coloraxis\": {\"colorbar\": {\"outlinewidth\": 0, \"ticks\": \"\"}}, \"colorscale\": {\"diverging\": [[0, \"#8e0152\"], [0.1, \"#c51b7d\"], [0.2, \"#de77ae\"], [0.3, \"#f1b6da\"], [0.4, \"#fde0ef\"], [0.5, \"#f7f7f7\"], [0.6, \"#e6f5d0\"], [0.7, \"#b8e186\"], [0.8, \"#7fbc41\"], [0.9, \"#4d9221\"], [1, \"#276419\"]], \"sequential\": [[0.0, \"#0d0887\"], [0.1111111111111111, \"#46039f\"], [0.2222222222222222, \"#7201a8\"], [0.3333333333333333, \"#9c179e\"], [0.4444444444444444, \"#bd3786\"], [0.5555555555555556, \"#d8576b\"], [0.6666666666666666, \"#ed7953\"], [0.7777777777777778, \"#fb9f3a\"], [0.8888888888888888, \"#fdca26\"], [1.0, \"#f0f921\"]], \"sequentialminus\": [[0.0, \"#0d0887\"], [0.1111111111111111, \"#46039f\"], [0.2222222222222222, \"#7201a8\"], [0.3333333333333333, \"#9c179e\"], [0.4444444444444444, \"#bd3786\"], [0.5555555555555556, \"#d8576b\"], [0.6666666666666666, \"#ed7953\"], [0.7777777777777778, \"#fb9f3a\"], [0.8888888888888888, \"#fdca26\"], [1.0, \"#f0f921\"]]}, \"colorway\": [\"#636efa\", \"#EF553B\", \"#00cc96\", \"#ab63fa\", \"#FFA15A\", \"#19d3f3\", \"#FF6692\", \"#B6E880\", \"#FF97FF\", \"#FECB52\"], \"font\": {\"color\": \"#2a3f5f\"}, \"geo\": {\"bgcolor\": \"white\", \"lakecolor\": \"white\", \"landcolor\": \"#E5ECF6\", \"showlakes\": true, \"showland\": true, \"subunitcolor\": \"white\"}, \"hoverlabel\": {\"align\": \"left\"}, \"hovermode\": \"closest\", \"mapbox\": {\"style\": \"light\"}, \"paper_bgcolor\": \"white\", \"plot_bgcolor\": \"#E5ECF6\", \"polar\": {\"angularaxis\": {\"gridcolor\": \"white\", \"linecolor\": \"white\", \"ticks\": \"\"}, \"bgcolor\": \"#E5ECF6\", \"radialaxis\": {\"gridcolor\": \"white\", \"linecolor\": \"white\", \"ticks\": \"\"}}, \"scene\": {\"xaxis\": {\"backgroundcolor\": \"#E5ECF6\", \"gridcolor\": \"white\", \"gridwidth\": 2, \"linecolor\": \"white\", \"showbackground\": true, \"ticks\": \"\", \"zerolinecolor\": \"white\"}, \"yaxis\": {\"backgroundcolor\": \"#E5ECF6\", \"gridcolor\": \"white\", \"gridwidth\": 2, \"linecolor\": \"white\", \"showbackground\": true, \"ticks\": \"\", \"zerolinecolor\": \"white\"}, \"zaxis\": {\"backgroundcolor\": \"#E5ECF6\", \"gridcolor\": \"white\", \"gridwidth\": 2, \"linecolor\": \"white\", \"showbackground\": true, \"ticks\": \"\", \"zerolinecolor\": \"white\"}}, \"shapedefaults\": {\"line\": {\"color\": \"#2a3f5f\"}}, \"ternary\": {\"aaxis\": {\"gridcolor\": \"white\", \"linecolor\": \"white\", \"ticks\": \"\"}, \"baxis\": {\"gridcolor\": \"white\", \"linecolor\": \"white\", \"ticks\": \"\"}, \"bgcolor\": \"#E5ECF6\", \"caxis\": {\"gridcolor\": \"white\", \"linecolor\": \"white\", \"ticks\": \"\"}}, \"title\": {\"x\": 0.05}, \"xaxis\": {\"automargin\": true, \"gridcolor\": \"white\", \"linecolor\": \"white\", \"ticks\": \"\", \"title\": {\"standoff\": 15}, \"zerolinecolor\": \"white\", \"zerolinewidth\": 2}, \"yaxis\": {\"automargin\": true, \"gridcolor\": \"white\", \"linecolor\": \"white\", \"ticks\": \"\", \"title\": {\"standoff\": 15}, \"zerolinecolor\": \"white\", \"zerolinewidth\": 2}}}},                        {\"responsive\": true}                    ).then(function(){\n",
       "                            \n",
       "var gd = document.getElementById('c9cec5d2-3312-4463-b815-714ae5bfb2b4');\n",
       "var x = new MutationObserver(function (mutations, observer) {{\n",
       "        var display = window.getComputedStyle(gd).display;\n",
       "        if (!display || display === 'none') {{\n",
       "            console.log([gd, 'removed!']);\n",
       "            Plotly.purge(gd);\n",
       "            observer.disconnect();\n",
       "        }}\n",
       "}});\n",
       "\n",
       "// Listen for the removal of the full notebook cells\n",
       "var notebookContainer = gd.closest('#notebook-container');\n",
       "if (notebookContainer) {{\n",
       "    x.observe(notebookContainer, {childList: true});\n",
       "}}\n",
       "\n",
       "// Listen for the clearing of the current output cell\n",
       "var outputEl = gd.closest('.output');\n",
       "if (outputEl) {{\n",
       "    x.observe(outputEl, {childList: true});\n",
       "}}\n",
       "\n",
       "                        })                };                });            </script>        </div>"
      ]
     },
     "metadata": {},
     "output_type": "display_data"
    }
   ],
   "source": [
    "fig"
   ]
  },
  {
   "cell_type": "markdown",
   "metadata": {},
   "source": [
    "## Let's redo everything concisely: \n",
    "* plotting a function cos(t)\n",
    "* customising it"
   ]
  },
  {
   "cell_type": "code",
   "execution_count": 84,
   "metadata": {},
   "outputs": [],
   "source": [
    "fig1 = go.Figure(go.Scatter(x=t,\n",
    "                            y=np.cos(t)))"
   ]
  },
  {
   "cell_type": "code",
   "execution_count": 85,
   "metadata": {},
   "outputs": [],
   "source": [
    "curve1 = fig1.data[0]"
   ]
  },
  {
   "cell_type": "code",
   "execution_count": 86,
   "metadata": {},
   "outputs": [
    {
     "data": {
      "application/vnd.plotly.v1+json": {
       "config": {
        "plotlyServerURL": "https://plot.ly"
       },
       "data": [
        {
         "mode": "lines+markers",
         "type": "scatter",
         "x": [
          -3.141592653589793,
          -3.1101767270538954,
          -3.0787608005179976,
          -3.0473448739821,
          -3.015928947446202,
          -2.9845130209103043,
          -2.9530970943744066,
          -2.921681167838509,
          -2.890265241302611,
          -2.8588493147667133,
          -2.8274333882308156,
          -2.796017461694918,
          -2.76460153515902,
          -2.7331856086231223,
          -2.7017696820872246,
          -2.670353755551327,
          -2.638937829015429,
          -2.6075219024795313,
          -2.5761059759436336,
          -2.544690049407736,
          -2.513274122871838,
          -2.4818581963359403,
          -2.4504422698000425,
          -2.419026343264145,
          -2.387610416728247,
          -2.3561944901923493,
          -2.3247785636564515,
          -2.2933626371205538,
          -2.261946710584656,
          -2.2305307840487583,
          -2.1991148575128605,
          -2.1676989309769628,
          -2.136283004441065,
          -2.1048670779051672,
          -2.0734511513692695,
          -2.0420352248333717,
          -2.010619298297474,
          -1.9792033717615762,
          -1.9477874452256785,
          -1.9163715186897807,
          -1.884955592153883,
          -1.8535396656179852,
          -1.8221237390820875,
          -1.7907078125461897,
          -1.759291886010292,
          -1.7278759594743942,
          -1.6964600329384965,
          -1.6650441064025987,
          -1.633628179866701,
          -1.6022122533308032,
          -1.5707963267949054,
          -1.5393804002590077,
          -1.50796447372311,
          -1.4765485471872122,
          -1.4451326206513144,
          -1.4137166941154167,
          -1.382300767579519,
          -1.3508848410436212,
          -1.3194689145077234,
          -1.2880529879718257,
          -1.256637061435928,
          -1.2252211349000302,
          -1.1938052083641324,
          -1.1623892818282346,
          -1.130973355292337,
          -1.0995574287564391,
          -1.0681415022205414,
          -1.0367255756846436,
          -1.0053096491487459,
          -0.9738937226128481,
          -0.9424777960769504,
          -0.9110618695410526,
          -0.8796459430051549,
          -0.8482300164692571,
          -0.8168140899333594,
          -0.7853981633974616,
          -0.7539822368615638,
          -0.7225663103256661,
          -0.6911503837897683,
          -0.6597344572538706,
          -0.6283185307179728,
          -0.5969026041820751,
          -0.5654866776461773,
          -0.5340707511102796,
          -0.5026548245743818,
          -0.47123889803848407,
          -0.4398229715025863,
          -0.40840704496668856,
          -0.3769911184307908,
          -0.34557519189489305,
          -0.3141592653589953,
          -0.28274333882309755,
          -0.2513274122871998,
          -0.21991148575130204,
          -0.18849555921540428,
          -0.15707963267950653,
          -0.12566370614360878,
          -0.09424777960771102,
          -0.06283185307181327,
          -0.03141592653591552,
          -1.7763568394002505e-14,
          0.03141592653587999,
          0.06283185307177774,
          0.0942477796076755,
          0.12566370614357325,
          0.157079632679471,
          0.18849555921536876,
          0.2199114857512665,
          0.25132741228716426,
          0.282743338823062,
          0.31415926535895977,
          0.3455751918948575,
          0.3769911184307553,
          0.40840704496665303,
          0.4398229715025508,
          0.47123889803844854,
          0.5026548245743463,
          0.534070751110244,
          0.5654866776461418,
          0.5969026041820396,
          0.6283185307179373,
          0.6597344572538351,
          0.6911503837897328,
          0.7225663103256306,
          0.7539822368615283,
          0.7853981633974261,
          0.8168140899333238,
          0.8482300164692216,
          0.8796459430051193,
          0.9110618695410171,
          0.9424777960769148,
          0.9738937226128126,
          1.0053096491487103,
          1.036725575684608,
          1.0681415022205059,
          1.0995574287564036,
          1.1309733552923014,
          1.1623892818281991,
          1.1938052083640969,
          1.2252211348999946,
          1.2566370614358924,
          1.2880529879717901,
          1.3194689145076879,
          1.3508848410435856,
          1.3823007675794834,
          1.4137166941153811,
          1.445132620651279,
          1.4765485471871767,
          1.5079644737230744,
          1.5393804002589722,
          1.57079632679487,
          1.6022122533307677,
          1.6336281798666654,
          1.6650441064025632,
          1.696460032938461,
          1.7278759594743587,
          1.7592918860102564,
          1.7907078125461542,
          1.822123739082052,
          1.8535396656179497,
          1.8849555921538474,
          1.9163715186897452,
          1.947787445225643,
          1.9792033717615407,
          2.0106192982974385,
          2.042035224833336,
          2.073451151369234,
          2.1048670779051317,
          2.1362830044410295,
          2.1676989309769272,
          2.199114857512825,
          2.2305307840487227,
          2.2619467105846205,
          2.2933626371205182,
          2.324778563656416,
          2.3561944901923138,
          2.3876104167282115,
          2.4190263432641093,
          2.450442269800007,
          2.4818581963359048,
          2.5132741228718025,
          2.5446900494077003,
          2.576105975943598,
          2.607521902479496,
          2.6389378290153935,
          2.6703537555512913,
          2.701769682087189,
          2.733185608623087,
          2.7646015351589845,
          2.7960174616948823,
          2.82743338823078,
          2.858849314766678,
          2.8902652413025756,
          2.9216811678384733,
          2.953097094374371,
          2.984513020910269,
          3.0159289474461666,
          3.0473448739820643,
          3.078760800517962,
          3.11017672705386
         ],
         "y": [
          -1,
          -0.9995065603657316,
          -0.9980267284282716,
          -0.99556196460308,
          -0.9921147013144779,
          -0.9876883405951379,
          -0.9822872507286888,
          -0.9759167619387477,
          -0.9685831611286314,
          -0.9602936856769435,
          -0.9510565162951541,
          -0.9408807689542261,
          -0.9297764858882521,
          -0.917754625683982,
          -0.9048270524660206,
          -0.891006524188369,
          -0.8763066800438649,
          -0.8607420270039451,
          -0.8443279255020167,
          -0.8270805742745637,
          -0.8090169943749494,
          -0.7901550123756926,
          -0.7705132427757917,
          -0.7501110696304621,
          -0.7289686274214144,
          -0.7071067811865506,
          -0.684547105928692,
          -0.6613118653236554,
          -0.6374239897486934,
          -0.6129070536529805,
          -0.5877852522924774,
          -0.562083377852135,
          -0.5358267949790013,
          -0.5090414157503762,
          -0.48175367410172043,
          -0.45399049973955224,
          -0.4257792915650784,
          -0.39714789063478656,
          -0.3681245526846842,
          -0.3387379202452978,
          -0.3090169943749541,
          -0.27899110603923616,
          -0.24868988716486196,
          -0.21814324139654995,
          -0.18738131458573223,
          -0.1564344650402387,
          -0.12533323356431228,
          -0.09410831331852257,
          -0.06279051952932183,
          -0.03141075907813693,
          -8.820551857043885e-15,
          0.0314107590781193,
          0.06279051952930421,
          0.094108313318505,
          0.12533323356429477,
          0.15643446504022127,
          0.18738131458571491,
          0.2181432413965327,
          0.24868988716484486,
          0.2789911060392192,
          0.30901699437493735,
          0.3387379202452812,
          0.36812455268466776,
          0.3971478906347704,
          0.4257792915650624,
          0.45399049973953653,
          0.4817536741017051,
          0.5090414157503611,
          0.5358267949789864,
          0.5620833778521206,
          0.5877852522924631,
          0.6129070536529666,
          0.63742398974868,
          0.6613118653236422,
          0.6845471059286792,
          0.7071067811865381,
          0.7289686274214022,
          0.7501110696304505,
          0.7705132427757804,
          0.7901550123756818,
          0.8090169943749391,
          0.8270805742745537,
          0.8443279255020073,
          0.8607420270039361,
          0.8763066800438564,
          0.891006524188361,
          0.904827052466013,
          0.917754625683975,
          0.9297764858882457,
          0.9408807689542201,
          0.9510565162951486,
          0.9602936856769385,
          0.9685831611286271,
          0.9759167619387438,
          0.9822872507286855,
          0.9876883405951351,
          0.9921147013144757,
          0.9955619646030784,
          0.9980267284282704,
          0.999506560365731,
          1,
          0.9995065603657322,
          0.9980267284282727,
          0.9955619646030818,
          0.9921147013144801,
          0.9876883405951407,
          0.9822872507286922,
          0.9759167619387515,
          0.9685831611286359,
          0.9602936856769485,
          0.9510565162951596,
          0.9408807689542321,
          0.9297764858882587,
          0.9177546256839891,
          0.9048270524660281,
          0.8910065241883771,
          0.8763066800438736,
          0.8607420270039542,
          0.8443279255020263,
          0.8270805742745737,
          0.80901699437496,
          0.7901550123757035,
          0.770513242775803,
          0.750111069630474,
          0.7289686274214267,
          0.7071067811865632,
          0.684547105928705,
          0.6613118653236689,
          0.6374239897487073,
          0.6129070536529947,
          0.5877852522924919,
          0.5620833778521499,
          0.5358267949790165,
          0.5090414157503917,
          0.4817536741017362,
          0.4539904997395682,
          0.42577929156509453,
          0.397147890634803,
          0.3681245526847008,
          0.3387379202453146,
          0.3090169943749711,
          0.27899110603925337,
          0.24868988716487928,
          0.21814324139656738,
          0.1873813145857498,
          0.15643446504025635,
          0.12533323356433002,
          0.09410831331854037,
          0.06279051952933967,
          0.03141075907815481,
          2.6706584930961125e-14,
          -0.03141075907810142,
          -0.06279051952928637,
          -0.09410831331848721,
          -0.12533323356427706,
          -0.1564344650402036,
          -0.18738131458569734,
          -0.21814324139651528,
          -0.24868988716482754,
          -0.2789911060392021,
          -0.3090169943749203,
          -0.3387379202452644,
          -0.36812455268465116,
          -0.397147890634754,
          -0.42577929156504624,
          -0.4539904997395206,
          -0.48175367410168934,
          -0.5090414157503457,
          -0.5358267949789713,
          -0.5620833778521057,
          -0.5877852522924486,
          -0.6129070536529524,
          -0.6374239897486661,
          -0.6613118653236287,
          -0.6845471059286661,
          -0.7071067811865255,
          -0.72896862742139,
          -0.7501110696304387,
          -0.770513242775769,
          -0.7901550123756709,
          -0.8090169943749286,
          -0.8270805742745437,
          -0.8443279255019978,
          -0.860742027003927,
          -0.8763066800438478,
          -0.8910065241883529,
          -0.9048270524660054,
          -0.9177546256839679,
          -0.929776485888239,
          -0.940880768954214,
          -0.9510565162951431,
          -0.9602936856769336,
          -0.9685831611286226,
          -0.9759167619387399,
          -0.9822872507286822,
          -0.9876883405951323,
          -0.9921147013144734,
          -0.9955619646030767,
          -0.9980267284282693,
          -0.9995065603657305
         ]
        }
       ],
       "layout": {
        "autosize": true,
        "template": {
         "data": {
          "bar": [
           {
            "error_x": {
             "color": "#2a3f5f"
            },
            "error_y": {
             "color": "#2a3f5f"
            },
            "marker": {
             "line": {
              "color": "#E5ECF6",
              "width": 0.5
             }
            },
            "type": "bar"
           }
          ],
          "barpolar": [
           {
            "marker": {
             "line": {
              "color": "#E5ECF6",
              "width": 0.5
             }
            },
            "type": "barpolar"
           }
          ],
          "carpet": [
           {
            "aaxis": {
             "endlinecolor": "#2a3f5f",
             "gridcolor": "white",
             "linecolor": "white",
             "minorgridcolor": "white",
             "startlinecolor": "#2a3f5f"
            },
            "baxis": {
             "endlinecolor": "#2a3f5f",
             "gridcolor": "white",
             "linecolor": "white",
             "minorgridcolor": "white",
             "startlinecolor": "#2a3f5f"
            },
            "type": "carpet"
           }
          ],
          "choropleth": [
           {
            "colorbar": {
             "outlinewidth": 0,
             "ticks": ""
            },
            "type": "choropleth"
           }
          ],
          "contour": [
           {
            "colorbar": {
             "outlinewidth": 0,
             "ticks": ""
            },
            "colorscale": [
             [
              0,
              "#0d0887"
             ],
             [
              0.1111111111111111,
              "#46039f"
             ],
             [
              0.2222222222222222,
              "#7201a8"
             ],
             [
              0.3333333333333333,
              "#9c179e"
             ],
             [
              0.4444444444444444,
              "#bd3786"
             ],
             [
              0.5555555555555556,
              "#d8576b"
             ],
             [
              0.6666666666666666,
              "#ed7953"
             ],
             [
              0.7777777777777778,
              "#fb9f3a"
             ],
             [
              0.8888888888888888,
              "#fdca26"
             ],
             [
              1,
              "#f0f921"
             ]
            ],
            "type": "contour"
           }
          ],
          "contourcarpet": [
           {
            "colorbar": {
             "outlinewidth": 0,
             "ticks": ""
            },
            "type": "contourcarpet"
           }
          ],
          "heatmap": [
           {
            "colorbar": {
             "outlinewidth": 0,
             "ticks": ""
            },
            "colorscale": [
             [
              0,
              "#0d0887"
             ],
             [
              0.1111111111111111,
              "#46039f"
             ],
             [
              0.2222222222222222,
              "#7201a8"
             ],
             [
              0.3333333333333333,
              "#9c179e"
             ],
             [
              0.4444444444444444,
              "#bd3786"
             ],
             [
              0.5555555555555556,
              "#d8576b"
             ],
             [
              0.6666666666666666,
              "#ed7953"
             ],
             [
              0.7777777777777778,
              "#fb9f3a"
             ],
             [
              0.8888888888888888,
              "#fdca26"
             ],
             [
              1,
              "#f0f921"
             ]
            ],
            "type": "heatmap"
           }
          ],
          "heatmapgl": [
           {
            "colorbar": {
             "outlinewidth": 0,
             "ticks": ""
            },
            "colorscale": [
             [
              0,
              "#0d0887"
             ],
             [
              0.1111111111111111,
              "#46039f"
             ],
             [
              0.2222222222222222,
              "#7201a8"
             ],
             [
              0.3333333333333333,
              "#9c179e"
             ],
             [
              0.4444444444444444,
              "#bd3786"
             ],
             [
              0.5555555555555556,
              "#d8576b"
             ],
             [
              0.6666666666666666,
              "#ed7953"
             ],
             [
              0.7777777777777778,
              "#fb9f3a"
             ],
             [
              0.8888888888888888,
              "#fdca26"
             ],
             [
              1,
              "#f0f921"
             ]
            ],
            "type": "heatmapgl"
           }
          ],
          "histogram": [
           {
            "marker": {
             "colorbar": {
              "outlinewidth": 0,
              "ticks": ""
             }
            },
            "type": "histogram"
           }
          ],
          "histogram2d": [
           {
            "colorbar": {
             "outlinewidth": 0,
             "ticks": ""
            },
            "colorscale": [
             [
              0,
              "#0d0887"
             ],
             [
              0.1111111111111111,
              "#46039f"
             ],
             [
              0.2222222222222222,
              "#7201a8"
             ],
             [
              0.3333333333333333,
              "#9c179e"
             ],
             [
              0.4444444444444444,
              "#bd3786"
             ],
             [
              0.5555555555555556,
              "#d8576b"
             ],
             [
              0.6666666666666666,
              "#ed7953"
             ],
             [
              0.7777777777777778,
              "#fb9f3a"
             ],
             [
              0.8888888888888888,
              "#fdca26"
             ],
             [
              1,
              "#f0f921"
             ]
            ],
            "type": "histogram2d"
           }
          ],
          "histogram2dcontour": [
           {
            "colorbar": {
             "outlinewidth": 0,
             "ticks": ""
            },
            "colorscale": [
             [
              0,
              "#0d0887"
             ],
             [
              0.1111111111111111,
              "#46039f"
             ],
             [
              0.2222222222222222,
              "#7201a8"
             ],
             [
              0.3333333333333333,
              "#9c179e"
             ],
             [
              0.4444444444444444,
              "#bd3786"
             ],
             [
              0.5555555555555556,
              "#d8576b"
             ],
             [
              0.6666666666666666,
              "#ed7953"
             ],
             [
              0.7777777777777778,
              "#fb9f3a"
             ],
             [
              0.8888888888888888,
              "#fdca26"
             ],
             [
              1,
              "#f0f921"
             ]
            ],
            "type": "histogram2dcontour"
           }
          ],
          "mesh3d": [
           {
            "colorbar": {
             "outlinewidth": 0,
             "ticks": ""
            },
            "type": "mesh3d"
           }
          ],
          "parcoords": [
           {
            "line": {
             "colorbar": {
              "outlinewidth": 0,
              "ticks": ""
             }
            },
            "type": "parcoords"
           }
          ],
          "pie": [
           {
            "automargin": true,
            "type": "pie"
           }
          ],
          "scatter": [
           {
            "marker": {
             "colorbar": {
              "outlinewidth": 0,
              "ticks": ""
             }
            },
            "type": "scatter"
           }
          ],
          "scatter3d": [
           {
            "line": {
             "colorbar": {
              "outlinewidth": 0,
              "ticks": ""
             }
            },
            "marker": {
             "colorbar": {
              "outlinewidth": 0,
              "ticks": ""
             }
            },
            "type": "scatter3d"
           }
          ],
          "scattercarpet": [
           {
            "marker": {
             "colorbar": {
              "outlinewidth": 0,
              "ticks": ""
             }
            },
            "type": "scattercarpet"
           }
          ],
          "scattergeo": [
           {
            "marker": {
             "colorbar": {
              "outlinewidth": 0,
              "ticks": ""
             }
            },
            "type": "scattergeo"
           }
          ],
          "scattergl": [
           {
            "marker": {
             "colorbar": {
              "outlinewidth": 0,
              "ticks": ""
             }
            },
            "type": "scattergl"
           }
          ],
          "scattermapbox": [
           {
            "marker": {
             "colorbar": {
              "outlinewidth": 0,
              "ticks": ""
             }
            },
            "type": "scattermapbox"
           }
          ],
          "scatterpolar": [
           {
            "marker": {
             "colorbar": {
              "outlinewidth": 0,
              "ticks": ""
             }
            },
            "type": "scatterpolar"
           }
          ],
          "scatterpolargl": [
           {
            "marker": {
             "colorbar": {
              "outlinewidth": 0,
              "ticks": ""
             }
            },
            "type": "scatterpolargl"
           }
          ],
          "scatterternary": [
           {
            "marker": {
             "colorbar": {
              "outlinewidth": 0,
              "ticks": ""
             }
            },
            "type": "scatterternary"
           }
          ],
          "surface": [
           {
            "colorbar": {
             "outlinewidth": 0,
             "ticks": ""
            },
            "colorscale": [
             [
              0,
              "#0d0887"
             ],
             [
              0.1111111111111111,
              "#46039f"
             ],
             [
              0.2222222222222222,
              "#7201a8"
             ],
             [
              0.3333333333333333,
              "#9c179e"
             ],
             [
              0.4444444444444444,
              "#bd3786"
             ],
             [
              0.5555555555555556,
              "#d8576b"
             ],
             [
              0.6666666666666666,
              "#ed7953"
             ],
             [
              0.7777777777777778,
              "#fb9f3a"
             ],
             [
              0.8888888888888888,
              "#fdca26"
             ],
             [
              1,
              "#f0f921"
             ]
            ],
            "type": "surface"
           }
          ],
          "table": [
           {
            "cells": {
             "fill": {
              "color": "#EBF0F8"
             },
             "line": {
              "color": "white"
             }
            },
            "header": {
             "fill": {
              "color": "#C8D4E3"
             },
             "line": {
              "color": "white"
             }
            },
            "type": "table"
           }
          ]
         },
         "layout": {
          "annotationdefaults": {
           "arrowcolor": "#2a3f5f",
           "arrowhead": 0,
           "arrowwidth": 1
          },
          "autotypenumbers": "strict",
          "coloraxis": {
           "colorbar": {
            "outlinewidth": 0,
            "ticks": ""
           }
          },
          "colorscale": {
           "diverging": [
            [
             0,
             "#8e0152"
            ],
            [
             0.1,
             "#c51b7d"
            ],
            [
             0.2,
             "#de77ae"
            ],
            [
             0.3,
             "#f1b6da"
            ],
            [
             0.4,
             "#fde0ef"
            ],
            [
             0.5,
             "#f7f7f7"
            ],
            [
             0.6,
             "#e6f5d0"
            ],
            [
             0.7,
             "#b8e186"
            ],
            [
             0.8,
             "#7fbc41"
            ],
            [
             0.9,
             "#4d9221"
            ],
            [
             1,
             "#276419"
            ]
           ],
           "sequential": [
            [
             0,
             "#0d0887"
            ],
            [
             0.1111111111111111,
             "#46039f"
            ],
            [
             0.2222222222222222,
             "#7201a8"
            ],
            [
             0.3333333333333333,
             "#9c179e"
            ],
            [
             0.4444444444444444,
             "#bd3786"
            ],
            [
             0.5555555555555556,
             "#d8576b"
            ],
            [
             0.6666666666666666,
             "#ed7953"
            ],
            [
             0.7777777777777778,
             "#fb9f3a"
            ],
            [
             0.8888888888888888,
             "#fdca26"
            ],
            [
             1,
             "#f0f921"
            ]
           ],
           "sequentialminus": [
            [
             0,
             "#0d0887"
            ],
            [
             0.1111111111111111,
             "#46039f"
            ],
            [
             0.2222222222222222,
             "#7201a8"
            ],
            [
             0.3333333333333333,
             "#9c179e"
            ],
            [
             0.4444444444444444,
             "#bd3786"
            ],
            [
             0.5555555555555556,
             "#d8576b"
            ],
            [
             0.6666666666666666,
             "#ed7953"
            ],
            [
             0.7777777777777778,
             "#fb9f3a"
            ],
            [
             0.8888888888888888,
             "#fdca26"
            ],
            [
             1,
             "#f0f921"
            ]
           ]
          },
          "colorway": [
           "#636efa",
           "#EF553B",
           "#00cc96",
           "#ab63fa",
           "#FFA15A",
           "#19d3f3",
           "#FF6692",
           "#B6E880",
           "#FF97FF",
           "#FECB52"
          ],
          "font": {
           "color": "#2a3f5f"
          },
          "geo": {
           "bgcolor": "white",
           "lakecolor": "white",
           "landcolor": "#E5ECF6",
           "showlakes": true,
           "showland": true,
           "subunitcolor": "white"
          },
          "hoverlabel": {
           "align": "left"
          },
          "hovermode": "closest",
          "mapbox": {
           "style": "light"
          },
          "paper_bgcolor": "white",
          "plot_bgcolor": "#E5ECF6",
          "polar": {
           "angularaxis": {
            "gridcolor": "white",
            "linecolor": "white",
            "ticks": ""
           },
           "bgcolor": "#E5ECF6",
           "radialaxis": {
            "gridcolor": "white",
            "linecolor": "white",
            "ticks": ""
           }
          },
          "scene": {
           "xaxis": {
            "backgroundcolor": "#E5ECF6",
            "gridcolor": "white",
            "gridwidth": 2,
            "linecolor": "white",
            "showbackground": true,
            "ticks": "",
            "zerolinecolor": "white"
           },
           "yaxis": {
            "backgroundcolor": "#E5ECF6",
            "gridcolor": "white",
            "gridwidth": 2,
            "linecolor": "white",
            "showbackground": true,
            "ticks": "",
            "zerolinecolor": "white"
           },
           "zaxis": {
            "backgroundcolor": "#E5ECF6",
            "gridcolor": "white",
            "gridwidth": 2,
            "linecolor": "white",
            "showbackground": true,
            "ticks": "",
            "zerolinecolor": "white"
           }
          },
          "shapedefaults": {
           "line": {
            "color": "#2a3f5f"
           }
          },
          "ternary": {
           "aaxis": {
            "gridcolor": "white",
            "linecolor": "white",
            "ticks": ""
           },
           "baxis": {
            "gridcolor": "white",
            "linecolor": "white",
            "ticks": ""
           },
           "bgcolor": "#E5ECF6",
           "caxis": {
            "gridcolor": "white",
            "linecolor": "white",
            "ticks": ""
           }
          },
          "title": {
           "x": 0.05
          },
          "xaxis": {
           "automargin": true,
           "gridcolor": "white",
           "linecolor": "white",
           "ticks": "",
           "title": {
            "standoff": 15
           },
           "zerolinecolor": "white",
           "zerolinewidth": 2
          },
          "yaxis": {
           "automargin": true,
           "gridcolor": "white",
           "linecolor": "white",
           "ticks": "",
           "title": {
            "standoff": 15
           },
           "zerolinecolor": "white",
           "zerolinewidth": 2
          }
         }
        },
        "xaxis": {
         "autorange": true,
         "range": [
          -3.5366220375315622,
          3.505206110995629
         ],
         "type": "linear"
        },
        "yaxis": {
         "autorange": true,
         "range": [
          -1.1464968152866242,
          1.1464968152866242
         ],
         "type": "linear"
        }
       }
      },
      "image/png": "[encoded data removed]",
      "text/html": [
       "<div>                            <div id=\"4ec96ccb-0fb6-4f2f-ac84-f9e00da46e9d\" class=\"plotly-graph-div\" style=\"height:525px; width:100%;\"></div>            <script type=\"text/javascript\">                require([\"plotly\"], function(Plotly) {                    window.PLOTLYENV=window.PLOTLYENV || {};                                    if (document.getElementById(\"4ec96ccb-0fb6-4f2f-ac84-f9e00da46e9d\")) {                    Plotly.newPlot(                        \"4ec96ccb-0fb6-4f2f-ac84-f9e00da46e9d\",                        [{\"mode\": \"lines+markers\", \"type\": \"scatter\", \"x\": [-3.141592653589793, -3.1101767270538954, -3.0787608005179976, -3.0473448739821, -3.015928947446202, -2.9845130209103043, -2.9530970943744066, -2.921681167838509, -2.890265241302611, -2.8588493147667133, -2.8274333882308156, -2.796017461694918, -2.76460153515902, -2.7331856086231223, -2.7017696820872246, -2.670353755551327, -2.638937829015429, -2.6075219024795313, -2.5761059759436336, -2.544690049407736, -2.513274122871838, -2.4818581963359403, -2.4504422698000425, -2.419026343264145, -2.387610416728247, -2.3561944901923493, -2.3247785636564515, -2.2933626371205538, -2.261946710584656, -2.2305307840487583, -2.1991148575128605, -2.1676989309769628, -2.136283004441065, -2.1048670779051672, -2.0734511513692695, -2.0420352248333717, -2.010619298297474, -1.9792033717615762, -1.9477874452256785, -1.9163715186897807, -1.884955592153883, -1.8535396656179852, -1.8221237390820875, -1.7907078125461897, -1.759291886010292, -1.7278759594743942, -1.6964600329384965, -1.6650441064025987, -1.633628179866701, -1.6022122533308032, -1.5707963267949054, -1.5393804002590077, -1.50796447372311, -1.4765485471872122, -1.4451326206513144, -1.4137166941154167, -1.382300767579519, -1.3508848410436212, -1.3194689145077234, -1.2880529879718257, -1.256637061435928, -1.2252211349000302, -1.1938052083641324, -1.1623892818282346, -1.130973355292337, -1.0995574287564391, -1.0681415022205414, -1.0367255756846436, -1.0053096491487459, -0.9738937226128481, -0.9424777960769504, -0.9110618695410526, -0.8796459430051549, -0.8482300164692571, -0.8168140899333594, -0.7853981633974616, -0.7539822368615638, -0.7225663103256661, -0.6911503837897683, -0.6597344572538706, -0.6283185307179728, -0.5969026041820751, -0.5654866776461773, -0.5340707511102796, -0.5026548245743818, -0.47123889803848407, -0.4398229715025863, -0.40840704496668856, -0.3769911184307908, -0.34557519189489305, -0.3141592653589953, -0.28274333882309755, -0.2513274122871998, -0.21991148575130204, -0.18849555921540428, -0.15707963267950653, -0.12566370614360878, -0.09424777960771102, -0.06283185307181327, -0.03141592653591552, -1.7763568394002505e-14, 0.03141592653587999, 0.06283185307177774, 0.0942477796076755, 0.12566370614357325, 0.157079632679471, 0.18849555921536876, 0.2199114857512665, 0.25132741228716426, 0.282743338823062, 0.31415926535895977, 0.3455751918948575, 0.3769911184307553, 0.40840704496665303, 0.4398229715025508, 0.47123889803844854, 0.5026548245743463, 0.534070751110244, 0.5654866776461418, 0.5969026041820396, 0.6283185307179373, 0.6597344572538351, 0.6911503837897328, 0.7225663103256306, 0.7539822368615283, 0.7853981633974261, 0.8168140899333238, 0.8482300164692216, 0.8796459430051193, 0.9110618695410171, 0.9424777960769148, 0.9738937226128126, 1.0053096491487103, 1.036725575684608, 1.0681415022205059, 1.0995574287564036, 1.1309733552923014, 1.1623892818281991, 1.1938052083640969, 1.2252211348999946, 1.2566370614358924, 1.2880529879717901, 1.3194689145076879, 1.3508848410435856, 1.3823007675794834, 1.4137166941153811, 1.445132620651279, 1.4765485471871767, 1.5079644737230744, 1.5393804002589722, 1.57079632679487, 1.6022122533307677, 1.6336281798666654, 1.6650441064025632, 1.696460032938461, 1.7278759594743587, 1.7592918860102564, 1.7907078125461542, 1.822123739082052, 1.8535396656179497, 1.8849555921538474, 1.9163715186897452, 1.947787445225643, 1.9792033717615407, 2.0106192982974385, 2.042035224833336, 2.073451151369234, 2.1048670779051317, 2.1362830044410295, 2.1676989309769272, 2.199114857512825, 2.2305307840487227, 2.2619467105846205, 2.2933626371205182, 2.324778563656416, 2.3561944901923138, 2.3876104167282115, 2.4190263432641093, 2.450442269800007, 2.4818581963359048, 2.5132741228718025, 2.5446900494077003, 2.576105975943598, 2.607521902479496, 2.6389378290153935, 2.6703537555512913, 2.701769682087189, 2.733185608623087, 2.7646015351589845, 2.7960174616948823, 2.82743338823078, 2.858849314766678, 2.8902652413025756, 2.9216811678384733, 2.953097094374371, 2.984513020910269, 3.0159289474461666, 3.0473448739820643, 3.078760800517962, 3.11017672705386], \"y\": [-1.0, -0.9995065603657316, -0.9980267284282716, -0.99556196460308, -0.9921147013144779, -0.9876883405951379, -0.9822872507286888, -0.9759167619387477, -0.9685831611286314, -0.9602936856769435, -0.9510565162951541, -0.9408807689542261, -0.9297764858882521, -0.917754625683982, -0.9048270524660206, -0.891006524188369, -0.8763066800438649, -0.8607420270039451, -0.8443279255020167, -0.8270805742745637, -0.8090169943749494, -0.7901550123756926, -0.7705132427757917, -0.7501110696304621, -0.7289686274214144, -0.7071067811865506, -0.684547105928692, -0.6613118653236554, -0.6374239897486934, -0.6129070536529805, -0.5877852522924774, -0.562083377852135, -0.5358267949790013, -0.5090414157503762, -0.48175367410172043, -0.45399049973955224, -0.4257792915650784, -0.39714789063478656, -0.3681245526846842, -0.3387379202452978, -0.3090169943749541, -0.27899110603923616, -0.24868988716486196, -0.21814324139654995, -0.18738131458573223, -0.1564344650402387, -0.12533323356431228, -0.09410831331852257, -0.06279051952932183, -0.03141075907813693, -8.820551857043885e-15, 0.0314107590781193, 0.06279051952930421, 0.094108313318505, 0.12533323356429477, 0.15643446504022127, 0.18738131458571491, 0.2181432413965327, 0.24868988716484486, 0.2789911060392192, 0.30901699437493735, 0.3387379202452812, 0.36812455268466776, 0.3971478906347704, 0.4257792915650624, 0.45399049973953653, 0.4817536741017051, 0.5090414157503611, 0.5358267949789864, 0.5620833778521206, 0.5877852522924631, 0.6129070536529666, 0.63742398974868, 0.6613118653236422, 0.6845471059286792, 0.7071067811865381, 0.7289686274214022, 0.7501110696304505, 0.7705132427757804, 0.7901550123756818, 0.8090169943749391, 0.8270805742745537, 0.8443279255020073, 0.8607420270039361, 0.8763066800438564, 0.891006524188361, 0.904827052466013, 0.917754625683975, 0.9297764858882457, 0.9408807689542201, 0.9510565162951486, 0.9602936856769385, 0.9685831611286271, 0.9759167619387438, 0.9822872507286855, 0.9876883405951351, 0.9921147013144757, 0.9955619646030784, 0.9980267284282704, 0.999506560365731, 1.0, 0.9995065603657322, 0.9980267284282727, 0.9955619646030818, 0.9921147013144801, 0.9876883405951407, 0.9822872507286922, 0.9759167619387515, 0.9685831611286359, 0.9602936856769485, 0.9510565162951596, 0.9408807689542321, 0.9297764858882587, 0.9177546256839891, 0.9048270524660281, 0.8910065241883771, 0.8763066800438736, 0.8607420270039542, 0.8443279255020263, 0.8270805742745737, 0.80901699437496, 0.7901550123757035, 0.770513242775803, 0.750111069630474, 0.7289686274214267, 0.7071067811865632, 0.684547105928705, 0.6613118653236689, 0.6374239897487073, 0.6129070536529947, 0.5877852522924919, 0.5620833778521499, 0.5358267949790165, 0.5090414157503917, 0.4817536741017362, 0.4539904997395682, 0.42577929156509453, 0.397147890634803, 0.3681245526847008, 0.3387379202453146, 0.3090169943749711, 0.27899110603925337, 0.24868988716487928, 0.21814324139656738, 0.1873813145857498, 0.15643446504025635, 0.12533323356433002, 0.09410831331854037, 0.06279051952933967, 0.03141075907815481, 2.6706584930961125e-14, -0.03141075907810142, -0.06279051952928637, -0.09410831331848721, -0.12533323356427706, -0.1564344650402036, -0.18738131458569734, -0.21814324139651528, -0.24868988716482754, -0.2789911060392021, -0.3090169943749203, -0.3387379202452644, -0.36812455268465116, -0.397147890634754, -0.42577929156504624, -0.4539904997395206, -0.48175367410168934, -0.5090414157503457, -0.5358267949789713, -0.5620833778521057, -0.5877852522924486, -0.6129070536529524, -0.6374239897486661, -0.6613118653236287, -0.6845471059286661, -0.7071067811865255, -0.72896862742139, -0.7501110696304387, -0.770513242775769, -0.7901550123756709, -0.8090169943749286, -0.8270805742745437, -0.8443279255019978, -0.860742027003927, -0.8763066800438478, -0.8910065241883529, -0.9048270524660054, -0.9177546256839679, -0.929776485888239, -0.940880768954214, -0.9510565162951431, -0.9602936856769336, -0.9685831611286226, -0.9759167619387399, -0.9822872507286822, -0.9876883405951323, -0.9921147013144734, -0.9955619646030767, -0.9980267284282693, -0.9995065603657305]}],                        {\"template\": {\"data\": {\"bar\": [{\"error_x\": {\"color\": \"#2a3f5f\"}, \"error_y\": {\"color\": \"#2a3f5f\"}, \"marker\": {\"line\": {\"color\": \"#E5ECF6\", \"width\": 0.5}}, \"type\": \"bar\"}], \"barpolar\": [{\"marker\": {\"line\": {\"color\": \"#E5ECF6\", \"width\": 0.5}}, \"type\": \"barpolar\"}], \"carpet\": [{\"aaxis\": {\"endlinecolor\": \"#2a3f5f\", \"gridcolor\": \"white\", \"linecolor\": \"white\", \"minorgridcolor\": \"white\", \"startlinecolor\": \"#2a3f5f\"}, \"baxis\": {\"endlinecolor\": \"#2a3f5f\", \"gridcolor\": \"white\", \"linecolor\": \"white\", \"minorgridcolor\": \"white\", \"startlinecolor\": \"#2a3f5f\"}, \"type\": \"carpet\"}], \"choropleth\": [{\"colorbar\": {\"outlinewidth\": 0, \"ticks\": \"\"}, \"type\": \"choropleth\"}], \"contour\": [{\"colorbar\": {\"outlinewidth\": 0, \"ticks\": \"\"}, \"colorscale\": [[0.0, \"#0d0887\"], [0.1111111111111111, \"#46039f\"], [0.2222222222222222, \"#7201a8\"], [0.3333333333333333, \"#9c179e\"], [0.4444444444444444, \"#bd3786\"], [0.5555555555555556, \"#d8576b\"], [0.6666666666666666, \"#ed7953\"], [0.7777777777777778, \"#fb9f3a\"], [0.8888888888888888, \"#fdca26\"], [1.0, \"#f0f921\"]], \"type\": \"contour\"}], \"contourcarpet\": [{\"colorbar\": {\"outlinewidth\": 0, \"ticks\": \"\"}, \"type\": \"contourcarpet\"}], \"heatmap\": [{\"colorbar\": {\"outlinewidth\": 0, \"ticks\": \"\"}, \"colorscale\": [[0.0, \"#0d0887\"], [0.1111111111111111, \"#46039f\"], [0.2222222222222222, \"#7201a8\"], [0.3333333333333333, \"#9c179e\"], [0.4444444444444444, \"#bd3786\"], [0.5555555555555556, \"#d8576b\"], [0.6666666666666666, \"#ed7953\"], [0.7777777777777778, \"#fb9f3a\"], [0.8888888888888888, \"#fdca26\"], [1.0, \"#f0f921\"]], \"type\": \"heatmap\"}], \"heatmapgl\": [{\"colorbar\": {\"outlinewidth\": 0, \"ticks\": \"\"}, \"colorscale\": [[0.0, \"#0d0887\"], [0.1111111111111111, \"#46039f\"], [0.2222222222222222, \"#7201a8\"], [0.3333333333333333, \"#9c179e\"], [0.4444444444444444, \"#bd3786\"], [0.5555555555555556, \"#d8576b\"], [0.6666666666666666, \"#ed7953\"], [0.7777777777777778, \"#fb9f3a\"], [0.8888888888888888, \"#fdca26\"], [1.0, \"#f0f921\"]], \"type\": \"heatmapgl\"}], \"histogram\": [{\"marker\": {\"colorbar\": {\"outlinewidth\": 0, \"ticks\": \"\"}}, \"type\": \"histogram\"}], \"histogram2d\": [{\"colorbar\": {\"outlinewidth\": 0, \"ticks\": \"\"}, \"colorscale\": [[0.0, \"#0d0887\"], [0.1111111111111111, \"#46039f\"], [0.2222222222222222, \"#7201a8\"], [0.3333333333333333, \"#9c179e\"], [0.4444444444444444, \"#bd3786\"], [0.5555555555555556, \"#d8576b\"], [0.6666666666666666, \"#ed7953\"], [0.7777777777777778, \"#fb9f3a\"], [0.8888888888888888, \"#fdca26\"], [1.0, \"#f0f921\"]], \"type\": \"histogram2d\"}], \"histogram2dcontour\": [{\"colorbar\": {\"outlinewidth\": 0, \"ticks\": \"\"}, \"colorscale\": [[0.0, \"#0d0887\"], [0.1111111111111111, \"#46039f\"], [0.2222222222222222, \"#7201a8\"], [0.3333333333333333, \"#9c179e\"], [0.4444444444444444, \"#bd3786\"], [0.5555555555555556, \"#d8576b\"], [0.6666666666666666, \"#ed7953\"], [0.7777777777777778, \"#fb9f3a\"], [0.8888888888888888, \"#fdca26\"], [1.0, \"#f0f921\"]], \"type\": \"histogram2dcontour\"}], \"mesh3d\": [{\"colorbar\": {\"outlinewidth\": 0, \"ticks\": \"\"}, \"type\": \"mesh3d\"}], \"parcoords\": [{\"line\": {\"colorbar\": {\"outlinewidth\": 0, \"ticks\": \"\"}}, \"type\": \"parcoords\"}], \"pie\": [{\"automargin\": true, \"type\": \"pie\"}], \"scatter\": [{\"marker\": {\"colorbar\": {\"outlinewidth\": 0, \"ticks\": \"\"}}, \"type\": \"scatter\"}], \"scatter3d\": [{\"line\": {\"colorbar\": {\"outlinewidth\": 0, \"ticks\": \"\"}}, \"marker\": {\"colorbar\": {\"outlinewidth\": 0, \"ticks\": \"\"}}, \"type\": \"scatter3d\"}], \"scattercarpet\": [{\"marker\": {\"colorbar\": {\"outlinewidth\": 0, \"ticks\": \"\"}}, \"type\": \"scattercarpet\"}], \"scattergeo\": [{\"marker\": {\"colorbar\": {\"outlinewidth\": 0, \"ticks\": \"\"}}, \"type\": \"scattergeo\"}], \"scattergl\": [{\"marker\": {\"colorbar\": {\"outlinewidth\": 0, \"ticks\": \"\"}}, \"type\": \"scattergl\"}], \"scattermapbox\": [{\"marker\": {\"colorbar\": {\"outlinewidth\": 0, \"ticks\": \"\"}}, \"type\": \"scattermapbox\"}], \"scatterpolar\": [{\"marker\": {\"colorbar\": {\"outlinewidth\": 0, \"ticks\": \"\"}}, \"type\": \"scatterpolar\"}], \"scatterpolargl\": [{\"marker\": {\"colorbar\": {\"outlinewidth\": 0, \"ticks\": \"\"}}, \"type\": \"scatterpolargl\"}], \"scatterternary\": [{\"marker\": {\"colorbar\": {\"outlinewidth\": 0, \"ticks\": \"\"}}, \"type\": \"scatterternary\"}], \"surface\": [{\"colorbar\": {\"outlinewidth\": 0, \"ticks\": \"\"}, \"colorscale\": [[0.0, \"#0d0887\"], [0.1111111111111111, \"#46039f\"], [0.2222222222222222, \"#7201a8\"], [0.3333333333333333, \"#9c179e\"], [0.4444444444444444, \"#bd3786\"], [0.5555555555555556, \"#d8576b\"], [0.6666666666666666, \"#ed7953\"], [0.7777777777777778, \"#fb9f3a\"], [0.8888888888888888, \"#fdca26\"], [1.0, \"#f0f921\"]], \"type\": \"surface\"}], \"table\": [{\"cells\": {\"fill\": {\"color\": \"#EBF0F8\"}, \"line\": {\"color\": \"white\"}}, \"header\": {\"fill\": {\"color\": \"#C8D4E3\"}, \"line\": {\"color\": \"white\"}}, \"type\": \"table\"}]}, \"layout\": {\"annotationdefaults\": {\"arrowcolor\": \"#2a3f5f\", \"arrowhead\": 0, \"arrowwidth\": 1}, \"autotypenumbers\": \"strict\", \"coloraxis\": {\"colorbar\": {\"outlinewidth\": 0, \"ticks\": \"\"}}, \"colorscale\": {\"diverging\": [[0, \"#8e0152\"], [0.1, \"#c51b7d\"], [0.2, \"#de77ae\"], [0.3, \"#f1b6da\"], [0.4, \"#fde0ef\"], [0.5, \"#f7f7f7\"], [0.6, \"#e6f5d0\"], [0.7, \"#b8e186\"], [0.8, \"#7fbc41\"], [0.9, \"#4d9221\"], [1, \"#276419\"]], \"sequential\": [[0.0, \"#0d0887\"], [0.1111111111111111, \"#46039f\"], [0.2222222222222222, \"#7201a8\"], [0.3333333333333333, \"#9c179e\"], [0.4444444444444444, \"#bd3786\"], [0.5555555555555556, \"#d8576b\"], [0.6666666666666666, \"#ed7953\"], [0.7777777777777778, \"#fb9f3a\"], [0.8888888888888888, \"#fdca26\"], [1.0, \"#f0f921\"]], \"sequentialminus\": [[0.0, \"#0d0887\"], [0.1111111111111111, \"#46039f\"], [0.2222222222222222, \"#7201a8\"], [0.3333333333333333, \"#9c179e\"], [0.4444444444444444, \"#bd3786\"], [0.5555555555555556, \"#d8576b\"], [0.6666666666666666, \"#ed7953\"], [0.7777777777777778, \"#fb9f3a\"], [0.8888888888888888, \"#fdca26\"], [1.0, \"#f0f921\"]]}, \"colorway\": [\"#636efa\", \"#EF553B\", \"#00cc96\", \"#ab63fa\", \"#FFA15A\", \"#19d3f3\", \"#FF6692\", \"#B6E880\", \"#FF97FF\", \"#FECB52\"], \"font\": {\"color\": \"#2a3f5f\"}, \"geo\": {\"bgcolor\": \"white\", \"lakecolor\": \"white\", \"landcolor\": \"#E5ECF6\", \"showlakes\": true, \"showland\": true, \"subunitcolor\": \"white\"}, \"hoverlabel\": {\"align\": \"left\"}, \"hovermode\": \"closest\", \"mapbox\": {\"style\": \"light\"}, \"paper_bgcolor\": \"white\", \"plot_bgcolor\": \"#E5ECF6\", \"polar\": {\"angularaxis\": {\"gridcolor\": \"white\", \"linecolor\": \"white\", \"ticks\": \"\"}, \"bgcolor\": \"#E5ECF6\", \"radialaxis\": {\"gridcolor\": \"white\", \"linecolor\": \"white\", \"ticks\": \"\"}}, \"scene\": {\"xaxis\": {\"backgroundcolor\": \"#E5ECF6\", \"gridcolor\": \"white\", \"gridwidth\": 2, \"linecolor\": \"white\", \"showbackground\": true, \"ticks\": \"\", \"zerolinecolor\": \"white\"}, \"yaxis\": {\"backgroundcolor\": \"#E5ECF6\", \"gridcolor\": \"white\", \"gridwidth\": 2, \"linecolor\": \"white\", \"showbackground\": true, \"ticks\": \"\", \"zerolinecolor\": \"white\"}, \"zaxis\": {\"backgroundcolor\": \"#E5ECF6\", \"gridcolor\": \"white\", \"gridwidth\": 2, \"linecolor\": \"white\", \"showbackground\": true, \"ticks\": \"\", \"zerolinecolor\": \"white\"}}, \"shapedefaults\": {\"line\": {\"color\": \"#2a3f5f\"}}, \"ternary\": {\"aaxis\": {\"gridcolor\": \"white\", \"linecolor\": \"white\", \"ticks\": \"\"}, \"baxis\": {\"gridcolor\": \"white\", \"linecolor\": \"white\", \"ticks\": \"\"}, \"bgcolor\": \"#E5ECF6\", \"caxis\": {\"gridcolor\": \"white\", \"linecolor\": \"white\", \"ticks\": \"\"}}, \"title\": {\"x\": 0.05}, \"xaxis\": {\"automargin\": true, \"gridcolor\": \"white\", \"linecolor\": \"white\", \"ticks\": \"\", \"title\": {\"standoff\": 15}, \"zerolinecolor\": \"white\", \"zerolinewidth\": 2}, \"yaxis\": {\"automargin\": true, \"gridcolor\": \"white\", \"linecolor\": \"white\", \"ticks\": \"\", \"title\": {\"standoff\": 15}, \"zerolinecolor\": \"white\", \"zerolinewidth\": 2}}}},                        {\"responsive\": true}                    ).then(function(){\n",
       "                            \n",
       "var gd = document.getElementById('4ec96ccb-0fb6-4f2f-ac84-f9e00da46e9d');\n",
       "var x = new MutationObserver(function (mutations, observer) {{\n",
       "        var display = window.getComputedStyle(gd).display;\n",
       "        if (!display || display === 'none') {{\n",
       "            console.log([gd, 'removed!']);\n",
       "            Plotly.purge(gd);\n",
       "            observer.disconnect();\n",
       "        }}\n",
       "}});\n",
       "\n",
       "// Listen for the removal of the full notebook cells\n",
       "var notebookContainer = gd.closest('#notebook-container');\n",
       "if (notebookContainer) {{\n",
       "    x.observe(notebookContainer, {childList: true});\n",
       "}}\n",
       "\n",
       "// Listen for the clearing of the current output cell\n",
       "var outputEl = gd.closest('.output');\n",
       "if (outputEl) {{\n",
       "    x.observe(outputEl, {childList: true});\n",
       "}}\n",
       "\n",
       "                        })                };                });            </script>        </div>"
      ]
     },
     "metadata": {},
     "output_type": "display_data"
    }
   ],
   "source": [
    "curve1.mode = 'lines+markers'\n",
    "fig1"
   ]
  },
  {
   "cell_type": "markdown",
   "metadata": {},
   "source": [
    "If we remember the properties by heart, we can simply operate directly with the go.Figure - object:"
   ]
  },
  {
   "cell_type": "code",
   "execution_count": 82,
   "metadata": {},
   "outputs": [
    {
     "data": {
      "application/vnd.plotly.v1+json": {
       "config": {
        "plotlyServerURL": "https://plot.ly"
       },
       "data": [
        {
         "mode": "lines",
         "type": "scatter",
         "x": [
          -3.141592653589793,
          -3.1101767270538954,
          -3.0787608005179976,
          -3.0473448739821,
          -3.015928947446202,
          -2.9845130209103043,
          -2.9530970943744066,
          -2.921681167838509,
          -2.890265241302611,
          -2.8588493147667133,
          -2.8274333882308156,
          -2.796017461694918,
          -2.76460153515902,
          -2.7331856086231223,
          -2.7017696820872246,
          -2.670353755551327,
          -2.638937829015429,
          -2.6075219024795313,
          -2.5761059759436336,
          -2.544690049407736,
          -2.513274122871838,
          -2.4818581963359403,
          -2.4504422698000425,
          -2.419026343264145,
          -2.387610416728247,
          -2.3561944901923493,
          -2.3247785636564515,
          -2.2933626371205538,
          -2.261946710584656,
          -2.2305307840487583,
          -2.1991148575128605,
          -2.1676989309769628,
          -2.136283004441065,
          -2.1048670779051672,
          -2.0734511513692695,
          -2.0420352248333717,
          -2.010619298297474,
          -1.9792033717615762,
          -1.9477874452256785,
          -1.9163715186897807,
          -1.884955592153883,
          -1.8535396656179852,
          -1.8221237390820875,
          -1.7907078125461897,
          -1.759291886010292,
          -1.7278759594743942,
          -1.6964600329384965,
          -1.6650441064025987,
          -1.633628179866701,
          -1.6022122533308032,
          -1.5707963267949054,
          -1.5393804002590077,
          -1.50796447372311,
          -1.4765485471872122,
          -1.4451326206513144,
          -1.4137166941154167,
          -1.382300767579519,
          -1.3508848410436212,
          -1.3194689145077234,
          -1.2880529879718257,
          -1.256637061435928,
          -1.2252211349000302,
          -1.1938052083641324,
          -1.1623892818282346,
          -1.130973355292337,
          -1.0995574287564391,
          -1.0681415022205414,
          -1.0367255756846436,
          -1.0053096491487459,
          -0.9738937226128481,
          -0.9424777960769504,
          -0.9110618695410526,
          -0.8796459430051549,
          -0.8482300164692571,
          -0.8168140899333594,
          -0.7853981633974616,
          -0.7539822368615638,
          -0.7225663103256661,
          -0.6911503837897683,
          -0.6597344572538706,
          -0.6283185307179728,
          -0.5969026041820751,
          -0.5654866776461773,
          -0.5340707511102796,
          -0.5026548245743818,
          -0.47123889803848407,
          -0.4398229715025863,
          -0.40840704496668856,
          -0.3769911184307908,
          -0.34557519189489305,
          -0.3141592653589953,
          -0.28274333882309755,
          -0.2513274122871998,
          -0.21991148575130204,
          -0.18849555921540428,
          -0.15707963267950653,
          -0.12566370614360878,
          -0.09424777960771102,
          -0.06283185307181327,
          -0.03141592653591552,
          -1.7763568394002505e-14,
          0.03141592653587999,
          0.06283185307177774,
          0.0942477796076755,
          0.12566370614357325,
          0.157079632679471,
          0.18849555921536876,
          0.2199114857512665,
          0.25132741228716426,
          0.282743338823062,
          0.31415926535895977,
          0.3455751918948575,
          0.3769911184307553,
          0.40840704496665303,
          0.4398229715025508,
          0.47123889803844854,
          0.5026548245743463,
          0.534070751110244,
          0.5654866776461418,
          0.5969026041820396,
          0.6283185307179373,
          0.6597344572538351,
          0.6911503837897328,
          0.7225663103256306,
          0.7539822368615283,
          0.7853981633974261,
          0.8168140899333238,
          0.8482300164692216,
          0.8796459430051193,
          0.9110618695410171,
          0.9424777960769148,
          0.9738937226128126,
          1.0053096491487103,
          1.036725575684608,
          1.0681415022205059,
          1.0995574287564036,
          1.1309733552923014,
          1.1623892818281991,
          1.1938052083640969,
          1.2252211348999946,
          1.2566370614358924,
          1.2880529879717901,
          1.3194689145076879,
          1.3508848410435856,
          1.3823007675794834,
          1.4137166941153811,
          1.445132620651279,
          1.4765485471871767,
          1.5079644737230744,
          1.5393804002589722,
          1.57079632679487,
          1.6022122533307677,
          1.6336281798666654,
          1.6650441064025632,
          1.696460032938461,
          1.7278759594743587,
          1.7592918860102564,
          1.7907078125461542,
          1.822123739082052,
          1.8535396656179497,
          1.8849555921538474,
          1.9163715186897452,
          1.947787445225643,
          1.9792033717615407,
          2.0106192982974385,
          2.042035224833336,
          2.073451151369234,
          2.1048670779051317,
          2.1362830044410295,
          2.1676989309769272,
          2.199114857512825,
          2.2305307840487227,
          2.2619467105846205,
          2.2933626371205182,
          2.324778563656416,
          2.3561944901923138,
          2.3876104167282115,
          2.4190263432641093,
          2.450442269800007,
          2.4818581963359048,
          2.5132741228718025,
          2.5446900494077003,
          2.576105975943598,
          2.607521902479496,
          2.6389378290153935,
          2.6703537555512913,
          2.701769682087189,
          2.733185608623087,
          2.7646015351589845,
          2.7960174616948823,
          2.82743338823078,
          2.858849314766678,
          2.8902652413025756,
          2.9216811678384733,
          2.953097094374371,
          2.984513020910269,
          3.0159289474461666,
          3.0473448739820643,
          3.078760800517962,
          3.11017672705386
         ],
         "y": [
          -1,
          -0.9995065603657316,
          -0.9980267284282716,
          -0.99556196460308,
          -0.9921147013144779,
          -0.9876883405951379,
          -0.9822872507286888,
          -0.9759167619387477,
          -0.9685831611286314,
          -0.9602936856769435,
          -0.9510565162951541,
          -0.9408807689542261,
          -0.9297764858882521,
          -0.917754625683982,
          -0.9048270524660206,
          -0.891006524188369,
          -0.8763066800438649,
          -0.8607420270039451,
          -0.8443279255020167,
          -0.8270805742745637,
          -0.8090169943749494,
          -0.7901550123756926,
          -0.7705132427757917,
          -0.7501110696304621,
          -0.7289686274214144,
          -0.7071067811865506,
          -0.684547105928692,
          -0.6613118653236554,
          -0.6374239897486934,
          -0.6129070536529805,
          -0.5877852522924774,
          -0.562083377852135,
          -0.5358267949790013,
          -0.5090414157503762,
          -0.48175367410172043,
          -0.45399049973955224,
          -0.4257792915650784,
          -0.39714789063478656,
          -0.3681245526846842,
          -0.3387379202452978,
          -0.3090169943749541,
          -0.27899110603923616,
          -0.24868988716486196,
          -0.21814324139654995,
          -0.18738131458573223,
          -0.1564344650402387,
          -0.12533323356431228,
          -0.09410831331852257,
          -0.06279051952932183,
          -0.03141075907813693,
          -8.820551857043885e-15,
          0.0314107590781193,
          0.06279051952930421,
          0.094108313318505,
          0.12533323356429477,
          0.15643446504022127,
          0.18738131458571491,
          0.2181432413965327,
          0.24868988716484486,
          0.2789911060392192,
          0.30901699437493735,
          0.3387379202452812,
          0.36812455268466776,
          0.3971478906347704,
          0.4257792915650624,
          0.45399049973953653,
          0.4817536741017051,
          0.5090414157503611,
          0.5358267949789864,
          0.5620833778521206,
          0.5877852522924631,
          0.6129070536529666,
          0.63742398974868,
          0.6613118653236422,
          0.6845471059286792,
          0.7071067811865381,
          0.7289686274214022,
          0.7501110696304505,
          0.7705132427757804,
          0.7901550123756818,
          0.8090169943749391,
          0.8270805742745537,
          0.8443279255020073,
          0.8607420270039361,
          0.8763066800438564,
          0.891006524188361,
          0.904827052466013,
          0.917754625683975,
          0.9297764858882457,
          0.9408807689542201,
          0.9510565162951486,
          0.9602936856769385,
          0.9685831611286271,
          0.9759167619387438,
          0.9822872507286855,
          0.9876883405951351,
          0.9921147013144757,
          0.9955619646030784,
          0.9980267284282704,
          0.999506560365731,
          1,
          0.9995065603657322,
          0.9980267284282727,
          0.9955619646030818,
          0.9921147013144801,
          0.9876883405951407,
          0.9822872507286922,
          0.9759167619387515,
          0.9685831611286359,
          0.9602936856769485,
          0.9510565162951596,
          0.9408807689542321,
          0.9297764858882587,
          0.9177546256839891,
          0.9048270524660281,
          0.8910065241883771,
          0.8763066800438736,
          0.8607420270039542,
          0.8443279255020263,
          0.8270805742745737,
          0.80901699437496,
          0.7901550123757035,
          0.770513242775803,
          0.750111069630474,
          0.7289686274214267,
          0.7071067811865632,
          0.684547105928705,
          0.6613118653236689,
          0.6374239897487073,
          0.6129070536529947,
          0.5877852522924919,
          0.5620833778521499,
          0.5358267949790165,
          0.5090414157503917,
          0.4817536741017362,
          0.4539904997395682,
          0.42577929156509453,
          0.397147890634803,
          0.3681245526847008,
          0.3387379202453146,
          0.3090169943749711,
          0.27899110603925337,
          0.24868988716487928,
          0.21814324139656738,
          0.1873813145857498,
          0.15643446504025635,
          0.12533323356433002,
          0.09410831331854037,
          0.06279051952933967,
          0.03141075907815481,
          2.6706584930961125e-14,
          -0.03141075907810142,
          -0.06279051952928637,
          -0.09410831331848721,
          -0.12533323356427706,
          -0.1564344650402036,
          -0.18738131458569734,
          -0.21814324139651528,
          -0.24868988716482754,
          -0.2789911060392021,
          -0.3090169943749203,
          -0.3387379202452644,
          -0.36812455268465116,
          -0.397147890634754,
          -0.42577929156504624,
          -0.4539904997395206,
          -0.48175367410168934,
          -0.5090414157503457,
          -0.5358267949789713,
          -0.5620833778521057,
          -0.5877852522924486,
          -0.6129070536529524,
          -0.6374239897486661,
          -0.6613118653236287,
          -0.6845471059286661,
          -0.7071067811865255,
          -0.72896862742139,
          -0.7501110696304387,
          -0.770513242775769,
          -0.7901550123756709,
          -0.8090169943749286,
          -0.8270805742745437,
          -0.8443279255019978,
          -0.860742027003927,
          -0.8763066800438478,
          -0.8910065241883529,
          -0.9048270524660054,
          -0.9177546256839679,
          -0.929776485888239,
          -0.940880768954214,
          -0.9510565162951431,
          -0.9602936856769336,
          -0.9685831611286226,
          -0.9759167619387399,
          -0.9822872507286822,
          -0.9876883405951323,
          -0.9921147013144734,
          -0.9955619646030767,
          -0.9980267284282693,
          -0.9995065603657305
         ]
        }
       ],
       "layout": {
        "autosize": true,
        "template": {
         "data": {
          "bar": [
           {
            "error_x": {
             "color": "#2a3f5f"
            },
            "error_y": {
             "color": "#2a3f5f"
            },
            "marker": {
             "line": {
              "color": "#E5ECF6",
              "width": 0.5
             }
            },
            "type": "bar"
           }
          ],
          "barpolar": [
           {
            "marker": {
             "line": {
              "color": "#E5ECF6",
              "width": 0.5
             }
            },
            "type": "barpolar"
           }
          ],
          "carpet": [
           {
            "aaxis": {
             "endlinecolor": "#2a3f5f",
             "gridcolor": "white",
             "linecolor": "white",
             "minorgridcolor": "white",
             "startlinecolor": "#2a3f5f"
            },
            "baxis": {
             "endlinecolor": "#2a3f5f",
             "gridcolor": "white",
             "linecolor": "white",
             "minorgridcolor": "white",
             "startlinecolor": "#2a3f5f"
            },
            "type": "carpet"
           }
          ],
          "choropleth": [
           {
            "colorbar": {
             "outlinewidth": 0,
             "ticks": ""
            },
            "type": "choropleth"
           }
          ],
          "contour": [
           {
            "colorbar": {
             "outlinewidth": 0,
             "ticks": ""
            },
            "colorscale": [
             [
              0,
              "#0d0887"
             ],
             [
              0.1111111111111111,
              "#46039f"
             ],
             [
              0.2222222222222222,
              "#7201a8"
             ],
             [
              0.3333333333333333,
              "#9c179e"
             ],
             [
              0.4444444444444444,
              "#bd3786"
             ],
             [
              0.5555555555555556,
              "#d8576b"
             ],
             [
              0.6666666666666666,
              "#ed7953"
             ],
             [
              0.7777777777777778,
              "#fb9f3a"
             ],
             [
              0.8888888888888888,
              "#fdca26"
             ],
             [
              1,
              "#f0f921"
             ]
            ],
            "type": "contour"
           }
          ],
          "contourcarpet": [
           {
            "colorbar": {
             "outlinewidth": 0,
             "ticks": ""
            },
            "type": "contourcarpet"
           }
          ],
          "heatmap": [
           {
            "colorbar": {
             "outlinewidth": 0,
             "ticks": ""
            },
            "colorscale": [
             [
              0,
              "#0d0887"
             ],
             [
              0.1111111111111111,
              "#46039f"
             ],
             [
              0.2222222222222222,
              "#7201a8"
             ],
             [
              0.3333333333333333,
              "#9c179e"
             ],
             [
              0.4444444444444444,
              "#bd3786"
             ],
             [
              0.5555555555555556,
              "#d8576b"
             ],
             [
              0.6666666666666666,
              "#ed7953"
             ],
             [
              0.7777777777777778,
              "#fb9f3a"
             ],
             [
              0.8888888888888888,
              "#fdca26"
             ],
             [
              1,
              "#f0f921"
             ]
            ],
            "type": "heatmap"
           }
          ],
          "heatmapgl": [
           {
            "colorbar": {
             "outlinewidth": 0,
             "ticks": ""
            },
            "colorscale": [
             [
              0,
              "#0d0887"
             ],
             [
              0.1111111111111111,
              "#46039f"
             ],
             [
              0.2222222222222222,
              "#7201a8"
             ],
             [
              0.3333333333333333,
              "#9c179e"
             ],
             [
              0.4444444444444444,
              "#bd3786"
             ],
             [
              0.5555555555555556,
              "#d8576b"
             ],
             [
              0.6666666666666666,
              "#ed7953"
             ],
             [
              0.7777777777777778,
              "#fb9f3a"
             ],
             [
              0.8888888888888888,
              "#fdca26"
             ],
             [
              1,
              "#f0f921"
             ]
            ],
            "type": "heatmapgl"
           }
          ],
          "histogram": [
           {
            "marker": {
             "colorbar": {
              "outlinewidth": 0,
              "ticks": ""
             }
            },
            "type": "histogram"
           }
          ],
          "histogram2d": [
           {
            "colorbar": {
             "outlinewidth": 0,
             "ticks": ""
            },
            "colorscale": [
             [
              0,
              "#0d0887"
             ],
             [
              0.1111111111111111,
              "#46039f"
             ],
             [
              0.2222222222222222,
              "#7201a8"
             ],
             [
              0.3333333333333333,
              "#9c179e"
             ],
             [
              0.4444444444444444,
              "#bd3786"
             ],
             [
              0.5555555555555556,
              "#d8576b"
             ],
             [
              0.6666666666666666,
              "#ed7953"
             ],
             [
              0.7777777777777778,
              "#fb9f3a"
             ],
             [
              0.8888888888888888,
              "#fdca26"
             ],
             [
              1,
              "#f0f921"
             ]
            ],
            "type": "histogram2d"
           }
          ],
          "histogram2dcontour": [
           {
            "colorbar": {
             "outlinewidth": 0,
             "ticks": ""
            },
            "colorscale": [
             [
              0,
              "#0d0887"
             ],
             [
              0.1111111111111111,
              "#46039f"
             ],
             [
              0.2222222222222222,
              "#7201a8"
             ],
             [
              0.3333333333333333,
              "#9c179e"
             ],
             [
              0.4444444444444444,
              "#bd3786"
             ],
             [
              0.5555555555555556,
              "#d8576b"
             ],
             [
              0.6666666666666666,
              "#ed7953"
             ],
             [
              0.7777777777777778,
              "#fb9f3a"
             ],
             [
              0.8888888888888888,
              "#fdca26"
             ],
             [
              1,
              "#f0f921"
             ]
            ],
            "type": "histogram2dcontour"
           }
          ],
          "mesh3d": [
           {
            "colorbar": {
             "outlinewidth": 0,
             "ticks": ""
            },
            "type": "mesh3d"
           }
          ],
          "parcoords": [
           {
            "line": {
             "colorbar": {
              "outlinewidth": 0,
              "ticks": ""
             }
            },
            "type": "parcoords"
           }
          ],
          "pie": [
           {
            "automargin": true,
            "type": "pie"
           }
          ],
          "scatter": [
           {
            "marker": {
             "colorbar": {
              "outlinewidth": 0,
              "ticks": ""
             }
            },
            "type": "scatter"
           }
          ],
          "scatter3d": [
           {
            "line": {
             "colorbar": {
              "outlinewidth": 0,
              "ticks": ""
             }
            },
            "marker": {
             "colorbar": {
              "outlinewidth": 0,
              "ticks": ""
             }
            },
            "type": "scatter3d"
           }
          ],
          "scattercarpet": [
           {
            "marker": {
             "colorbar": {
              "outlinewidth": 0,
              "ticks": ""
             }
            },
            "type": "scattercarpet"
           }
          ],
          "scattergeo": [
           {
            "marker": {
             "colorbar": {
              "outlinewidth": 0,
              "ticks": ""
             }
            },
            "type": "scattergeo"
           }
          ],
          "scattergl": [
           {
            "marker": {
             "colorbar": {
              "outlinewidth": 0,
              "ticks": ""
             }
            },
            "type": "scattergl"
           }
          ],
          "scattermapbox": [
           {
            "marker": {
             "colorbar": {
              "outlinewidth": 0,
              "ticks": ""
             }
            },
            "type": "scattermapbox"
           }
          ],
          "scatterpolar": [
           {
            "marker": {
             "colorbar": {
              "outlinewidth": 0,
              "ticks": ""
             }
            },
            "type": "scatterpolar"
           }
          ],
          "scatterpolargl": [
           {
            "marker": {
             "colorbar": {
              "outlinewidth": 0,
              "ticks": ""
             }
            },
            "type": "scatterpolargl"
           }
          ],
          "scatterternary": [
           {
            "marker": {
             "colorbar": {
              "outlinewidth": 0,
              "ticks": ""
             }
            },
            "type": "scatterternary"
           }
          ],
          "surface": [
           {
            "colorbar": {
             "outlinewidth": 0,
             "ticks": ""
            },
            "colorscale": [
             [
              0,
              "#0d0887"
             ],
             [
              0.1111111111111111,
              "#46039f"
             ],
             [
              0.2222222222222222,
              "#7201a8"
             ],
             [
              0.3333333333333333,
              "#9c179e"
             ],
             [
              0.4444444444444444,
              "#bd3786"
             ],
             [
              0.5555555555555556,
              "#d8576b"
             ],
             [
              0.6666666666666666,
              "#ed7953"
             ],
             [
              0.7777777777777778,
              "#fb9f3a"
             ],
             [
              0.8888888888888888,
              "#fdca26"
             ],
             [
              1,
              "#f0f921"
             ]
            ],
            "type": "surface"
           }
          ],
          "table": [
           {
            "cells": {
             "fill": {
              "color": "#EBF0F8"
             },
             "line": {
              "color": "white"
             }
            },
            "header": {
             "fill": {
              "color": "#C8D4E3"
             },
             "line": {
              "color": "white"
             }
            },
            "type": "table"
           }
          ]
         },
         "layout": {
          "annotationdefaults": {
           "arrowcolor": "#2a3f5f",
           "arrowhead": 0,
           "arrowwidth": 1
          },
          "autotypenumbers": "strict",
          "coloraxis": {
           "colorbar": {
            "outlinewidth": 0,
            "ticks": ""
           }
          },
          "colorscale": {
           "diverging": [
            [
             0,
             "#8e0152"
            ],
            [
             0.1,
             "#c51b7d"
            ],
            [
             0.2,
             "#de77ae"
            ],
            [
             0.3,
             "#f1b6da"
            ],
            [
             0.4,
             "#fde0ef"
            ],
            [
             0.5,
             "#f7f7f7"
            ],
            [
             0.6,
             "#e6f5d0"
            ],
            [
             0.7,
             "#b8e186"
            ],
            [
             0.8,
             "#7fbc41"
            ],
            [
             0.9,
             "#4d9221"
            ],
            [
             1,
             "#276419"
            ]
           ],
           "sequential": [
            [
             0,
             "#0d0887"
            ],
            [
             0.1111111111111111,
             "#46039f"
            ],
            [
             0.2222222222222222,
             "#7201a8"
            ],
            [
             0.3333333333333333,
             "#9c179e"
            ],
            [
             0.4444444444444444,
             "#bd3786"
            ],
            [
             0.5555555555555556,
             "#d8576b"
            ],
            [
             0.6666666666666666,
             "#ed7953"
            ],
            [
             0.7777777777777778,
             "#fb9f3a"
            ],
            [
             0.8888888888888888,
             "#fdca26"
            ],
            [
             1,
             "#f0f921"
            ]
           ],
           "sequentialminus": [
            [
             0,
             "#0d0887"
            ],
            [
             0.1111111111111111,
             "#46039f"
            ],
            [
             0.2222222222222222,
             "#7201a8"
            ],
            [
             0.3333333333333333,
             "#9c179e"
            ],
            [
             0.4444444444444444,
             "#bd3786"
            ],
            [
             0.5555555555555556,
             "#d8576b"
            ],
            [
             0.6666666666666666,
             "#ed7953"
            ],
            [
             0.7777777777777778,
             "#fb9f3a"
            ],
            [
             0.8888888888888888,
             "#fdca26"
            ],
            [
             1,
             "#f0f921"
            ]
           ]
          },
          "colorway": [
           "#636efa",
           "#EF553B",
           "#00cc96",
           "#ab63fa",
           "#FFA15A",
           "#19d3f3",
           "#FF6692",
           "#B6E880",
           "#FF97FF",
           "#FECB52"
          ],
          "font": {
           "color": "#2a3f5f"
          },
          "geo": {
           "bgcolor": "white",
           "lakecolor": "white",
           "landcolor": "#E5ECF6",
           "showlakes": true,
           "showland": true,
           "subunitcolor": "white"
          },
          "hoverlabel": {
           "align": "left"
          },
          "hovermode": "closest",
          "mapbox": {
           "style": "light"
          },
          "paper_bgcolor": "white",
          "plot_bgcolor": "#E5ECF6",
          "polar": {
           "angularaxis": {
            "gridcolor": "white",
            "linecolor": "white",
            "ticks": ""
           },
           "bgcolor": "#E5ECF6",
           "radialaxis": {
            "gridcolor": "white",
            "linecolor": "white",
            "ticks": ""
           }
          },
          "scene": {
           "xaxis": {
            "backgroundcolor": "#E5ECF6",
            "gridcolor": "white",
            "gridwidth": 2,
            "linecolor": "white",
            "showbackground": true,
            "ticks": "",
            "zerolinecolor": "white"
           },
           "yaxis": {
            "backgroundcolor": "#E5ECF6",
            "gridcolor": "white",
            "gridwidth": 2,
            "linecolor": "white",
            "showbackground": true,
            "ticks": "",
            "zerolinecolor": "white"
           },
           "zaxis": {
            "backgroundcolor": "#E5ECF6",
            "gridcolor": "white",
            "gridwidth": 2,
            "linecolor": "white",
            "showbackground": true,
            "ticks": "",
            "zerolinecolor": "white"
           }
          },
          "shapedefaults": {
           "line": {
            "color": "#2a3f5f"
           }
          },
          "ternary": {
           "aaxis": {
            "gridcolor": "white",
            "linecolor": "white",
            "ticks": ""
           },
           "baxis": {
            "gridcolor": "white",
            "linecolor": "white",
            "ticks": ""
           },
           "bgcolor": "#E5ECF6",
           "caxis": {
            "gridcolor": "white",
            "linecolor": "white",
            "ticks": ""
           }
          },
          "title": {
           "x": 0.05
          },
          "xaxis": {
           "automargin": true,
           "gridcolor": "white",
           "linecolor": "white",
           "ticks": "",
           "title": {
            "standoff": 15
           },
           "zerolinecolor": "white",
           "zerolinewidth": 2
          },
          "yaxis": {
           "automargin": true,
           "gridcolor": "white",
           "linecolor": "white",
           "ticks": "",
           "title": {
            "standoff": 15
           },
           "zerolinecolor": "white",
           "zerolinewidth": 2
          }
         }
        },
        "xaxis": {
         "autorange": true,
         "range": [
          -3.141592653589793,
          3.11017672705386
         ],
         "type": "linear"
        },
        "yaxis": {
         "autorange": true,
         "range": [
          -1.1111111111111112,
          1.1111111111111112
         ],
         "type": "linear"
        }
       }
      },
      "image/png": "[encoded data removed]",
      "text/html": [
       "<div>                            <div id=\"880395e4-504a-4913-b0de-d56cf74070cd\" class=\"plotly-graph-div\" style=\"height:525px; width:100%;\"></div>            <script type=\"text/javascript\">                require([\"plotly\"], function(Plotly) {                    window.PLOTLYENV=window.PLOTLYENV || {};                                    if (document.getElementById(\"880395e4-504a-4913-b0de-d56cf74070cd\")) {                    Plotly.newPlot(                        \"880395e4-504a-4913-b0de-d56cf74070cd\",                        [{\"mode\": \"lines\", \"type\": \"scatter\", \"x\": [-3.141592653589793, -3.1101767270538954, -3.0787608005179976, -3.0473448739821, -3.015928947446202, -2.9845130209103043, -2.9530970943744066, -2.921681167838509, -2.890265241302611, -2.8588493147667133, -2.8274333882308156, -2.796017461694918, -2.76460153515902, -2.7331856086231223, -2.7017696820872246, -2.670353755551327, -2.638937829015429, -2.6075219024795313, -2.5761059759436336, -2.544690049407736, -2.513274122871838, -2.4818581963359403, -2.4504422698000425, -2.419026343264145, -2.387610416728247, -2.3561944901923493, -2.3247785636564515, -2.2933626371205538, -2.261946710584656, -2.2305307840487583, -2.1991148575128605, -2.1676989309769628, -2.136283004441065, -2.1048670779051672, -2.0734511513692695, -2.0420352248333717, -2.010619298297474, -1.9792033717615762, -1.9477874452256785, -1.9163715186897807, -1.884955592153883, -1.8535396656179852, -1.8221237390820875, -1.7907078125461897, -1.759291886010292, -1.7278759594743942, -1.6964600329384965, -1.6650441064025987, -1.633628179866701, -1.6022122533308032, -1.5707963267949054, -1.5393804002590077, -1.50796447372311, -1.4765485471872122, -1.4451326206513144, -1.4137166941154167, -1.382300767579519, -1.3508848410436212, -1.3194689145077234, -1.2880529879718257, -1.256637061435928, -1.2252211349000302, -1.1938052083641324, -1.1623892818282346, -1.130973355292337, -1.0995574287564391, -1.0681415022205414, -1.0367255756846436, -1.0053096491487459, -0.9738937226128481, -0.9424777960769504, -0.9110618695410526, -0.8796459430051549, -0.8482300164692571, -0.8168140899333594, -0.7853981633974616, -0.7539822368615638, -0.7225663103256661, -0.6911503837897683, -0.6597344572538706, -0.6283185307179728, -0.5969026041820751, -0.5654866776461773, -0.5340707511102796, -0.5026548245743818, -0.47123889803848407, -0.4398229715025863, -0.40840704496668856, -0.3769911184307908, -0.34557519189489305, -0.3141592653589953, -0.28274333882309755, -0.2513274122871998, -0.21991148575130204, -0.18849555921540428, -0.15707963267950653, -0.12566370614360878, -0.09424777960771102, -0.06283185307181327, -0.03141592653591552, -1.7763568394002505e-14, 0.03141592653587999, 0.06283185307177774, 0.0942477796076755, 0.12566370614357325, 0.157079632679471, 0.18849555921536876, 0.2199114857512665, 0.25132741228716426, 0.282743338823062, 0.31415926535895977, 0.3455751918948575, 0.3769911184307553, 0.40840704496665303, 0.4398229715025508, 0.47123889803844854, 0.5026548245743463, 0.534070751110244, 0.5654866776461418, 0.5969026041820396, 0.6283185307179373, 0.6597344572538351, 0.6911503837897328, 0.7225663103256306, 0.7539822368615283, 0.7853981633974261, 0.8168140899333238, 0.8482300164692216, 0.8796459430051193, 0.9110618695410171, 0.9424777960769148, 0.9738937226128126, 1.0053096491487103, 1.036725575684608, 1.0681415022205059, 1.0995574287564036, 1.1309733552923014, 1.1623892818281991, 1.1938052083640969, 1.2252211348999946, 1.2566370614358924, 1.2880529879717901, 1.3194689145076879, 1.3508848410435856, 1.3823007675794834, 1.4137166941153811, 1.445132620651279, 1.4765485471871767, 1.5079644737230744, 1.5393804002589722, 1.57079632679487, 1.6022122533307677, 1.6336281798666654, 1.6650441064025632, 1.696460032938461, 1.7278759594743587, 1.7592918860102564, 1.7907078125461542, 1.822123739082052, 1.8535396656179497, 1.8849555921538474, 1.9163715186897452, 1.947787445225643, 1.9792033717615407, 2.0106192982974385, 2.042035224833336, 2.073451151369234, 2.1048670779051317, 2.1362830044410295, 2.1676989309769272, 2.199114857512825, 2.2305307840487227, 2.2619467105846205, 2.2933626371205182, 2.324778563656416, 2.3561944901923138, 2.3876104167282115, 2.4190263432641093, 2.450442269800007, 2.4818581963359048, 2.5132741228718025, 2.5446900494077003, 2.576105975943598, 2.607521902479496, 2.6389378290153935, 2.6703537555512913, 2.701769682087189, 2.733185608623087, 2.7646015351589845, 2.7960174616948823, 2.82743338823078, 2.858849314766678, 2.8902652413025756, 2.9216811678384733, 2.953097094374371, 2.984513020910269, 3.0159289474461666, 3.0473448739820643, 3.078760800517962, 3.11017672705386], \"y\": [-1.0, -0.9995065603657316, -0.9980267284282716, -0.99556196460308, -0.9921147013144779, -0.9876883405951379, -0.9822872507286888, -0.9759167619387477, -0.9685831611286314, -0.9602936856769435, -0.9510565162951541, -0.9408807689542261, -0.9297764858882521, -0.917754625683982, -0.9048270524660206, -0.891006524188369, -0.8763066800438649, -0.8607420270039451, -0.8443279255020167, -0.8270805742745637, -0.8090169943749494, -0.7901550123756926, -0.7705132427757917, -0.7501110696304621, -0.7289686274214144, -0.7071067811865506, -0.684547105928692, -0.6613118653236554, -0.6374239897486934, -0.6129070536529805, -0.5877852522924774, -0.562083377852135, -0.5358267949790013, -0.5090414157503762, -0.48175367410172043, -0.45399049973955224, -0.4257792915650784, -0.39714789063478656, -0.3681245526846842, -0.3387379202452978, -0.3090169943749541, -0.27899110603923616, -0.24868988716486196, -0.21814324139654995, -0.18738131458573223, -0.1564344650402387, -0.12533323356431228, -0.09410831331852257, -0.06279051952932183, -0.03141075907813693, -8.820551857043885e-15, 0.0314107590781193, 0.06279051952930421, 0.094108313318505, 0.12533323356429477, 0.15643446504022127, 0.18738131458571491, 0.2181432413965327, 0.24868988716484486, 0.2789911060392192, 0.30901699437493735, 0.3387379202452812, 0.36812455268466776, 0.3971478906347704, 0.4257792915650624, 0.45399049973953653, 0.4817536741017051, 0.5090414157503611, 0.5358267949789864, 0.5620833778521206, 0.5877852522924631, 0.6129070536529666, 0.63742398974868, 0.6613118653236422, 0.6845471059286792, 0.7071067811865381, 0.7289686274214022, 0.7501110696304505, 0.7705132427757804, 0.7901550123756818, 0.8090169943749391, 0.8270805742745537, 0.8443279255020073, 0.8607420270039361, 0.8763066800438564, 0.891006524188361, 0.904827052466013, 0.917754625683975, 0.9297764858882457, 0.9408807689542201, 0.9510565162951486, 0.9602936856769385, 0.9685831611286271, 0.9759167619387438, 0.9822872507286855, 0.9876883405951351, 0.9921147013144757, 0.9955619646030784, 0.9980267284282704, 0.999506560365731, 1.0, 0.9995065603657322, 0.9980267284282727, 0.9955619646030818, 0.9921147013144801, 0.9876883405951407, 0.9822872507286922, 0.9759167619387515, 0.9685831611286359, 0.9602936856769485, 0.9510565162951596, 0.9408807689542321, 0.9297764858882587, 0.9177546256839891, 0.9048270524660281, 0.8910065241883771, 0.8763066800438736, 0.8607420270039542, 0.8443279255020263, 0.8270805742745737, 0.80901699437496, 0.7901550123757035, 0.770513242775803, 0.750111069630474, 0.7289686274214267, 0.7071067811865632, 0.684547105928705, 0.6613118653236689, 0.6374239897487073, 0.6129070536529947, 0.5877852522924919, 0.5620833778521499, 0.5358267949790165, 0.5090414157503917, 0.4817536741017362, 0.4539904997395682, 0.42577929156509453, 0.397147890634803, 0.3681245526847008, 0.3387379202453146, 0.3090169943749711, 0.27899110603925337, 0.24868988716487928, 0.21814324139656738, 0.1873813145857498, 0.15643446504025635, 0.12533323356433002, 0.09410831331854037, 0.06279051952933967, 0.03141075907815481, 2.6706584930961125e-14, -0.03141075907810142, -0.06279051952928637, -0.09410831331848721, -0.12533323356427706, -0.1564344650402036, -0.18738131458569734, -0.21814324139651528, -0.24868988716482754, -0.2789911060392021, -0.3090169943749203, -0.3387379202452644, -0.36812455268465116, -0.397147890634754, -0.42577929156504624, -0.4539904997395206, -0.48175367410168934, -0.5090414157503457, -0.5358267949789713, -0.5620833778521057, -0.5877852522924486, -0.6129070536529524, -0.6374239897486661, -0.6613118653236287, -0.6845471059286661, -0.7071067811865255, -0.72896862742139, -0.7501110696304387, -0.770513242775769, -0.7901550123756709, -0.8090169943749286, -0.8270805742745437, -0.8443279255019978, -0.860742027003927, -0.8763066800438478, -0.8910065241883529, -0.9048270524660054, -0.9177546256839679, -0.929776485888239, -0.940880768954214, -0.9510565162951431, -0.9602936856769336, -0.9685831611286226, -0.9759167619387399, -0.9822872507286822, -0.9876883405951323, -0.9921147013144734, -0.9955619646030767, -0.9980267284282693, -0.9995065603657305]}],                        {\"template\": {\"data\": {\"bar\": [{\"error_x\": {\"color\": \"#2a3f5f\"}, \"error_y\": {\"color\": \"#2a3f5f\"}, \"marker\": {\"line\": {\"color\": \"#E5ECF6\", \"width\": 0.5}}, \"type\": \"bar\"}], \"barpolar\": [{\"marker\": {\"line\": {\"color\": \"#E5ECF6\", \"width\": 0.5}}, \"type\": \"barpolar\"}], \"carpet\": [{\"aaxis\": {\"endlinecolor\": \"#2a3f5f\", \"gridcolor\": \"white\", \"linecolor\": \"white\", \"minorgridcolor\": \"white\", \"startlinecolor\": \"#2a3f5f\"}, \"baxis\": {\"endlinecolor\": \"#2a3f5f\", \"gridcolor\": \"white\", \"linecolor\": \"white\", \"minorgridcolor\": \"white\", \"startlinecolor\": \"#2a3f5f\"}, \"type\": \"carpet\"}], \"choropleth\": [{\"colorbar\": {\"outlinewidth\": 0, \"ticks\": \"\"}, \"type\": \"choropleth\"}], \"contour\": [{\"colorbar\": {\"outlinewidth\": 0, \"ticks\": \"\"}, \"colorscale\": [[0.0, \"#0d0887\"], [0.1111111111111111, \"#46039f\"], [0.2222222222222222, \"#7201a8\"], [0.3333333333333333, \"#9c179e\"], [0.4444444444444444, \"#bd3786\"], [0.5555555555555556, \"#d8576b\"], [0.6666666666666666, \"#ed7953\"], [0.7777777777777778, \"#fb9f3a\"], [0.8888888888888888, \"#fdca26\"], [1.0, \"#f0f921\"]], \"type\": \"contour\"}], \"contourcarpet\": [{\"colorbar\": {\"outlinewidth\": 0, \"ticks\": \"\"}, \"type\": \"contourcarpet\"}], \"heatmap\": [{\"colorbar\": {\"outlinewidth\": 0, \"ticks\": \"\"}, \"colorscale\": [[0.0, \"#0d0887\"], [0.1111111111111111, \"#46039f\"], [0.2222222222222222, \"#7201a8\"], [0.3333333333333333, \"#9c179e\"], [0.4444444444444444, \"#bd3786\"], [0.5555555555555556, \"#d8576b\"], [0.6666666666666666, \"#ed7953\"], [0.7777777777777778, \"#fb9f3a\"], [0.8888888888888888, \"#fdca26\"], [1.0, \"#f0f921\"]], \"type\": \"heatmap\"}], \"heatmapgl\": [{\"colorbar\": {\"outlinewidth\": 0, \"ticks\": \"\"}, \"colorscale\": [[0.0, \"#0d0887\"], [0.1111111111111111, \"#46039f\"], [0.2222222222222222, \"#7201a8\"], [0.3333333333333333, \"#9c179e\"], [0.4444444444444444, \"#bd3786\"], [0.5555555555555556, \"#d8576b\"], [0.6666666666666666, \"#ed7953\"], [0.7777777777777778, \"#fb9f3a\"], [0.8888888888888888, \"#fdca26\"], [1.0, \"#f0f921\"]], \"type\": \"heatmapgl\"}], \"histogram\": [{\"marker\": {\"colorbar\": {\"outlinewidth\": 0, \"ticks\": \"\"}}, \"type\": \"histogram\"}], \"histogram2d\": [{\"colorbar\": {\"outlinewidth\": 0, \"ticks\": \"\"}, \"colorscale\": [[0.0, \"#0d0887\"], [0.1111111111111111, \"#46039f\"], [0.2222222222222222, \"#7201a8\"], [0.3333333333333333, \"#9c179e\"], [0.4444444444444444, \"#bd3786\"], [0.5555555555555556, \"#d8576b\"], [0.6666666666666666, \"#ed7953\"], [0.7777777777777778, \"#fb9f3a\"], [0.8888888888888888, \"#fdca26\"], [1.0, \"#f0f921\"]], \"type\": \"histogram2d\"}], \"histogram2dcontour\": [{\"colorbar\": {\"outlinewidth\": 0, \"ticks\": \"\"}, \"colorscale\": [[0.0, \"#0d0887\"], [0.1111111111111111, \"#46039f\"], [0.2222222222222222, \"#7201a8\"], [0.3333333333333333, \"#9c179e\"], [0.4444444444444444, \"#bd3786\"], [0.5555555555555556, \"#d8576b\"], [0.6666666666666666, \"#ed7953\"], [0.7777777777777778, \"#fb9f3a\"], [0.8888888888888888, \"#fdca26\"], [1.0, \"#f0f921\"]], \"type\": \"histogram2dcontour\"}], \"mesh3d\": [{\"colorbar\": {\"outlinewidth\": 0, \"ticks\": \"\"}, \"type\": \"mesh3d\"}], \"parcoords\": [{\"line\": {\"colorbar\": {\"outlinewidth\": 0, \"ticks\": \"\"}}, \"type\": \"parcoords\"}], \"pie\": [{\"automargin\": true, \"type\": \"pie\"}], \"scatter\": [{\"marker\": {\"colorbar\": {\"outlinewidth\": 0, \"ticks\": \"\"}}, \"type\": \"scatter\"}], \"scatter3d\": [{\"line\": {\"colorbar\": {\"outlinewidth\": 0, \"ticks\": \"\"}}, \"marker\": {\"colorbar\": {\"outlinewidth\": 0, \"ticks\": \"\"}}, \"type\": \"scatter3d\"}], \"scattercarpet\": [{\"marker\": {\"colorbar\": {\"outlinewidth\": 0, \"ticks\": \"\"}}, \"type\": \"scattercarpet\"}], \"scattergeo\": [{\"marker\": {\"colorbar\": {\"outlinewidth\": 0, \"ticks\": \"\"}}, \"type\": \"scattergeo\"}], \"scattergl\": [{\"marker\": {\"colorbar\": {\"outlinewidth\": 0, \"ticks\": \"\"}}, \"type\": \"scattergl\"}], \"scattermapbox\": [{\"marker\": {\"colorbar\": {\"outlinewidth\": 0, \"ticks\": \"\"}}, \"type\": \"scattermapbox\"}], \"scatterpolar\": [{\"marker\": {\"colorbar\": {\"outlinewidth\": 0, \"ticks\": \"\"}}, \"type\": \"scatterpolar\"}], \"scatterpolargl\": [{\"marker\": {\"colorbar\": {\"outlinewidth\": 0, \"ticks\": \"\"}}, \"type\": \"scatterpolargl\"}], \"scatterternary\": [{\"marker\": {\"colorbar\": {\"outlinewidth\": 0, \"ticks\": \"\"}}, \"type\": \"scatterternary\"}], \"surface\": [{\"colorbar\": {\"outlinewidth\": 0, \"ticks\": \"\"}, \"colorscale\": [[0.0, \"#0d0887\"], [0.1111111111111111, \"#46039f\"], [0.2222222222222222, \"#7201a8\"], [0.3333333333333333, \"#9c179e\"], [0.4444444444444444, \"#bd3786\"], [0.5555555555555556, \"#d8576b\"], [0.6666666666666666, \"#ed7953\"], [0.7777777777777778, \"#fb9f3a\"], [0.8888888888888888, \"#fdca26\"], [1.0, \"#f0f921\"]], \"type\": \"surface\"}], \"table\": [{\"cells\": {\"fill\": {\"color\": \"#EBF0F8\"}, \"line\": {\"color\": \"white\"}}, \"header\": {\"fill\": {\"color\": \"#C8D4E3\"}, \"line\": {\"color\": \"white\"}}, \"type\": \"table\"}]}, \"layout\": {\"annotationdefaults\": {\"arrowcolor\": \"#2a3f5f\", \"arrowhead\": 0, \"arrowwidth\": 1}, \"autotypenumbers\": \"strict\", \"coloraxis\": {\"colorbar\": {\"outlinewidth\": 0, \"ticks\": \"\"}}, \"colorscale\": {\"diverging\": [[0, \"#8e0152\"], [0.1, \"#c51b7d\"], [0.2, \"#de77ae\"], [0.3, \"#f1b6da\"], [0.4, \"#fde0ef\"], [0.5, \"#f7f7f7\"], [0.6, \"#e6f5d0\"], [0.7, \"#b8e186\"], [0.8, \"#7fbc41\"], [0.9, \"#4d9221\"], [1, \"#276419\"]], \"sequential\": [[0.0, \"#0d0887\"], [0.1111111111111111, \"#46039f\"], [0.2222222222222222, \"#7201a8\"], [0.3333333333333333, \"#9c179e\"], [0.4444444444444444, \"#bd3786\"], [0.5555555555555556, \"#d8576b\"], [0.6666666666666666, \"#ed7953\"], [0.7777777777777778, \"#fb9f3a\"], [0.8888888888888888, \"#fdca26\"], [1.0, \"#f0f921\"]], \"sequentialminus\": [[0.0, \"#0d0887\"], [0.1111111111111111, \"#46039f\"], [0.2222222222222222, \"#7201a8\"], [0.3333333333333333, \"#9c179e\"], [0.4444444444444444, \"#bd3786\"], [0.5555555555555556, \"#d8576b\"], [0.6666666666666666, \"#ed7953\"], [0.7777777777777778, \"#fb9f3a\"], [0.8888888888888888, \"#fdca26\"], [1.0, \"#f0f921\"]]}, \"colorway\": [\"#636efa\", \"#EF553B\", \"#00cc96\", \"#ab63fa\", \"#FFA15A\", \"#19d3f3\", \"#FF6692\", \"#B6E880\", \"#FF97FF\", \"#FECB52\"], \"font\": {\"color\": \"#2a3f5f\"}, \"geo\": {\"bgcolor\": \"white\", \"lakecolor\": \"white\", \"landcolor\": \"#E5ECF6\", \"showlakes\": true, \"showland\": true, \"subunitcolor\": \"white\"}, \"hoverlabel\": {\"align\": \"left\"}, \"hovermode\": \"closest\", \"mapbox\": {\"style\": \"light\"}, \"paper_bgcolor\": \"white\", \"plot_bgcolor\": \"#E5ECF6\", \"polar\": {\"angularaxis\": {\"gridcolor\": \"white\", \"linecolor\": \"white\", \"ticks\": \"\"}, \"bgcolor\": \"#E5ECF6\", \"radialaxis\": {\"gridcolor\": \"white\", \"linecolor\": \"white\", \"ticks\": \"\"}}, \"scene\": {\"xaxis\": {\"backgroundcolor\": \"#E5ECF6\", \"gridcolor\": \"white\", \"gridwidth\": 2, \"linecolor\": \"white\", \"showbackground\": true, \"ticks\": \"\", \"zerolinecolor\": \"white\"}, \"yaxis\": {\"backgroundcolor\": \"#E5ECF6\", \"gridcolor\": \"white\", \"gridwidth\": 2, \"linecolor\": \"white\", \"showbackground\": true, \"ticks\": \"\", \"zerolinecolor\": \"white\"}, \"zaxis\": {\"backgroundcolor\": \"#E5ECF6\", \"gridcolor\": \"white\", \"gridwidth\": 2, \"linecolor\": \"white\", \"showbackground\": true, \"ticks\": \"\", \"zerolinecolor\": \"white\"}}, \"shapedefaults\": {\"line\": {\"color\": \"#2a3f5f\"}}, \"ternary\": {\"aaxis\": {\"gridcolor\": \"white\", \"linecolor\": \"white\", \"ticks\": \"\"}, \"baxis\": {\"gridcolor\": \"white\", \"linecolor\": \"white\", \"ticks\": \"\"}, \"bgcolor\": \"#E5ECF6\", \"caxis\": {\"gridcolor\": \"white\", \"linecolor\": \"white\", \"ticks\": \"\"}}, \"title\": {\"x\": 0.05}, \"xaxis\": {\"automargin\": true, \"gridcolor\": \"white\", \"linecolor\": \"white\", \"ticks\": \"\", \"title\": {\"standoff\": 15}, \"zerolinecolor\": \"white\", \"zerolinewidth\": 2}, \"yaxis\": {\"automargin\": true, \"gridcolor\": \"white\", \"linecolor\": \"white\", \"ticks\": \"\", \"title\": {\"standoff\": 15}, \"zerolinecolor\": \"white\", \"zerolinewidth\": 2}}}},                        {\"responsive\": true}                    ).then(function(){\n",
       "                            \n",
       "var gd = document.getElementById('880395e4-504a-4913-b0de-d56cf74070cd');\n",
       "var x = new MutationObserver(function (mutations, observer) {{\n",
       "        var display = window.getComputedStyle(gd).display;\n",
       "        if (!display || display === 'none') {{\n",
       "            console.log([gd, 'removed!']);\n",
       "            Plotly.purge(gd);\n",
       "            observer.disconnect();\n",
       "        }}\n",
       "}});\n",
       "\n",
       "// Listen for the removal of the full notebook cells\n",
       "var notebookContainer = gd.closest('#notebook-container');\n",
       "if (notebookContainer) {{\n",
       "    x.observe(notebookContainer, {childList: true});\n",
       "}}\n",
       "\n",
       "// Listen for the clearing of the current output cell\n",
       "var outputEl = gd.closest('.output');\n",
       "if (outputEl) {{\n",
       "    x.observe(outputEl, {childList: true});\n",
       "}}\n",
       "\n",
       "                        })                };                });            </script>        </div>"
      ]
     },
     "metadata": {},
     "output_type": "display_data"
    }
   ],
   "source": [
    "fig1.data[0].mode = 'lines'\n",
    "fig1"
   ]
  },
  {
   "cell_type": "markdown",
   "metadata": {},
   "source": [
    "# Understand go.FigureWidget object"
   ]
  },
  {
   "cell_type": "markdown",
   "metadata": {},
   "source": [
    "### Create a go.FigureWidget object from go.Figure"
   ]
  },
  {
   "cell_type": "code",
   "execution_count": 88,
   "metadata": {},
   "outputs": [
    {
     "data": {
      "application/vnd.jupyter.widget-view+json": {
       "model_id": "",
       "version_major": 2,
       "version_minor": 0
      },
      "text/plain": [
       "FigureWidget({\n",
       "    'data': [{'type': 'scatter',\n",
       "              'uid': '87cc417f-85e5-4296-9a5d-bda1a2855a5f',\n",
       " …"
      ]
     },
     "metadata": {},
     "output_type": "display_data"
    }
   ],
   "source": [
    "fig0 = go.Figure(go.Scatter(x=t,y = np.sin(t)))\n",
    "fig0.add_trace(go.Scatter(x=[t[0]], y=[np.sin(t[0])]))\n",
    "\n",
    "fig = go.FigureWidget(fig0)\n",
    "fig"
   ]
  },
  {
   "cell_type": "markdown",
   "metadata": {},
   "source": [
    "Trying to make y = sin(t) dashed. Let's operate on fig0"
   ]
  },
  {
   "cell_type": "code",
   "execution_count": 90,
   "metadata": {},
   "outputs": [],
   "source": [
    "c1 = fig0.data[0]"
   ]
  },
  {
   "cell_type": "code",
   "execution_count": 91,
   "metadata": {},
   "outputs": [],
   "source": [
    "c1.line.dash = 'dash'"
   ]
  },
  {
   "cell_type": "markdown",
   "metadata": {},
   "source": [
    "Operating on fig0 did not work. It changes fig0, but not the interactive figure widget:"
   ]
  },
  {
   "cell_type": "code",
   "execution_count": 92,
   "metadata": {},
   "outputs": [
    {
     "data": {
      "application/vnd.plotly.v1+json": {
       "config": {
        "plotlyServerURL": "https://plot.ly"
       },
       "data": [
        {
         "line": {
          "dash": "dash"
         },
         "type": "scatter",
         "x": [
          -3.141592653589793,
          -3.1101767270538954,
          -3.0787608005179976,
          -3.0473448739821,
          -3.015928947446202,
          -2.9845130209103043,
          -2.9530970943744066,
          -2.921681167838509,
          -2.890265241302611,
          -2.8588493147667133,
          -2.8274333882308156,
          -2.796017461694918,
          -2.76460153515902,
          -2.7331856086231223,
          -2.7017696820872246,
          -2.670353755551327,
          -2.638937829015429,
          -2.6075219024795313,
          -2.5761059759436336,
          -2.544690049407736,
          -2.513274122871838,
          -2.4818581963359403,
          -2.4504422698000425,
          -2.419026343264145,
          -2.387610416728247,
          -2.3561944901923493,
          -2.3247785636564515,
          -2.2933626371205538,
          -2.261946710584656,
          -2.2305307840487583,
          -2.1991148575128605,
          -2.1676989309769628,
          -2.136283004441065,
          -2.1048670779051672,
          -2.0734511513692695,
          -2.0420352248333717,
          -2.010619298297474,
          -1.9792033717615762,
          -1.9477874452256785,
          -1.9163715186897807,
          -1.884955592153883,
          -1.8535396656179852,
          -1.8221237390820875,
          -1.7907078125461897,
          -1.759291886010292,
          -1.7278759594743942,
          -1.6964600329384965,
          -1.6650441064025987,
          -1.633628179866701,
          -1.6022122533308032,
          -1.5707963267949054,
          -1.5393804002590077,
          -1.50796447372311,
          -1.4765485471872122,
          -1.4451326206513144,
          -1.4137166941154167,
          -1.382300767579519,
          -1.3508848410436212,
          -1.3194689145077234,
          -1.2880529879718257,
          -1.256637061435928,
          -1.2252211349000302,
          -1.1938052083641324,
          -1.1623892818282346,
          -1.130973355292337,
          -1.0995574287564391,
          -1.0681415022205414,
          -1.0367255756846436,
          -1.0053096491487459,
          -0.9738937226128481,
          -0.9424777960769504,
          -0.9110618695410526,
          -0.8796459430051549,
          -0.8482300164692571,
          -0.8168140899333594,
          -0.7853981633974616,
          -0.7539822368615638,
          -0.7225663103256661,
          -0.6911503837897683,
          -0.6597344572538706,
          -0.6283185307179728,
          -0.5969026041820751,
          -0.5654866776461773,
          -0.5340707511102796,
          -0.5026548245743818,
          -0.47123889803848407,
          -0.4398229715025863,
          -0.40840704496668856,
          -0.3769911184307908,
          -0.34557519189489305,
          -0.3141592653589953,
          -0.28274333882309755,
          -0.2513274122871998,
          -0.21991148575130204,
          -0.18849555921540428,
          -0.15707963267950653,
          -0.12566370614360878,
          -0.09424777960771102,
          -0.06283185307181327,
          -0.03141592653591552,
          -1.7763568394002505e-14,
          0.03141592653587999,
          0.06283185307177774,
          0.0942477796076755,
          0.12566370614357325,
          0.157079632679471,
          0.18849555921536876,
          0.2199114857512665,
          0.25132741228716426,
          0.282743338823062,
          0.31415926535895977,
          0.3455751918948575,
          0.3769911184307553,
          0.40840704496665303,
          0.4398229715025508,
          0.47123889803844854,
          0.5026548245743463,
          0.534070751110244,
          0.5654866776461418,
          0.5969026041820396,
          0.6283185307179373,
          0.6597344572538351,
          0.6911503837897328,
          0.7225663103256306,
          0.7539822368615283,
          0.7853981633974261,
          0.8168140899333238,
          0.8482300164692216,
          0.8796459430051193,
          0.9110618695410171,
          0.9424777960769148,
          0.9738937226128126,
          1.0053096491487103,
          1.036725575684608,
          1.0681415022205059,
          1.0995574287564036,
          1.1309733552923014,
          1.1623892818281991,
          1.1938052083640969,
          1.2252211348999946,
          1.2566370614358924,
          1.2880529879717901,
          1.3194689145076879,
          1.3508848410435856,
          1.3823007675794834,
          1.4137166941153811,
          1.445132620651279,
          1.4765485471871767,
          1.5079644737230744,
          1.5393804002589722,
          1.57079632679487,
          1.6022122533307677,
          1.6336281798666654,
          1.6650441064025632,
          1.696460032938461,
          1.7278759594743587,
          1.7592918860102564,
          1.7907078125461542,
          1.822123739082052,
          1.8535396656179497,
          1.8849555921538474,
          1.9163715186897452,
          1.947787445225643,
          1.9792033717615407,
          2.0106192982974385,
          2.042035224833336,
          2.073451151369234,
          2.1048670779051317,
          2.1362830044410295,
          2.1676989309769272,
          2.199114857512825,
          2.2305307840487227,
          2.2619467105846205,
          2.2933626371205182,
          2.324778563656416,
          2.3561944901923138,
          2.3876104167282115,
          2.4190263432641093,
          2.450442269800007,
          2.4818581963359048,
          2.5132741228718025,
          2.5446900494077003,
          2.576105975943598,
          2.607521902479496,
          2.6389378290153935,
          2.6703537555512913,
          2.701769682087189,
          2.733185608623087,
          2.7646015351589845,
          2.7960174616948823,
          2.82743338823078,
          2.858849314766678,
          2.8902652413025756,
          2.9216811678384733,
          2.953097094374371,
          2.984513020910269,
          3.0159289474461666,
          3.0473448739820643,
          3.078760800517962,
          3.11017672705386
         ],
         "y": [
          -1.2246467991473532e-16,
          -0.03141075907812824,
          -0.06279051952931314,
          -0.09410831331851391,
          -0.12533323356430365,
          -0.1564344650402301,
          -0.18738131458572369,
          -0.21814324139654143,
          -0.24868988716485352,
          -0.27899110603922783,
          -0.30901699437494584,
          -0.33873792024528965,
          -0.3681245526846761,
          -0.39714789063477857,
          -0.4257792915650705,
          -0.45399049973954453,
          -0.4817536741017129,
          -0.5090414157503688,
          -0.535826794978994,
          -0.5620833778521279,
          -0.5877852522924704,
          -0.6129070536529736,
          -0.6374239897486867,
          -0.6613118653236488,
          -0.6845471059286856,
          -0.7071067811865445,
          -0.7289686274214084,
          -0.7501110696304565,
          -0.7705132427757861,
          -0.7901550123756873,
          -0.8090169943749443,
          -0.8270805742745588,
          -0.8443279255020121,
          -0.8607420270039408,
          -0.8763066800438607,
          -0.8910065241883651,
          -0.9048270524660168,
          -0.9177546256839786,
          -0.9297764858882489,
          -0.9408807689542231,
          -0.9510565162951514,
          -0.9602936856769411,
          -0.9685831611286293,
          -0.9759167619387458,
          -0.9822872507286873,
          -0.9876883405951364,
          -0.9921147013144768,
          -0.9955619646030792,
          -0.998026728428271,
          -0.9995065603657313,
          -1,
          -0.9995065603657318,
          -0.9980267284282721,
          -0.9955619646030809,
          -0.992114701314479,
          -0.9876883405951392,
          -0.9822872507286905,
          -0.9759167619387497,
          -0.9685831611286336,
          -0.960293685676946,
          -0.9510565162951569,
          -0.9408807689542291,
          -0.9297764858882555,
          -0.9177546256839856,
          -0.9048270524660244,
          -0.8910065241883731,
          -0.8763066800438692,
          -0.8607420270039496,
          -0.8443279255020215,
          -0.8270805742745687,
          -0.8090169943749547,
          -0.7901550123756981,
          -0.7705132427757972,
          -0.750111069630468,
          -0.7289686274214204,
          -0.7071067811865569,
          -0.6845471059286985,
          -0.6613118653236622,
          -0.6374239897487004,
          -0.6129070536529876,
          -0.5877852522924846,
          -0.5620833778521425,
          -0.5358267949790089,
          -0.509041415750384,
          -0.4817536741017283,
          -0.45399049973956024,
          -0.4257792915650865,
          -0.3971478906347948,
          -0.36812455268469246,
          -0.33873792024530625,
          -0.3090169943749626,
          -0.27899110603924476,
          -0.24868988716487062,
          -0.21814324139655866,
          -0.18738131458574103,
          -0.15643446504024752,
          -0.12533323356432116,
          -0.09410831331853146,
          -0.06279051952933075,
          -0.03141075907814587,
          -1.7763568394002505e-14,
          0.03141075907811036,
          0.06279051952929529,
          0.0941083133184961,
          0.1253332335642859,
          0.15643446504021244,
          0.18738131458570612,
          0.218143241396524,
          0.2486898871648362,
          0.2789911060392106,
          0.3090169943749288,
          0.3387379202452728,
          0.36812455268465943,
          0.3971478906347622,
          0.42577929156505434,
          0.4539904997395286,
          0.4817536741016972,
          0.5090414157503534,
          0.5358267949789789,
          0.562083377852113,
          0.5877852522924558,
          0.6129070536529595,
          0.637423989748673,
          0.6613118653236355,
          0.6845471059286726,
          0.7071067811865318,
          0.7289686274213962,
          0.7501110696304446,
          0.7705132427757747,
          0.7901550123756762,
          0.8090169943749338,
          0.8270805742745487,
          0.8443279255020024,
          0.8607420270039315,
          0.876306680043852,
          0.8910065241883569,
          0.9048270524660093,
          0.9177546256839715,
          0.9297764858882424,
          0.9408807689542171,
          0.9510565162951459,
          0.9602936856769361,
          0.9685831611286249,
          0.9759167619387419,
          0.9822872507286838,
          0.9876883405951337,
          0.9921147013144745,
          0.9955619646030776,
          0.9980267284282699,
          0.9995065603657307,
          1,
          0.9995065603657324,
          0.9980267284282732,
          0.9955619646030825,
          0.9921147013144813,
          0.987688340595142,
          0.9822872507286939,
          0.9759167619387535,
          0.9685831611286381,
          0.960293685676951,
          0.9510565162951624,
          0.9408807689542352,
          0.929776485888262,
          0.9177546256839927,
          0.904827052466032,
          0.8910065241883812,
          0.8763066800438779,
          0.8607420270039587,
          0.8443279255020312,
          0.8270805742745788,
          0.8090169943749652,
          0.7901550123757091,
          0.7705132427758088,
          0.7501110696304799,
          0.7289686274214328,
          0.7071067811865696,
          0.6845471059287115,
          0.6613118653236756,
          0.6374239897487142,
          0.6129070536530017,
          0.5877852522924991,
          0.5620833778521572,
          0.535826794979024,
          0.5090414157503994,
          0.481753674101744,
          0.45399049973957617,
          0.42577929156510264,
          0.3971478906348112,
          0.3681245526847091,
          0.33873792024532307,
          0.3090169943749796,
          0.2789911060392619,
          0.2486898871648879,
          0.21814324139657612,
          0.18738131458575857,
          0.15643446504026517,
          0.1253332335643389,
          0.09410831331854928,
          0.0627905195293486,
          0.03141075907816375
         ]
        },
        {
         "type": "scatter",
         "x": [
          -3.141592653589793
         ],
         "y": [
          -1.2246467991473532e-16
         ]
        }
       ],
       "layout": {
        "autosize": true,
        "template": {
         "data": {
          "bar": [
           {
            "error_x": {
             "color": "#2a3f5f"
            },
            "error_y": {
             "color": "#2a3f5f"
            },
            "marker": {
             "line": {
              "color": "#E5ECF6",
              "width": 0.5
             }
            },
            "type": "bar"
           }
          ],
          "barpolar": [
           {
            "marker": {
             "line": {
              "color": "#E5ECF6",
              "width": 0.5
             }
            },
            "type": "barpolar"
           }
          ],
          "carpet": [
           {
            "aaxis": {
             "endlinecolor": "#2a3f5f",
             "gridcolor": "white",
             "linecolor": "white",
             "minorgridcolor": "white",
             "startlinecolor": "#2a3f5f"
            },
            "baxis": {
             "endlinecolor": "#2a3f5f",
             "gridcolor": "white",
             "linecolor": "white",
             "minorgridcolor": "white",
             "startlinecolor": "#2a3f5f"
            },
            "type": "carpet"
           }
          ],
          "choropleth": [
           {
            "colorbar": {
             "outlinewidth": 0,
             "ticks": ""
            },
            "type": "choropleth"
           }
          ],
          "contour": [
           {
            "colorbar": {
             "outlinewidth": 0,
             "ticks": ""
            },
            "colorscale": [
             [
              0,
              "#0d0887"
             ],
             [
              0.1111111111111111,
              "#46039f"
             ],
             [
              0.2222222222222222,
              "#7201a8"
             ],
             [
              0.3333333333333333,
              "#9c179e"
             ],
             [
              0.4444444444444444,
              "#bd3786"
             ],
             [
              0.5555555555555556,
              "#d8576b"
             ],
             [
              0.6666666666666666,
              "#ed7953"
             ],
             [
              0.7777777777777778,
              "#fb9f3a"
             ],
             [
              0.8888888888888888,
              "#fdca26"
             ],
             [
              1,
              "#f0f921"
             ]
            ],
            "type": "contour"
           }
          ],
          "contourcarpet": [
           {
            "colorbar": {
             "outlinewidth": 0,
             "ticks": ""
            },
            "type": "contourcarpet"
           }
          ],
          "heatmap": [
           {
            "colorbar": {
             "outlinewidth": 0,
             "ticks": ""
            },
            "colorscale": [
             [
              0,
              "#0d0887"
             ],
             [
              0.1111111111111111,
              "#46039f"
             ],
             [
              0.2222222222222222,
              "#7201a8"
             ],
             [
              0.3333333333333333,
              "#9c179e"
             ],
             [
              0.4444444444444444,
              "#bd3786"
             ],
             [
              0.5555555555555556,
              "#d8576b"
             ],
             [
              0.6666666666666666,
              "#ed7953"
             ],
             [
              0.7777777777777778,
              "#fb9f3a"
             ],
             [
              0.8888888888888888,
              "#fdca26"
             ],
             [
              1,
              "#f0f921"
             ]
            ],
            "type": "heatmap"
           }
          ],
          "heatmapgl": [
           {
            "colorbar": {
             "outlinewidth": 0,
             "ticks": ""
            },
            "colorscale": [
             [
              0,
              "#0d0887"
             ],
             [
              0.1111111111111111,
              "#46039f"
             ],
             [
              0.2222222222222222,
              "#7201a8"
             ],
             [
              0.3333333333333333,
              "#9c179e"
             ],
             [
              0.4444444444444444,
              "#bd3786"
             ],
             [
              0.5555555555555556,
              "#d8576b"
             ],
             [
              0.6666666666666666,
              "#ed7953"
             ],
             [
              0.7777777777777778,
              "#fb9f3a"
             ],
             [
              0.8888888888888888,
              "#fdca26"
             ],
             [
              1,
              "#f0f921"
             ]
            ],
            "type": "heatmapgl"
           }
          ],
          "histogram": [
           {
            "marker": {
             "colorbar": {
              "outlinewidth": 0,
              "ticks": ""
             }
            },
            "type": "histogram"
           }
          ],
          "histogram2d": [
           {
            "colorbar": {
             "outlinewidth": 0,
             "ticks": ""
            },
            "colorscale": [
             [
              0,
              "#0d0887"
             ],
             [
              0.1111111111111111,
              "#46039f"
             ],
             [
              0.2222222222222222,
              "#7201a8"
             ],
             [
              0.3333333333333333,
              "#9c179e"
             ],
             [
              0.4444444444444444,
              "#bd3786"
             ],
             [
              0.5555555555555556,
              "#d8576b"
             ],
             [
              0.6666666666666666,
              "#ed7953"
             ],
             [
              0.7777777777777778,
              "#fb9f3a"
             ],
             [
              0.8888888888888888,
              "#fdca26"
             ],
             [
              1,
              "#f0f921"
             ]
            ],
            "type": "histogram2d"
           }
          ],
          "histogram2dcontour": [
           {
            "colorbar": {
             "outlinewidth": 0,
             "ticks": ""
            },
            "colorscale": [
             [
              0,
              "#0d0887"
             ],
             [
              0.1111111111111111,
              "#46039f"
             ],
             [
              0.2222222222222222,
              "#7201a8"
             ],
             [
              0.3333333333333333,
              "#9c179e"
             ],
             [
              0.4444444444444444,
              "#bd3786"
             ],
             [
              0.5555555555555556,
              "#d8576b"
             ],
             [
              0.6666666666666666,
              "#ed7953"
             ],
             [
              0.7777777777777778,
              "#fb9f3a"
             ],
             [
              0.8888888888888888,
              "#fdca26"
             ],
             [
              1,
              "#f0f921"
             ]
            ],
            "type": "histogram2dcontour"
           }
          ],
          "mesh3d": [
           {
            "colorbar": {
             "outlinewidth": 0,
             "ticks": ""
            },
            "type": "mesh3d"
           }
          ],
          "parcoords": [
           {
            "line": {
             "colorbar": {
              "outlinewidth": 0,
              "ticks": ""
             }
            },
            "type": "parcoords"
           }
          ],
          "pie": [
           {
            "automargin": true,
            "type": "pie"
           }
          ],
          "scatter": [
           {
            "marker": {
             "colorbar": {
              "outlinewidth": 0,
              "ticks": ""
             }
            },
            "type": "scatter"
           }
          ],
          "scatter3d": [
           {
            "line": {
             "colorbar": {
              "outlinewidth": 0,
              "ticks": ""
             }
            },
            "marker": {
             "colorbar": {
              "outlinewidth": 0,
              "ticks": ""
             }
            },
            "type": "scatter3d"
           }
          ],
          "scattercarpet": [
           {
            "marker": {
             "colorbar": {
              "outlinewidth": 0,
              "ticks": ""
             }
            },
            "type": "scattercarpet"
           }
          ],
          "scattergeo": [
           {
            "marker": {
             "colorbar": {
              "outlinewidth": 0,
              "ticks": ""
             }
            },
            "type": "scattergeo"
           }
          ],
          "scattergl": [
           {
            "marker": {
             "colorbar": {
              "outlinewidth": 0,
              "ticks": ""
             }
            },
            "type": "scattergl"
           }
          ],
          "scattermapbox": [
           {
            "marker": {
             "colorbar": {
              "outlinewidth": 0,
              "ticks": ""
             }
            },
            "type": "scattermapbox"
           }
          ],
          "scatterpolar": [
           {
            "marker": {
             "colorbar": {
              "outlinewidth": 0,
              "ticks": ""
             }
            },
            "type": "scatterpolar"
           }
          ],
          "scatterpolargl": [
           {
            "marker": {
             "colorbar": {
              "outlinewidth": 0,
              "ticks": ""
             }
            },
            "type": "scatterpolargl"
           }
          ],
          "scatterternary": [
           {
            "marker": {
             "colorbar": {
              "outlinewidth": 0,
              "ticks": ""
             }
            },
            "type": "scatterternary"
           }
          ],
          "surface": [
           {
            "colorbar": {
             "outlinewidth": 0,
             "ticks": ""
            },
            "colorscale": [
             [
              0,
              "#0d0887"
             ],
             [
              0.1111111111111111,
              "#46039f"
             ],
             [
              0.2222222222222222,
              "#7201a8"
             ],
             [
              0.3333333333333333,
              "#9c179e"
             ],
             [
              0.4444444444444444,
              "#bd3786"
             ],
             [
              0.5555555555555556,
              "#d8576b"
             ],
             [
              0.6666666666666666,
              "#ed7953"
             ],
             [
              0.7777777777777778,
              "#fb9f3a"
             ],
             [
              0.8888888888888888,
              "#fdca26"
             ],
             [
              1,
              "#f0f921"
             ]
            ],
            "type": "surface"
           }
          ],
          "table": [
           {
            "cells": {
             "fill": {
              "color": "#EBF0F8"
             },
             "line": {
              "color": "white"
             }
            },
            "header": {
             "fill": {
              "color": "#C8D4E3"
             },
             "line": {
              "color": "white"
             }
            },
            "type": "table"
           }
          ]
         },
         "layout": {
          "annotationdefaults": {
           "arrowcolor": "#2a3f5f",
           "arrowhead": 0,
           "arrowwidth": 1
          },
          "autotypenumbers": "strict",
          "coloraxis": {
           "colorbar": {
            "outlinewidth": 0,
            "ticks": ""
           }
          },
          "colorscale": {
           "diverging": [
            [
             0,
             "#8e0152"
            ],
            [
             0.1,
             "#c51b7d"
            ],
            [
             0.2,
             "#de77ae"
            ],
            [
             0.3,
             "#f1b6da"
            ],
            [
             0.4,
             "#fde0ef"
            ],
            [
             0.5,
             "#f7f7f7"
            ],
            [
             0.6,
             "#e6f5d0"
            ],
            [
             0.7,
             "#b8e186"
            ],
            [
             0.8,
             "#7fbc41"
            ],
            [
             0.9,
             "#4d9221"
            ],
            [
             1,
             "#276419"
            ]
           ],
           "sequential": [
            [
             0,
             "#0d0887"
            ],
            [
             0.1111111111111111,
             "#46039f"
            ],
            [
             0.2222222222222222,
             "#7201a8"
            ],
            [
             0.3333333333333333,
             "#9c179e"
            ],
            [
             0.4444444444444444,
             "#bd3786"
            ],
            [
             0.5555555555555556,
             "#d8576b"
            ],
            [
             0.6666666666666666,
             "#ed7953"
            ],
            [
             0.7777777777777778,
             "#fb9f3a"
            ],
            [
             0.8888888888888888,
             "#fdca26"
            ],
            [
             1,
             "#f0f921"
            ]
           ],
           "sequentialminus": [
            [
             0,
             "#0d0887"
            ],
            [
             0.1111111111111111,
             "#46039f"
            ],
            [
             0.2222222222222222,
             "#7201a8"
            ],
            [
             0.3333333333333333,
             "#9c179e"
            ],
            [
             0.4444444444444444,
             "#bd3786"
            ],
            [
             0.5555555555555556,
             "#d8576b"
            ],
            [
             0.6666666666666666,
             "#ed7953"
            ],
            [
             0.7777777777777778,
             "#fb9f3a"
            ],
            [
             0.8888888888888888,
             "#fdca26"
            ],
            [
             1,
             "#f0f921"
            ]
           ]
          },
          "colorway": [
           "#636efa",
           "#EF553B",
           "#00cc96",
           "#ab63fa",
           "#FFA15A",
           "#19d3f3",
           "#FF6692",
           "#B6E880",
           "#FF97FF",
           "#FECB52"
          ],
          "font": {
           "color": "#2a3f5f"
          },
          "geo": {
           "bgcolor": "white",
           "lakecolor": "white",
           "landcolor": "#E5ECF6",
           "showlakes": true,
           "showland": true,
           "subunitcolor": "white"
          },
          "hoverlabel": {
           "align": "left"
          },
          "hovermode": "closest",
          "mapbox": {
           "style": "light"
          },
          "paper_bgcolor": "white",
          "plot_bgcolor": "#E5ECF6",
          "polar": {
           "angularaxis": {
            "gridcolor": "white",
            "linecolor": "white",
            "ticks": ""
           },
           "bgcolor": "#E5ECF6",
           "radialaxis": {
            "gridcolor": "white",
            "linecolor": "white",
            "ticks": ""
           }
          },
          "scene": {
           "xaxis": {
            "backgroundcolor": "#E5ECF6",
            "gridcolor": "white",
            "gridwidth": 2,
            "linecolor": "white",
            "showbackground": true,
            "ticks": "",
            "zerolinecolor": "white"
           },
           "yaxis": {
            "backgroundcolor": "#E5ECF6",
            "gridcolor": "white",
            "gridwidth": 2,
            "linecolor": "white",
            "showbackground": true,
            "ticks": "",
            "zerolinecolor": "white"
           },
           "zaxis": {
            "backgroundcolor": "#E5ECF6",
            "gridcolor": "white",
            "gridwidth": 2,
            "linecolor": "white",
            "showbackground": true,
            "ticks": "",
            "zerolinecolor": "white"
           }
          },
          "shapedefaults": {
           "line": {
            "color": "#2a3f5f"
           }
          },
          "ternary": {
           "aaxis": {
            "gridcolor": "white",
            "linecolor": "white",
            "ticks": ""
           },
           "baxis": {
            "gridcolor": "white",
            "linecolor": "white",
            "ticks": ""
           },
           "bgcolor": "#E5ECF6",
           "caxis": {
            "gridcolor": "white",
            "linecolor": "white",
            "ticks": ""
           }
          },
          "title": {
           "x": 0.05
          },
          "xaxis": {
           "automargin": true,
           "gridcolor": "white",
           "linecolor": "white",
           "ticks": "",
           "title": {
            "standoff": 15
           },
           "zerolinecolor": "white",
           "zerolinewidth": 2
          },
          "yaxis": {
           "automargin": true,
           "gridcolor": "white",
           "linecolor": "white",
           "ticks": "",
           "title": {
            "standoff": 15
           },
           "zerolinecolor": "white",
           "zerolinewidth": 2
          }
         }
        },
        "xaxis": {
         "autorange": true,
         "range": [
          -3.515416809459875,
          3.11017672705386
         ],
         "type": "linear"
        },
        "yaxis": {
         "autorange": true,
         "range": [
          -1.1111111111111112,
          1.1111111111111112
         ],
         "type": "linear"
        }
       }
      },
      "image/png": "[encoded data removed]",
      "text/html": [
       "<div>                            <div id=\"d3294ec9-5514-4d52-9543-2fc347888a24\" class=\"plotly-graph-div\" style=\"height:525px; width:100%;\"></div>            <script type=\"text/javascript\">                require([\"plotly\"], function(Plotly) {                    window.PLOTLYENV=window.PLOTLYENV || {};                                    if (document.getElementById(\"d3294ec9-5514-4d52-9543-2fc347888a24\")) {                    Plotly.newPlot(                        \"d3294ec9-5514-4d52-9543-2fc347888a24\",                        [{\"line\": {\"dash\": \"dash\"}, \"type\": \"scatter\", \"x\": [-3.141592653589793, -3.1101767270538954, -3.0787608005179976, -3.0473448739821, -3.015928947446202, -2.9845130209103043, -2.9530970943744066, -2.921681167838509, -2.890265241302611, -2.8588493147667133, -2.8274333882308156, -2.796017461694918, -2.76460153515902, -2.7331856086231223, -2.7017696820872246, -2.670353755551327, -2.638937829015429, -2.6075219024795313, -2.5761059759436336, -2.544690049407736, -2.513274122871838, -2.4818581963359403, -2.4504422698000425, -2.419026343264145, -2.387610416728247, -2.3561944901923493, -2.3247785636564515, -2.2933626371205538, -2.261946710584656, -2.2305307840487583, -2.1991148575128605, -2.1676989309769628, -2.136283004441065, -2.1048670779051672, -2.0734511513692695, -2.0420352248333717, -2.010619298297474, -1.9792033717615762, -1.9477874452256785, -1.9163715186897807, -1.884955592153883, -1.8535396656179852, -1.8221237390820875, -1.7907078125461897, -1.759291886010292, -1.7278759594743942, -1.6964600329384965, -1.6650441064025987, -1.633628179866701, -1.6022122533308032, -1.5707963267949054, -1.5393804002590077, -1.50796447372311, -1.4765485471872122, -1.4451326206513144, -1.4137166941154167, -1.382300767579519, -1.3508848410436212, -1.3194689145077234, -1.2880529879718257, -1.256637061435928, -1.2252211349000302, -1.1938052083641324, -1.1623892818282346, -1.130973355292337, -1.0995574287564391, -1.0681415022205414, -1.0367255756846436, -1.0053096491487459, -0.9738937226128481, -0.9424777960769504, -0.9110618695410526, -0.8796459430051549, -0.8482300164692571, -0.8168140899333594, -0.7853981633974616, -0.7539822368615638, -0.7225663103256661, -0.6911503837897683, -0.6597344572538706, -0.6283185307179728, -0.5969026041820751, -0.5654866776461773, -0.5340707511102796, -0.5026548245743818, -0.47123889803848407, -0.4398229715025863, -0.40840704496668856, -0.3769911184307908, -0.34557519189489305, -0.3141592653589953, -0.28274333882309755, -0.2513274122871998, -0.21991148575130204, -0.18849555921540428, -0.15707963267950653, -0.12566370614360878, -0.09424777960771102, -0.06283185307181327, -0.03141592653591552, -1.7763568394002505e-14, 0.03141592653587999, 0.06283185307177774, 0.0942477796076755, 0.12566370614357325, 0.157079632679471, 0.18849555921536876, 0.2199114857512665, 0.25132741228716426, 0.282743338823062, 0.31415926535895977, 0.3455751918948575, 0.3769911184307553, 0.40840704496665303, 0.4398229715025508, 0.47123889803844854, 0.5026548245743463, 0.534070751110244, 0.5654866776461418, 0.5969026041820396, 0.6283185307179373, 0.6597344572538351, 0.6911503837897328, 0.7225663103256306, 0.7539822368615283, 0.7853981633974261, 0.8168140899333238, 0.8482300164692216, 0.8796459430051193, 0.9110618695410171, 0.9424777960769148, 0.9738937226128126, 1.0053096491487103, 1.036725575684608, 1.0681415022205059, 1.0995574287564036, 1.1309733552923014, 1.1623892818281991, 1.1938052083640969, 1.2252211348999946, 1.2566370614358924, 1.2880529879717901, 1.3194689145076879, 1.3508848410435856, 1.3823007675794834, 1.4137166941153811, 1.445132620651279, 1.4765485471871767, 1.5079644737230744, 1.5393804002589722, 1.57079632679487, 1.6022122533307677, 1.6336281798666654, 1.6650441064025632, 1.696460032938461, 1.7278759594743587, 1.7592918860102564, 1.7907078125461542, 1.822123739082052, 1.8535396656179497, 1.8849555921538474, 1.9163715186897452, 1.947787445225643, 1.9792033717615407, 2.0106192982974385, 2.042035224833336, 2.073451151369234, 2.1048670779051317, 2.1362830044410295, 2.1676989309769272, 2.199114857512825, 2.2305307840487227, 2.2619467105846205, 2.2933626371205182, 2.324778563656416, 2.3561944901923138, 2.3876104167282115, 2.4190263432641093, 2.450442269800007, 2.4818581963359048, 2.5132741228718025, 2.5446900494077003, 2.576105975943598, 2.607521902479496, 2.6389378290153935, 2.6703537555512913, 2.701769682087189, 2.733185608623087, 2.7646015351589845, 2.7960174616948823, 2.82743338823078, 2.858849314766678, 2.8902652413025756, 2.9216811678384733, 2.953097094374371, 2.984513020910269, 3.0159289474461666, 3.0473448739820643, 3.078760800517962, 3.11017672705386], \"y\": [-1.2246467991473532e-16, -0.03141075907812824, -0.06279051952931314, -0.09410831331851391, -0.12533323356430365, -0.1564344650402301, -0.18738131458572369, -0.21814324139654143, -0.24868988716485352, -0.27899110603922783, -0.30901699437494584, -0.33873792024528965, -0.3681245526846761, -0.39714789063477857, -0.4257792915650705, -0.45399049973954453, -0.4817536741017129, -0.5090414157503688, -0.535826794978994, -0.5620833778521279, -0.5877852522924704, -0.6129070536529736, -0.6374239897486867, -0.6613118653236488, -0.6845471059286856, -0.7071067811865445, -0.7289686274214084, -0.7501110696304565, -0.7705132427757861, -0.7901550123756873, -0.8090169943749443, -0.8270805742745588, -0.8443279255020121, -0.8607420270039408, -0.8763066800438607, -0.8910065241883651, -0.9048270524660168, -0.9177546256839786, -0.9297764858882489, -0.9408807689542231, -0.9510565162951514, -0.9602936856769411, -0.9685831611286293, -0.9759167619387458, -0.9822872507286873, -0.9876883405951364, -0.9921147013144768, -0.9955619646030792, -0.998026728428271, -0.9995065603657313, -1.0, -0.9995065603657318, -0.9980267284282721, -0.9955619646030809, -0.992114701314479, -0.9876883405951392, -0.9822872507286905, -0.9759167619387497, -0.9685831611286336, -0.960293685676946, -0.9510565162951569, -0.9408807689542291, -0.9297764858882555, -0.9177546256839856, -0.9048270524660244, -0.8910065241883731, -0.8763066800438692, -0.8607420270039496, -0.8443279255020215, -0.8270805742745687, -0.8090169943749547, -0.7901550123756981, -0.7705132427757972, -0.750111069630468, -0.7289686274214204, -0.7071067811865569, -0.6845471059286985, -0.6613118653236622, -0.6374239897487004, -0.6129070536529876, -0.5877852522924846, -0.5620833778521425, -0.5358267949790089, -0.509041415750384, -0.4817536741017283, -0.45399049973956024, -0.4257792915650865, -0.3971478906347948, -0.36812455268469246, -0.33873792024530625, -0.3090169943749626, -0.27899110603924476, -0.24868988716487062, -0.21814324139655866, -0.18738131458574103, -0.15643446504024752, -0.12533323356432116, -0.09410831331853146, -0.06279051952933075, -0.03141075907814587, -1.7763568394002505e-14, 0.03141075907811036, 0.06279051952929529, 0.0941083133184961, 0.1253332335642859, 0.15643446504021244, 0.18738131458570612, 0.218143241396524, 0.2486898871648362, 0.2789911060392106, 0.3090169943749288, 0.3387379202452728, 0.36812455268465943, 0.3971478906347622, 0.42577929156505434, 0.4539904997395286, 0.4817536741016972, 0.5090414157503534, 0.5358267949789789, 0.562083377852113, 0.5877852522924558, 0.6129070536529595, 0.637423989748673, 0.6613118653236355, 0.6845471059286726, 0.7071067811865318, 0.7289686274213962, 0.7501110696304446, 0.7705132427757747, 0.7901550123756762, 0.8090169943749338, 0.8270805742745487, 0.8443279255020024, 0.8607420270039315, 0.876306680043852, 0.8910065241883569, 0.9048270524660093, 0.9177546256839715, 0.9297764858882424, 0.9408807689542171, 0.9510565162951459, 0.9602936856769361, 0.9685831611286249, 0.9759167619387419, 0.9822872507286838, 0.9876883405951337, 0.9921147013144745, 0.9955619646030776, 0.9980267284282699, 0.9995065603657307, 1.0, 0.9995065603657324, 0.9980267284282732, 0.9955619646030825, 0.9921147013144813, 0.987688340595142, 0.9822872507286939, 0.9759167619387535, 0.9685831611286381, 0.960293685676951, 0.9510565162951624, 0.9408807689542352, 0.929776485888262, 0.9177546256839927, 0.904827052466032, 0.8910065241883812, 0.8763066800438779, 0.8607420270039587, 0.8443279255020312, 0.8270805742745788, 0.8090169943749652, 0.7901550123757091, 0.7705132427758088, 0.7501110696304799, 0.7289686274214328, 0.7071067811865696, 0.6845471059287115, 0.6613118653236756, 0.6374239897487142, 0.6129070536530017, 0.5877852522924991, 0.5620833778521572, 0.535826794979024, 0.5090414157503994, 0.481753674101744, 0.45399049973957617, 0.42577929156510264, 0.3971478906348112, 0.3681245526847091, 0.33873792024532307, 0.3090169943749796, 0.2789911060392619, 0.2486898871648879, 0.21814324139657612, 0.18738131458575857, 0.15643446504026517, 0.1253332335643389, 0.09410831331854928, 0.0627905195293486, 0.03141075907816375]}, {\"type\": \"scatter\", \"x\": [-3.141592653589793], \"y\": [-1.2246467991473532e-16]}],                        {\"template\": {\"data\": {\"bar\": [{\"error_x\": {\"color\": \"#2a3f5f\"}, \"error_y\": {\"color\": \"#2a3f5f\"}, \"marker\": {\"line\": {\"color\": \"#E5ECF6\", \"width\": 0.5}}, \"type\": \"bar\"}], \"barpolar\": [{\"marker\": {\"line\": {\"color\": \"#E5ECF6\", \"width\": 0.5}}, \"type\": \"barpolar\"}], \"carpet\": [{\"aaxis\": {\"endlinecolor\": \"#2a3f5f\", \"gridcolor\": \"white\", \"linecolor\": \"white\", \"minorgridcolor\": \"white\", \"startlinecolor\": \"#2a3f5f\"}, \"baxis\": {\"endlinecolor\": \"#2a3f5f\", \"gridcolor\": \"white\", \"linecolor\": \"white\", \"minorgridcolor\": \"white\", \"startlinecolor\": \"#2a3f5f\"}, \"type\": \"carpet\"}], \"choropleth\": [{\"colorbar\": {\"outlinewidth\": 0, \"ticks\": \"\"}, \"type\": \"choropleth\"}], \"contour\": [{\"colorbar\": {\"outlinewidth\": 0, \"ticks\": \"\"}, \"colorscale\": [[0.0, \"#0d0887\"], [0.1111111111111111, \"#46039f\"], [0.2222222222222222, \"#7201a8\"], [0.3333333333333333, \"#9c179e\"], [0.4444444444444444, \"#bd3786\"], [0.5555555555555556, \"#d8576b\"], [0.6666666666666666, \"#ed7953\"], [0.7777777777777778, \"#fb9f3a\"], [0.8888888888888888, \"#fdca26\"], [1.0, \"#f0f921\"]], \"type\": \"contour\"}], \"contourcarpet\": [{\"colorbar\": {\"outlinewidth\": 0, \"ticks\": \"\"}, \"type\": \"contourcarpet\"}], \"heatmap\": [{\"colorbar\": {\"outlinewidth\": 0, \"ticks\": \"\"}, \"colorscale\": [[0.0, \"#0d0887\"], [0.1111111111111111, \"#46039f\"], [0.2222222222222222, \"#7201a8\"], [0.3333333333333333, \"#9c179e\"], [0.4444444444444444, \"#bd3786\"], [0.5555555555555556, \"#d8576b\"], [0.6666666666666666, \"#ed7953\"], [0.7777777777777778, \"#fb9f3a\"], [0.8888888888888888, \"#fdca26\"], [1.0, \"#f0f921\"]], \"type\": \"heatmap\"}], \"heatmapgl\": [{\"colorbar\": {\"outlinewidth\": 0, \"ticks\": \"\"}, \"colorscale\": [[0.0, \"#0d0887\"], [0.1111111111111111, \"#46039f\"], [0.2222222222222222, \"#7201a8\"], [0.3333333333333333, \"#9c179e\"], [0.4444444444444444, \"#bd3786\"], [0.5555555555555556, \"#d8576b\"], [0.6666666666666666, \"#ed7953\"], [0.7777777777777778, \"#fb9f3a\"], [0.8888888888888888, \"#fdca26\"], [1.0, \"#f0f921\"]], \"type\": \"heatmapgl\"}], \"histogram\": [{\"marker\": {\"colorbar\": {\"outlinewidth\": 0, \"ticks\": \"\"}}, \"type\": \"histogram\"}], \"histogram2d\": [{\"colorbar\": {\"outlinewidth\": 0, \"ticks\": \"\"}, \"colorscale\": [[0.0, \"#0d0887\"], [0.1111111111111111, \"#46039f\"], [0.2222222222222222, \"#7201a8\"], [0.3333333333333333, \"#9c179e\"], [0.4444444444444444, \"#bd3786\"], [0.5555555555555556, \"#d8576b\"], [0.6666666666666666, \"#ed7953\"], [0.7777777777777778, \"#fb9f3a\"], [0.8888888888888888, \"#fdca26\"], [1.0, \"#f0f921\"]], \"type\": \"histogram2d\"}], \"histogram2dcontour\": [{\"colorbar\": {\"outlinewidth\": 0, \"ticks\": \"\"}, \"colorscale\": [[0.0, \"#0d0887\"], [0.1111111111111111, \"#46039f\"], [0.2222222222222222, \"#7201a8\"], [0.3333333333333333, \"#9c179e\"], [0.4444444444444444, \"#bd3786\"], [0.5555555555555556, \"#d8576b\"], [0.6666666666666666, \"#ed7953\"], [0.7777777777777778, \"#fb9f3a\"], [0.8888888888888888, \"#fdca26\"], [1.0, \"#f0f921\"]], \"type\": \"histogram2dcontour\"}], \"mesh3d\": [{\"colorbar\": {\"outlinewidth\": 0, \"ticks\": \"\"}, \"type\": \"mesh3d\"}], \"parcoords\": [{\"line\": {\"colorbar\": {\"outlinewidth\": 0, \"ticks\": \"\"}}, \"type\": \"parcoords\"}], \"pie\": [{\"automargin\": true, \"type\": \"pie\"}], \"scatter\": [{\"marker\": {\"colorbar\": {\"outlinewidth\": 0, \"ticks\": \"\"}}, \"type\": \"scatter\"}], \"scatter3d\": [{\"line\": {\"colorbar\": {\"outlinewidth\": 0, \"ticks\": \"\"}}, \"marker\": {\"colorbar\": {\"outlinewidth\": 0, \"ticks\": \"\"}}, \"type\": \"scatter3d\"}], \"scattercarpet\": [{\"marker\": {\"colorbar\": {\"outlinewidth\": 0, \"ticks\": \"\"}}, \"type\": \"scattercarpet\"}], \"scattergeo\": [{\"marker\": {\"colorbar\": {\"outlinewidth\": 0, \"ticks\": \"\"}}, \"type\": \"scattergeo\"}], \"scattergl\": [{\"marker\": {\"colorbar\": {\"outlinewidth\": 0, \"ticks\": \"\"}}, \"type\": \"scattergl\"}], \"scattermapbox\": [{\"marker\": {\"colorbar\": {\"outlinewidth\": 0, \"ticks\": \"\"}}, \"type\": \"scattermapbox\"}], \"scatterpolar\": [{\"marker\": {\"colorbar\": {\"outlinewidth\": 0, \"ticks\": \"\"}}, \"type\": \"scatterpolar\"}], \"scatterpolargl\": [{\"marker\": {\"colorbar\": {\"outlinewidth\": 0, \"ticks\": \"\"}}, \"type\": \"scatterpolargl\"}], \"scatterternary\": [{\"marker\": {\"colorbar\": {\"outlinewidth\": 0, \"ticks\": \"\"}}, \"type\": \"scatterternary\"}], \"surface\": [{\"colorbar\": {\"outlinewidth\": 0, \"ticks\": \"\"}, \"colorscale\": [[0.0, \"#0d0887\"], [0.1111111111111111, \"#46039f\"], [0.2222222222222222, \"#7201a8\"], [0.3333333333333333, \"#9c179e\"], [0.4444444444444444, \"#bd3786\"], [0.5555555555555556, \"#d8576b\"], [0.6666666666666666, \"#ed7953\"], [0.7777777777777778, \"#fb9f3a\"], [0.8888888888888888, \"#fdca26\"], [1.0, \"#f0f921\"]], \"type\": \"surface\"}], \"table\": [{\"cells\": {\"fill\": {\"color\": \"#EBF0F8\"}, \"line\": {\"color\": \"white\"}}, \"header\": {\"fill\": {\"color\": \"#C8D4E3\"}, \"line\": {\"color\": \"white\"}}, \"type\": \"table\"}]}, \"layout\": {\"annotationdefaults\": {\"arrowcolor\": \"#2a3f5f\", \"arrowhead\": 0, \"arrowwidth\": 1}, \"autotypenumbers\": \"strict\", \"coloraxis\": {\"colorbar\": {\"outlinewidth\": 0, \"ticks\": \"\"}}, \"colorscale\": {\"diverging\": [[0, \"#8e0152\"], [0.1, \"#c51b7d\"], [0.2, \"#de77ae\"], [0.3, \"#f1b6da\"], [0.4, \"#fde0ef\"], [0.5, \"#f7f7f7\"], [0.6, \"#e6f5d0\"], [0.7, \"#b8e186\"], [0.8, \"#7fbc41\"], [0.9, \"#4d9221\"], [1, \"#276419\"]], \"sequential\": [[0.0, \"#0d0887\"], [0.1111111111111111, \"#46039f\"], [0.2222222222222222, \"#7201a8\"], [0.3333333333333333, \"#9c179e\"], [0.4444444444444444, \"#bd3786\"], [0.5555555555555556, \"#d8576b\"], [0.6666666666666666, \"#ed7953\"], [0.7777777777777778, \"#fb9f3a\"], [0.8888888888888888, \"#fdca26\"], [1.0, \"#f0f921\"]], \"sequentialminus\": [[0.0, \"#0d0887\"], [0.1111111111111111, \"#46039f\"], [0.2222222222222222, \"#7201a8\"], [0.3333333333333333, \"#9c179e\"], [0.4444444444444444, \"#bd3786\"], [0.5555555555555556, \"#d8576b\"], [0.6666666666666666, \"#ed7953\"], [0.7777777777777778, \"#fb9f3a\"], [0.8888888888888888, \"#fdca26\"], [1.0, \"#f0f921\"]]}, \"colorway\": [\"#636efa\", \"#EF553B\", \"#00cc96\", \"#ab63fa\", \"#FFA15A\", \"#19d3f3\", \"#FF6692\", \"#B6E880\", \"#FF97FF\", \"#FECB52\"], \"font\": {\"color\": \"#2a3f5f\"}, \"geo\": {\"bgcolor\": \"white\", \"lakecolor\": \"white\", \"landcolor\": \"#E5ECF6\", \"showlakes\": true, \"showland\": true, \"subunitcolor\": \"white\"}, \"hoverlabel\": {\"align\": \"left\"}, \"hovermode\": \"closest\", \"mapbox\": {\"style\": \"light\"}, \"paper_bgcolor\": \"white\", \"plot_bgcolor\": \"#E5ECF6\", \"polar\": {\"angularaxis\": {\"gridcolor\": \"white\", \"linecolor\": \"white\", \"ticks\": \"\"}, \"bgcolor\": \"#E5ECF6\", \"radialaxis\": {\"gridcolor\": \"white\", \"linecolor\": \"white\", \"ticks\": \"\"}}, \"scene\": {\"xaxis\": {\"backgroundcolor\": \"#E5ECF6\", \"gridcolor\": \"white\", \"gridwidth\": 2, \"linecolor\": \"white\", \"showbackground\": true, \"ticks\": \"\", \"zerolinecolor\": \"white\"}, \"yaxis\": {\"backgroundcolor\": \"#E5ECF6\", \"gridcolor\": \"white\", \"gridwidth\": 2, \"linecolor\": \"white\", \"showbackground\": true, \"ticks\": \"\", \"zerolinecolor\": \"white\"}, \"zaxis\": {\"backgroundcolor\": \"#E5ECF6\", \"gridcolor\": \"white\", \"gridwidth\": 2, \"linecolor\": \"white\", \"showbackground\": true, \"ticks\": \"\", \"zerolinecolor\": \"white\"}}, \"shapedefaults\": {\"line\": {\"color\": \"#2a3f5f\"}}, \"ternary\": {\"aaxis\": {\"gridcolor\": \"white\", \"linecolor\": \"white\", \"ticks\": \"\"}, \"baxis\": {\"gridcolor\": \"white\", \"linecolor\": \"white\", \"ticks\": \"\"}, \"bgcolor\": \"#E5ECF6\", \"caxis\": {\"gridcolor\": \"white\", \"linecolor\": \"white\", \"ticks\": \"\"}}, \"title\": {\"x\": 0.05}, \"xaxis\": {\"automargin\": true, \"gridcolor\": \"white\", \"linecolor\": \"white\", \"ticks\": \"\", \"title\": {\"standoff\": 15}, \"zerolinecolor\": \"white\", \"zerolinewidth\": 2}, \"yaxis\": {\"automargin\": true, \"gridcolor\": \"white\", \"linecolor\": \"white\", \"ticks\": \"\", \"title\": {\"standoff\": 15}, \"zerolinecolor\": \"white\", \"zerolinewidth\": 2}}}},                        {\"responsive\": true}                    ).then(function(){\n",
       "                            \n",
       "var gd = document.getElementById('d3294ec9-5514-4d52-9543-2fc347888a24');\n",
       "var x = new MutationObserver(function (mutations, observer) {{\n",
       "        var display = window.getComputedStyle(gd).display;\n",
       "        if (!display || display === 'none') {{\n",
       "            console.log([gd, 'removed!']);\n",
       "            Plotly.purge(gd);\n",
       "            observer.disconnect();\n",
       "        }}\n",
       "}});\n",
       "\n",
       "// Listen for the removal of the full notebook cells\n",
       "var notebookContainer = gd.closest('#notebook-container');\n",
       "if (notebookContainer) {{\n",
       "    x.observe(notebookContainer, {childList: true});\n",
       "}}\n",
       "\n",
       "// Listen for the clearing of the current output cell\n",
       "var outputEl = gd.closest('.output');\n",
       "if (outputEl) {{\n",
       "    x.observe(outputEl, {childList: true});\n",
       "}}\n",
       "\n",
       "                        })                };                });            </script>        </div>"
      ]
     },
     "metadata": {},
     "output_type": "display_data"
    }
   ],
   "source": [
    "fig0"
   ]
  },
  {
   "cell_type": "markdown",
   "metadata": {},
   "source": [
    "Let's try to do the same with the widget. This shows that there is no need to create fig0. "
   ]
  },
  {
   "cell_type": "code",
   "execution_count": 95,
   "metadata": {},
   "outputs": [],
   "source": [
    "fig.data[0].line.dash = 'dash'"
   ]
  },
  {
   "cell_type": "markdown",
   "metadata": {},
   "source": [
    "**Let's make the red dot move**"
   ]
  },
  {
   "cell_type": "code",
   "execution_count": 99,
   "metadata": {},
   "outputs": [],
   "source": [
    "for i in range(t.size):\n",
    "    fig.data[1].x = [t[i]]\n",
    "    fig.data[1].y = [np.sin(t[i])]\n",
    "    #sleep(.1)\n",
    "  "
   ]
  },
  {
   "cell_type": "code",
   "execution_count": 103,
   "metadata": {},
   "outputs": [],
   "source": [
    "fig.layout.title ='$y=sin(x)$'\n",
    "\n",
    "fig.layout.titlefont.family = 'LaTex'\n",
    "\n",
    "fig.layout.xaxis.title = '$x$'"
   ]
  },
  {
   "cell_type": "markdown",
   "metadata": {},
   "source": [
    "## Let's do the same without extra variables\n",
    "* Plot y = sin(x) with dashed line\n",
    "* Trace a red dot along it"
   ]
  },
  {
   "cell_type": "code",
   "execution_count": 6,
   "metadata": {},
   "outputs": [
    {
     "data": {
      "application/vnd.jupyter.widget-view+json": {
       "model_id": "",
       "version_major": 2,
       "version_minor": 0
      },
      "text/plain": [
       "FigureWidget({\n",
       "    'data': [{'line': {'dash': 'dash'},\n",
       "              'type': 'scatter',\n",
       "              'uid': '…"
      ]
     },
     "metadata": {},
     "output_type": "display_data"
    }
   ],
   "source": [
    "f = go.FigureWidget(go.Figure(go.Scatter(x=t, y= np.sin(t))))\n",
    "f.data[0].line.dash = 'dash'\n",
    "f.add_trace(go.Scatter(x=[t[0]], y = [np.sin(t[0])]))"
   ]
  },
  {
   "cell_type": "markdown",
   "metadata": {},
   "source": [
    "# Updating live"
   ]
  },
  {
   "cell_type": "code",
   "execution_count": 42,
   "metadata": {},
   "outputs": [
    {
     "data": {
      "application/vnd.jupyter.widget-view+json": {
       "model_id": "659b6b5f16b94cb28f6966301745c427",
       "version_major": 2,
       "version_minor": 0
      },
      "text/plain": [
       "FigureWidget({\n",
       "    'data': [{'line': {'dash': 'dash'},\n",
       "              'type': 'scatter',\n",
       "              'uid': '…"
      ]
     },
     "metadata": {},
     "output_type": "display_data"
    }
   ],
   "source": [
    "f"
   ]
  },
  {
   "cell_type": "code",
   "execution_count": 32,
   "metadata": {},
   "outputs": [],
   "source": [
    "for i in range(11):\n",
    "    with f.batch_update():\n",
    "        phi = 2*np.pi/10*i-np.pi\n",
    "        f.data[1].x=[phi]\n",
    "        f.data[1].y=[np.sin(phi)]\n",
    "        f.layout.title.text = str(i)\n",
    "    sleep(.2)"
   ]
  },
  {
   "cell_type": "markdown",
   "metadata": {},
   "source": [
    "### Shorter code"
   ]
  },
  {
   "cell_type": "code",
   "execution_count": 40,
   "metadata": {},
   "outputs": [],
   "source": [
    "for i in range(11):\n",
    "    with f.batch_update():\n",
    "        phi = 2*np.pi/10*i-np.pi\n",
    "        f.data[1].update(x=[phi],y = [np.sin(phi)])\n",
    "        f.layout.title.text = str(i)\n",
    "    sleep(.4)"
   ]
  },
  {
   "cell_type": "markdown",
   "metadata": {},
   "source": [
    "### Animate"
   ]
  },
  {
   "cell_type": "code",
   "execution_count": 45,
   "metadata": {},
   "outputs": [],
   "source": [
    "for i in range(11):\n",
    "    with f.batch_animate(easing='cubic'):\n",
    "        phi = 2*np.pi/10*i-np.pi\n",
    "        f.data[1].update(x=[phi],y = [np.sin(phi)])\n",
    "        f.layout.title.text = str(i)\n",
    "    "
   ]
  },
  {
   "cell_type": "code",
   "execution_count": null,
   "metadata": {},
   "outputs": [],
   "source": []
  },
  {
   "cell_type": "code",
   "execution_count": null,
   "metadata": {},
   "outputs": [],
   "source": []
  }
 ],
 "metadata": {
  "kernelspec": {
   "display_name": "Python 3",
   "language": "python",
   "name": "python3"
  },
  "language_info": {
   "codemirror_mode": {
    "name": "ipython",
    "version": 3
   },
   "file_extension": ".py",
   "mimetype": "text/x-python",
   "name": "python",
   "nbconvert_exporter": "python",
   "pygments_lexer": "ipython3",
   "version": "3.8.5"
  }
 },
 "nbformat": 4,
 "nbformat_minor": 4
}
