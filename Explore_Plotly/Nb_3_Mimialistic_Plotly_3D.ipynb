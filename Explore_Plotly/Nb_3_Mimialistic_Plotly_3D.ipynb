{
 "cells": [
  {
   "cell_type": "code",
   "execution_count": 1,
   "metadata": {},
   "outputs": [
    {
     "data": {
      "application/vnd.jupyter.widget-view+json": {
       "model_id": "ee9098e4c24b42e7b5a1d63da1ad17f5",
       "version_major": 2,
       "version_minor": 0
      },
      "text/plain": [
       "FigureWidget({\n",
       "    'data': [{'colorscale': [[0.0, 'rgb(247,251,255)'], [0.125,\n",
       "                             'r…"
      ]
     },
     "metadata": {},
     "output_type": "display_data"
    }
   ],
   "source": [
    "import numpy as np\n",
    "import plotly.graph_objs as go\n",
    "from time import sleep\n",
    "\n",
    "\n",
    "x = np.arange(0,2.*np.pi,np.pi/100)-np.pi\n",
    "y = np.arange(0,2.*np.pi,np.pi/100)-np.pi\n",
    "\n",
    "xx, yy = np.meshgrid(x,y)\n",
    "zz = np.sin(xx)*np.cos(yy)\n",
    "\n",
    "\n",
    "fig = go.FigureWidget(layout_width = 400, layout_height = 400)\n",
    "\n",
    "\n",
    "fig.add_heatmap(x = x, y = y, z=zz, colorscale = 'blues')\n",
    "\n",
    "\n",
    "fig.add_scatter(x=[1.], y=[0], \n",
    "            marker_color = 'red',\n",
    "            marker_size = 10)\n",
    "\n",
    "fig"
   ]
  },
  {
   "cell_type": "code",
   "execution_count": 2,
   "metadata": {},
   "outputs": [],
   "source": [
    "N = 10\n",
    "for i in range(N+1):\n",
    "    phi=np.pi/N*i\n",
    "    with fig.batch_update():\n",
    "        fig.data[1].update(x=[np.cos(phi)],y = [np.sin(phi)])\n",
    "        fig.layout.title.text = 'i='+ str(i)\n",
    "    sleep(.6)"
   ]
  },
  {
   "cell_type": "code",
   "execution_count": null,
   "metadata": {},
   "outputs": [],
   "source": []
  }
 ],
 "metadata": {
  "kernelspec": {
   "display_name": "Python 3",
   "language": "python",
   "name": "python3"
  },
  "language_info": {
   "codemirror_mode": {
    "name": "ipython",
    "version": 3
   },
   "file_extension": ".py",
   "mimetype": "text/x-python",
   "name": "python",
   "nbconvert_exporter": "python",
   "pygments_lexer": "ipython3",
   "version": "3.8.5"
  }
 },
 "nbformat": 4,
 "nbformat_minor": 4
}
