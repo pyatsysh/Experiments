{
 "cells": [
  {
   "cell_type": "markdown",
   "metadata": {},
   "source": [
    "# Point moving on surface. Prototype for output function for ODE solvers or optimisers\n",
    "* Make a plotly-widget surface z = sin(x)cos(y)\n",
    "* Adjust it nicely\n",
    "* Add a marker at x=0, y=0\n",
    "* Make it move along a surface in a for-loop\n",
    "* Make it move, supplying coordinates using a widget\n",
    "* Make it move in a for-loop, but add a stop/play button\n",
    "\n"
   ]
  },
  {
   "cell_type": "markdown",
   "metadata": {},
   "source": [
    "# Notes:"
   ]
  },
  {
   "cell_type": "markdown",
   "metadata": {},
   "source": [
    "1. When updating more than one attribute of f=go.FigureWidget, use context manager f.batch_update() -- then update will happen on all attributes at the same time. Without it, f.data[i].x = <..> and f.data[i].y = <..> can be jumpy. E.g.:\n",
    "\n",
    "        with fig1.batch_update():\n",
    "            fig1.data[1].x = [np.cos(phi)]\n",
    "            fig1.data[1].y = [np.sin(phi)]\n",
    "            fig1.layout.title = str(i)\n",
    "            \n",
    "1. If only updating traces (as opposed to traces and layout):\n",
    "        fig1.data[1].update(x=[np.cos(phi)],y = [np.sin(phi)])\n",
    "        \n",
    "1. To redraw consider plotly_restyle(), plotly_relayout()\n",
    "        fig1.plotly_restyle(dict(x=[[np.cos(phi)]], y=[[np.sin(phi)]]),1)\n",
    "        \n",
    "1. Input arguments to Heatmap are 1D, 1D and 2D arrays, whereas to Surface are three 2D arrays        "
   ]
  },
  {
   "cell_type": "code",
   "execution_count": 1,
   "metadata": {},
   "outputs": [],
   "source": [
    "%config Completer.use_jedi = False"
   ]
  },
  {
   "cell_type": "code",
   "execution_count": 2,
   "metadata": {},
   "outputs": [],
   "source": [
    "import numpy as np\n",
    "import plotly.graph_objs as go\n",
    "from time import sleep\n",
    "\n",
    "import plotly.express as px"
   ]
  },
  {
   "cell_type": "code",
   "execution_count": 3,
   "metadata": {},
   "outputs": [],
   "source": [
    "x = np.arange(0,2.*np.pi,np.pi/100)-np.pi\n",
    "y = np.arange(0,2.*np.pi,np.pi/100)-np.pi\n",
    "\n",
    "\n",
    "\n",
    "xx, yy = np.meshgrid(x,y)\n",
    "zz = np.sin(xx)*np.cos(yy)"
   ]
  },
  {
   "cell_type": "code",
   "execution_count": 7,
   "metadata": {},
   "outputs": [],
   "source": [
    "fig = go.FigureWidget(go.Figure(data=go.Surface(x = xx, y = yy, z=zz)))"
   ]
  },
  {
   "cell_type": "code",
   "execution_count": 10,
   "metadata": {},
   "outputs": [],
   "source": [
    "fig.add_trace(px.scatter_3d(x=[0],y=[0],z=[0.0]).data[0]);"
   ]
  },
  {
   "cell_type": "code",
   "execution_count": 29,
   "metadata": {},
   "outputs": [],
   "source": [
    "s = fig.data[0]"
   ]
  },
  {
   "cell_type": "code",
   "execution_count": null,
   "metadata": {},
   "outputs": [],
   "source": []
  },
  {
   "cell_type": "code",
   "execution_count": 31,
   "metadata": {},
   "outputs": [],
   "source": [
    "s = fig.data[0]"
   ]
  },
  {
   "cell_type": "code",
   "execution_count": 34,
   "metadata": {},
   "outputs": [],
   "source": [
    "s.colorscale = 'Bluered'"
   ]
  },
  {
   "cell_type": "code",
   "execution_count": null,
   "metadata": {},
   "outputs": [],
   "source": []
  },
  {
   "cell_type": "markdown",
   "metadata": {},
   "source": [
    "## Moving point on a heatmap plot"
   ]
  },
  {
   "cell_type": "code",
   "execution_count": 4,
   "metadata": {},
   "outputs": [],
   "source": [
    "fig1 = go.FigureWidget(go.Figure(data=go.Heatmap(x = x, y = y, z=zz)))"
   ]
  },
  {
   "cell_type": "code",
   "execution_count": 68,
   "metadata": {},
   "outputs": [
    {
     "data": {
      "application/vnd.jupyter.widget-view+json": {
       "model_id": "9340f90c21b04a4aaa02a3a2dd8ae402",
       "version_major": 2,
       "version_minor": 0
      },
      "text/plain": [
       "FigureWidget({\n",
       "    'data': [{'type': 'heatmap',\n",
       "              'uid': '682316d2-d2c0-4454-8437-80068aad96b8',\n",
       " …"
      ]
     },
     "metadata": {},
     "output_type": "display_data"
    }
   ],
   "source": [
    "fig1"
   ]
  },
  {
   "cell_type": "markdown",
   "metadata": {},
   "source": [
    "## Tweak layout"
   ]
  },
  {
   "cell_type": "code",
   "execution_count": 10,
   "metadata": {},
   "outputs": [],
   "source": [
    "fig1.layout.width = fig1.layout.height\n",
    "fig1.add_trace(go.Scatter(x=[0],y=[0]));\n",
    "fig1.data[1].marker.color = 'green'"
   ]
  },
  {
   "cell_type": "markdown",
   "metadata": {},
   "source": [
    "## Looping point. \n",
    "**Notice sleep() -- otherwise rendering does not catch up!**<br>\n",
    "**Consider batch_animate() -- but does not work for 3D plots**"
   ]
  },
  {
   "cell_type": "code",
   "execution_count": 67,
   "metadata": {},
   "outputs": [],
   "source": [
    "N = 10\n",
    "for i in range(N+1):\n",
    "    phi=2*np.pi/N*i+np.pi/4\n",
    "    with fig1.batch_update():\n",
    "        fig1.data[1].x = [np.cos(phi)]\n",
    "        fig1.data[1].y = [np.sin(phi)]\n",
    "        fig1.layout.title = str(i)\n",
    "    sleep(.6)"
   ]
  },
  {
   "cell_type": "markdown",
   "metadata": {},
   "source": [
    "## One-liner for only traces update:"
   ]
  },
  {
   "cell_type": "code",
   "execution_count": 70,
   "metadata": {},
   "outputs": [],
   "source": [
    "N = 10\n",
    "for i in range(N+1):\n",
    "    phi=2*np.pi/N*i+np.pi/4\n",
    "    fig1.data[1].update(x=[np.cos(phi)],y = [np.sin(phi)])\n",
    "    sleep(.6)"
   ]
  },
  {
   "cell_type": "code",
   "execution_count": null,
   "metadata": {},
   "outputs": [],
   "source": []
  },
  {
   "cell_type": "markdown",
   "metadata": {},
   "source": [
    "## Attempting full re-draw at each step"
   ]
  },
  {
   "cell_type": "code",
   "execution_count": null,
   "metadata": {},
   "outputs": [],
   "source": [
    "fig1.plot"
   ]
  },
  {
   "cell_type": "code",
   "execution_count": 77,
   "metadata": {},
   "outputs": [],
   "source": [
    "\n",
    "N = 10\n",
    "for i in range(N+1):\n",
    "    phi=2*np.pi/N*i+np.pi/4\n",
    "    with fig1.batch_update():\n",
    "        fig1.data[0].update(x=x,y=y,z=zz)\n",
    "        fig1.data[1].update(x=[np.cos(phi)],y = [np.sin(phi)])\n",
    "        fig1.update_traces(overwrite=True)\n",
    "    sleep(.6)    \n",
    "    "
   ]
  },
  {
   "cell_type": "code",
   "execution_count": 72,
   "metadata": {},
   "outputs": [
    {
     "data": {
      "application/vnd.jupyter.widget-view+json": {
       "model_id": "9340f90c21b04a4aaa02a3a2dd8ae402",
       "version_major": 2,
       "version_minor": 0
      },
      "text/plain": [
       "FigureWidget({\n",
       "    'data': [{'type': 'heatmap',\n",
       "              'uid': '682316d2-d2c0-4454-8437-80068aad96b8',\n",
       " …"
      ]
     },
     "metadata": {},
     "output_type": "display_data"
    }
   ],
   "source": []
  },
  {
   "cell_type": "code",
   "execution_count": null,
   "metadata": {},
   "outputs": [],
   "source": []
  }
 ],
 "metadata": {
  "kernelspec": {
   "display_name": "Python 3",
   "language": "python",
   "name": "python3"
  },
  "language_info": {
   "codemirror_mode": {
    "name": "ipython",
    "version": 3
   },
   "file_extension": ".py",
   "mimetype": "text/x-python",
   "name": "python",
   "nbconvert_exporter": "python",
   "pygments_lexer": "ipython3",
   "version": "3.8.5"
  }
 },
 "nbformat": 4,
 "nbformat_minor": 4
}
